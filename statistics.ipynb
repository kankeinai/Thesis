{
 "cells": [
  {
   "cell_type": "code",
   "execution_count": 6,
   "id": "484ad3e0",
   "metadata": {},
   "outputs": [],
   "source": [
    "import numpy as np\n",
    "import torch"
   ]
  },
  {
   "cell_type": "code",
   "execution_count": null,
   "id": "2e4e7fe6",
   "metadata": {},
   "outputs": [
    {
     "data": {
      "text/plain": [
       "{'train_time': 145.45849103387445,\n",
       " 'train_phys': '0.005979068935377216±0.001195363711565881',\n",
       " 'test_phys': '0.00663198041729629±0.001050087394264601',\n",
       " 'optimization_time': 44.46,\n",
       " 'optimized_phys': 9.917023e-05,\n",
       " 'J(u)': 4.8419940867461264e-05}"
      ]
     },
     "execution_count": 41,
     "metadata": {},
     "output_type": "execute_result"
    }
   ],
   "source": [
    "heat_stats = torch.load(\"trained_models/heat1d/training_stats.pt\")\n",
    "u = torch.tensor(np.load('control_pde_results/heat_control_results_solutions/u_optimal.npy', allow_pickle=True))\n",
    "y = torch.tensor(np.load('control_pde_results/heat_control_results_solutions/y_optimal.npy', allow_pickle=True))\n",
    "def gaussian_target(x, A=0.5, x0=0.5, sigma=0.1):\n",
    "        return torch.tensor(\n",
    "            A * np.exp(-((x - x0)**2) / (2 * sigma**2)),\n",
    "            dtype=torch.float32\n",
    ")\n",
    "x = np.linspace(0, 1, 64)\n",
    "\n",
    "data_heat = {\n",
    "        'train_time': sum(heat_stats['epoch']),\n",
    "         'train_phys': f\"{heat_stats['train_phys'][-1]}±{heat_stats['train_phys_sd'][-1]}\",\n",
    "         'test_phys': f\"{heat_stats['test_phys'][-1]}±{heat_stats['test_phys_sd'][-1]}\",\n",
    "        'optimization_time': 44.46,\n",
    "        'optimized_phys': 9.917023e-05,\n",
    "        'J(u)': (torch.mean((y[:, :, -1].view(64) - gaussian_target(x))**2)/2 + 0.001*torch.mean(u**2)/2).item()\n",
    "}\n",
    "data_heat"
   ]
  },
  {
   "cell_type": "code",
   "execution_count": 49,
   "id": "013a500c",
   "metadata": {},
   "outputs": [
    {
     "data": {
      "text/plain": [
       "{'train_time': 132.60049648350105,\n",
       " 'train_phys': '0.0015007079626091673±0.00023379163545387177',\n",
       " 'test_phys': '0.0016401538741774857±0.0002576472693433134',\n",
       " 'optimization_time': 36.89,\n",
       " 'optimized_phys': 0.0001082526,\n",
       " 'J(u)': 0.000930309877730906}"
      ]
     },
     "execution_count": 49,
     "metadata": {},
     "output_type": "execute_result"
    }
   ],
   "source": [
    "diffussion_stats = torch.load(\"trained_models/diffusion1d/training_stats.pt\")\n",
    "u = torch.tensor(np.load('control_pde_results/diffusion_control_results_solutions/u_optimal.npy', allow_pickle=True))\n",
    "y = torch.tensor(np.load('control_pde_results/diffusion_control_results_solutions/y_optimal.npy', allow_pickle=True))\n",
    "\n",
    "def double_gaussian_target(x, A=1.0, sigma=0.05):\n",
    "        x = torch.tensor(x, dtype=torch.float32)\n",
    "        bump1 = A * torch.exp(-((x - 0.3)**2) / (2 * sigma**2))\n",
    "        bump2 = A * torch.exp(-((x - 0.7)**2) / (2 * sigma**2))\n",
    "        return bump1 + bump2\n",
    "\n",
    "x = np.linspace(0, 1, 64)\n",
    "\n",
    "data_diffusion = {\n",
    "        'train_time': sum(heat_stats['epoch']),\n",
    "         'train_phys': f\"{heat_stats['train_phys'][-1]}±{heat_stats['train_phys_sd'][-1]}\",\n",
    "         'test_phys': f\"{heat_stats['test_phys'][-1]}±{heat_stats['test_phys_sd'][-1]}\",\n",
    "        'optimization_time': 36.89,\n",
    "        'optimized_phys': 1.082526e-04,\n",
    "        'J(u)': (torch.mean((y[:, :, -1].view(64) - double_gaussian_target(x))**2)/2 + 0.001*torch.mean(u**2)/2).item()\n",
    "}\n",
    "data_diffusion"
   ]
  },
  {
   "cell_type": "code",
   "execution_count": null,
   "id": "3a6434dc",
   "metadata": {},
   "outputs": [],
   "source": [
    "burgers_stats = torch.load(\"trained_models/burgers1d/training_stats.pt\")\n",
    "u = torch.tensor(np.load('control_pde_results/burgers_control_results_solutions/u_optimal.npy', allow_pickle=True))\n",
    "y = torch.tensor(np.load('control_pde_results/burgers_control_results_solutions/y_optimal.npy', allow_pickle=True))\n",
    "\n",
    "def shock_target(x, location=0.5, steepness=50):\n",
    "    x = torch.tensor(x, dtype=torch.float32)\n",
    "    return (1.0 / (1.0 + torch.exp(-steepness * (x - location)))) * 0.1\n",
    "\n",
    "x = np.linspace(0, 1, 64)\n",
    "\n",
    "data_diffusion = {\n",
    "        'train_time': sum(heat_stats['epoch']),\n",
    "         'train_phys': f\"{heat_stats['train_phys'][-1]}±{heat_stats['train_phys_sd'][-1]}\",\n",
    "         'test_phys': f\"{heat_stats['test_phys'][-1]}±{heat_stats['test_phys_sd'][-1]}\",\n",
    "        'optimization_time': 36.89,\n",
    "        'optimized_phys': 1.082526e-04,\n",
    "        'J(u)': (torch.mean((y[:, :, -1].view(64) - shock_target(x))**2)/2 + 0.001*torch.mean(u**2)/2).item()\n",
    "}\n",
    "data_diffusion"
   ]
  }
 ],
 "metadata": {
  "kernelspec": {
   "display_name": ".venv",
   "language": "python",
   "name": "python3"
  },
  "language_info": {
   "codemirror_mode": {
    "name": "ipython",
    "version": 3
   },
   "file_extension": ".py",
   "mimetype": "text/x-python",
   "name": "python",
   "nbconvert_exporter": "python",
   "pygments_lexer": "ipython3",
   "version": "3.10.12"
  }
 },
 "nbformat": 4,
 "nbformat_minor": 5
}

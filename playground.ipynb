{
 "cells": [
  {
   "cell_type": "markdown",
   "metadata": {},
   "source": [
    "# Notebook \\#1 - Operator Learning and Optimal Control "
   ]
  },
  {
   "cell_type": "markdown",
   "metadata": {},
   "source": [
    "In this beginning notebook, I am going to construct a framework for the learning of neural operator using DeepONet architecture and solve Diffusion Problem (to be explained later). The structure of this notebook goes as follows:\n",
    "- Implement a class for the DeepONet architecture\n",
    "- Implement a function for training of the DeepONet with given differential equation and innitial/boundary conditions \n",
    "- Generate a training dataset for the input control functions and the corresponding analytical solutions of the differential equation\n",
    "- Define loss functions associated with physics loss, innitial and boundary conditions\n",
    "- Train the DeepONet\n",
    "- Solve Feldbaum Problem\n",
    "\n",
    "\n",
    "Let's start by implementing the DeepONet architecture.\n",
    "\n"
   ]
  },
  {
   "cell_type": "code",
   "execution_count": 1,
   "metadata": {},
   "outputs": [],
   "source": [
    "import torch\n",
    "import torch.nn as nn\n",
    "import torch.nn.init as init\n",
    "from datetime import datetime\n",
    "from data import MultiFunctionDatasetODE, custom_collate_ODE_fn\n",
    "from torch.utils.data import DataLoader\n",
    "import torch.optim as optim\n",
    "import matplotlib.pyplot as plt\n",
    "import numpy as np\n",
    "import plotter"
   ]
  },
  {
   "cell_type": "markdown",
   "metadata": {},
   "source": [
    "# Implemention of the DeepONet"
   ]
  },
  {
   "cell_type": "markdown",
   "metadata": {},
   "source": [
    "`DenseNetwork(nn.Module)` takes as input 2 vectors: `layer_sizes` (size of each layer of NN including input and output sizes) and `activations` (activation function after each layer, available options include: 'relu', 'tanh', 'sigmoid', 'leaky_relu', 'elu', 'none'). This function is just a way to initialize a simple neural network."
   ]
  },
  {
   "cell_type": "code",
   "execution_count": 2,
   "metadata": {},
   "outputs": [],
   "source": [
    "class DenseNetwork(nn.Module):\n",
    "    def __init__(self, layer_sizes, activations):\n",
    "        super(DenseNetwork, self).__init__()\n",
    "        assert len(layer_sizes) - 1 == len(activations), \"Activation count must match the number of layers - 1\"\n",
    "        \n",
    "        layers = []\n",
    "        for i in range(len(layer_sizes) - 1):\n",
    "            layers.append(nn.Linear(layer_sizes[i], layer_sizes[i + 1]))\n",
    "            if activations[i] is not None:\n",
    "                layers.append(self.get_activation(activations[i]))\n",
    "        self.network = nn.Sequential(*layers)\n",
    "        \n",
    "        # Apply Glorot initialization\n",
    "        self.apply(self.initialize_weights)\n",
    "\n",
    "    def forward(self, x):\n",
    "        return self.network(x)\n",
    "    \n",
    "    @staticmethod\n",
    "    def get_activation(name):\n",
    "        activations = {\n",
    "            'relu': nn.ReLU(),\n",
    "            'tanh': nn.Tanh(),\n",
    "            'sigmoid': nn.Sigmoid(),\n",
    "            'leaky_relu': nn.LeakyReLU(),\n",
    "            'elu': nn.ELU(),\n",
    "            'none': nn.Identity()\n",
    "        }\n",
    "        if name not in activations:\n",
    "            raise ValueError(f\"Unsupported activation: {name}. Supported: {list(activations.keys())}\")\n",
    "        return activations[name]\n",
    "\n",
    "    @staticmethod\n",
    "    def initialize_weights(layer):\n",
    "\n",
    "        if isinstance(layer, nn.Linear):\n",
    "            init.xavier_uniform_(layer.weight)\n",
    "            if layer.bias is not None:\n",
    "                init.zeros_(layer.bias)"
   ]
  },
  {
   "cell_type": "markdown",
   "metadata": {},
   "source": [
    "DeepOnet has the following structure:\n",
    "- There are two neural networks: branch and trunk NNs\n",
    "- Each NN has its own output vector\n",
    "- Dot product of these two vectors is output vector of the DeepOnet\n",
    "\n",
    "The architecture can be see at the Figure 1.\n",
    "\n",
    "<center><img src=\"https://www.researchgate.net/publication/369528434/figure/fig1/AS:11431281157276229@1683770151535/DeepONet-architecture-stacked-42-used-in-the-present-study.png\" width=\"800px\">\n",
    "<p>Figure 1 - Architecture of the DeepONet</p>\n",
    "</center>\n",
    "\n",
    "So, to initialize DeepONet, we need to create 2 neural networks with architectures provided by users and combine their outputs. Using class `DenseNetwork`, we can initialize branch and trunk NNs. Forward method of `DeepONet` can be calculated using `torch.einsum` functions that would combine forward passes of these 2 NNs.\n"
   ]
  },
  {
   "cell_type": "code",
   "execution_count": 3,
   "metadata": {},
   "outputs": [],
   "source": [
    "class DeepONetCartesianProd(nn.Module):\n",
    "    def __init__(self, branch_net, trunk_net, branch_activations, trunk_activations, input_feature=None):\n",
    "        super(DeepONetCartesianProd, self).__init__()\n",
    "        self.branch_net = DenseNetwork(branch_net, branch_activations)\n",
    "        self.trunk_net = DenseNetwork(trunk_net, trunk_activations)\n",
    "\n",
    "\n",
    "        if input_feature is not None:\n",
    "            self.input_encode = input_feature\n",
    "        else:\n",
    "            self.input_encode = None\n",
    "\n",
    "\n",
    "    def forward(self, branch_input, trunk_input):\n",
    "\n",
    "        branch_output = self.branch_net(branch_input)  # Shape: (batch_size, branch_net[-1])\n",
    "        \n",
    "        if self.input_encode is not None:\n",
    "            trunk_input = self.input_encode(trunk_input)\n",
    "        \n",
    "        trunk_output = self.trunk_net(trunk_input)    # Shape: (batch_size, trunk_net[-1])\n",
    "        output = torch.einsum(\"bp,np->bn\", branch_output, trunk_output)\n",
    "\n",
    "        return output"
   ]
  },
  {
   "cell_type": "markdown",
   "metadata": {},
   "source": [
    "# Implement `training()` of the DeepONet"
   ]
  },
  {
   "cell_type": "markdown",
   "metadata": {},
   "source": [
    "In this function `training()`, I tried to be as generic as possible. The function takes as input `model` (created using class `DeepONetCartesianProd`), `optimizer` (for example `Adam`), `dataloader` (created specifically for the problem) and functions that will calculate specific losses that are associated with the problem (`physics_loss_func()`, `initial_loss_func()`, `boundary_loss_func()`). "
   ]
  },
  {
   "cell_type": "code",
   "execution_count": 4,
   "metadata": {},
   "outputs": [],
   "source": [
    "def training(model, optimizer, dataloader, num_epochs= 1000, physics_loss_func=None, initial_loss_func=None, boundary_loss_func= None, plot=False):\n",
    "    losses = []\n",
    "    for epoch in range(num_epochs):\n",
    "        model.train()\n",
    "        for u, t, t0, ut in dataloader:\n",
    "\n",
    "            t.requires_grad_(True)\n",
    "            batch_size = u.shape[0]\n",
    "            n_points = t.shape[0]\n",
    "\n",
    "            physics_loss = physics_loss_func(model, u, t, t0, ut, batch_size, n_points) if physics_loss_func is not None else torch.zeros(1, device=t.device)\n",
    "            initial_loss = initial_loss_func(model, u, t, t0, ut, batch_size, n_points) if initial_loss_func is not None else torch.zeros(1, device=t.device)\n",
    "            boundary_loss = boundary_loss_func(model, u, t, t0, ut, batch_size, n_points) if boundary_loss_func is not None else torch.zeros(1, device=t.device)\n",
    "            # Total loss\n",
    "            loss = physics_loss + initial_loss + boundary_loss\n",
    "\n",
    "            optimizer.zero_grad()\n",
    "            loss.backward()\n",
    "            optimizer.step()\n",
    "        \n",
    "        if (epoch + 1) % 10 == 0:\n",
    "            print(f'Epoch [{epoch+1}/{num_epochs}], Loss: {loss.item():.4f}, '\n",
    "                    f'initial_loss: {initial_loss.item():.6f}, physics_loss: {physics_loss.item():.6f}, '\n",
    "                    f'time: {datetime.now().time()}')\n",
    "            \n",
    "            if plot == True:\n",
    "                plotter.GRF_test(model,m=m,lb=grf_lb,ub=grf_ub)\n",
    "                plotter.linear_test(model,m=m)\n",
    "                plotter.optimal_test(model,m=m)\n",
    "                plotter.constant_test(model,m=m)\n",
    "                plotter.polynomial_test(model,m=m)\n",
    "                plotter.sine_test(model,m=m)\n",
    "        \n",
    "        if (epoch + 1) % 100 == 0:\n",
    "            timestamp = datetime.now().strftime('%Y%m%d-%H%M%S')\n",
    "            model_filename = f'model_time_[{timestamp}]_loss_[{loss.item():.4f}].pth'\n",
    "            torch.save(model.state_dict(), f\"trained_models/deep_o_net/{model_filename}\")\n",
    "                        \n",
    "\n",
    "\n",
    "        losses.append(loss)\n",
    "\n",
    "\n",
    "    return model, losses"
   ]
  },
  {
   "cell_type": "markdown",
   "metadata": {},
   "source": [
    "# Define loss functions specific to the problem"
   ]
  },
  {
   "cell_type": "markdown",
   "metadata": {},
   "source": [
    "At first, I will implement the loss functions for the simple Feldbaum problem. The Feldbaum problem is defined as follows:\n",
    "$$\\text{min}_u \\ \\int_{0}^{1} (x^2 + u^2)dt$$\n",
    "$$\\text{s.t.} \\ \\frac{dx}{dt} = x - u$$\n",
    "$$ x(0) = 1$$\n",
    "\n",
    "Additionally, I added an initial condition that $x(t_0) = 1$\n",
    "\n",
    "The physics loss refers to differential equation being non-violated. Ideally,\n",
    "$$\\frac{dx}{dt} - x + u = 0$$\n",
    "\n",
    "where $u$ is input function, $x$ is solution found by neural operator and $x_t$ can be found using `autograd` function which is part of `torch` functionality."
   ]
  },
  {
   "cell_type": "code",
   "execution_count": 5,
   "metadata": {},
   "outputs": [],
   "source": [
    "def physics_loss_func(model, u, t, t0, ut, batch_size, n_points, dim_x = 1):\n",
    "\n",
    "    x = model(u, t)\n",
    "\n",
    "    # Physics loss\n",
    "    dx = torch.zeros(batch_size, n_points, dim_x, device=t.device)\n",
    "    \n",
    "    # This loop is a bottleneck but i havent found a way to parallize this efficiently\n",
    "    for b in range(batch_size):\n",
    "        # Compute gradients for each batch independently\n",
    "        dx[b] = torch.autograd.grad(x[b], t, torch.ones_like(x[b]), create_graph=True)[0]\n",
    "\n",
    "    dx_dt = dx[:,:,0]\n",
    "\n",
    "    # physics loss\n",
    "    physics = dx_dt + x - ut\n",
    "    physics_loss = torch.mean(physics**2)\n",
    "\n",
    "    return physics_loss"
   ]
  },
  {
   "cell_type": "markdown",
   "metadata": {},
   "source": [
    "At first, in the function `physics_loss_func`  we extract the $x_t$ from each batch. `physics` stores the differential equation that we shouldn't violate. And final `physics_loss` is a mean squared error. \n",
    "\n",
    "As input parameters, it takes all the information from the training dataset and output of the neural network `x`."
   ]
  },
  {
   "cell_type": "markdown",
   "metadata": {},
   "source": [
    "Innitial loss function is easy in our case. The output of the neural network at $t=0$ just should be 1."
   ]
  },
  {
   "cell_type": "code",
   "execution_count": 6,
   "metadata": {},
   "outputs": [],
   "source": [
    "def innitial_loss_func(model, u, t, t0, ut, batch_size, n_points):\n",
    "\n",
    "    x_0 = model(u, t0)\n",
    "    initial_loss = torch.mean((torch.ones_like(x_0) - x_0)**2)\n",
    "    \n",
    "    return initial_loss"
   ]
  },
  {
   "cell_type": "markdown",
   "metadata": {},
   "source": [
    "# Generate model and training data"
   ]
  },
  {
   "cell_type": "markdown",
   "metadata": {},
   "source": [
    "## Define model"
   ]
  },
  {
   "cell_type": "markdown",
   "metadata": {},
   "source": [
    "Define number of layers of NNs and number of neurons at each layer. The output size of both trunk and branch networks should be the same."
   ]
  },
  {
   "cell_type": "code",
   "execution_count": 7,
   "metadata": {},
   "outputs": [],
   "source": [
    "# Model Parameters\n",
    "m = 200         # sensor size (branch input size)\n",
    "n_hid = 250     # layer's hidden sizes\n",
    "p = 200         # output size\n",
    "dim_x = 1       # trunk (trunk input size)\n",
    "lr = 0.0001\n",
    "num_epochs = 1000\n",
    "\n",
    "# Specify device\n",
    "device = torch.device('cuda' if torch.cuda.is_available() else 'cpu')\n",
    "\n",
    "# Specify the MLP architecture\n",
    "branch_net = [m, n_hid, n_hid, n_hid, n_hid, p]\n",
    "branch_activations = ['tanh', 'tanh','tanh', 'tanh', None]\n",
    "trunk_net = [dim_x, n_hid, n_hid, n_hid, n_hid, p]\n",
    "trunk_activations = ['tanh', 'tanh', 'tanh', 'tanh',None]\n",
    "\n",
    "# Initialize model\n",
    "model = DeepONetCartesianProd(branch_net, trunk_net, branch_activations, trunk_activations)\n",
    "model.to(device)\n",
    "\n",
    "#Initialize Optimizer\n",
    "optimizer = optim.Adam(model.parameters(), lr=lr)"
   ]
  },
  {
   "cell_type": "markdown",
   "metadata": {},
   "source": [
    "## Generate training dataset"
   ]
  },
  {
   "cell_type": "markdown",
   "metadata": {},
   "source": [
    "Here we generate all possible candidates for the the control function $u(t)$. We want to train our DeepONet on a diverse domain of functions. In this case we train model on next families of functions: `grf`, `linear`, `sine`, `polynomial`, `constant`. "
   ]
  },
  {
   "cell_type": "code",
   "execution_count": 8,
   "metadata": {},
   "outputs": [],
   "source": [
    "#Dataset parameters\n",
    "n_functions = 10000\n",
    "grf_lb = 0.02\n",
    "grf_ub = 0.5\n",
    "end_time = 1.0\n",
    "num_domain = 200\n",
    "num_initial = 20\n",
    "\n",
    "dataset = MultiFunctionDatasetODE(\n",
    "    m=m,\n",
    "    n_functions=n_functions,\n",
    "    function_types=['grf', 'linear', 'sine', 'polynomial','constant'],\n",
    "    end_time = end_time,\n",
    "    num_domain = num_domain,\n",
    "    num_initial = num_initial,\n",
    "    grf_lb = grf_lb,\n",
    "    grf_ub = grf_ub\n",
    ")\n",
    "\n",
    "dataloader = DataLoader(dataset, batch_size=100, collate_fn=custom_collate_ODE_fn, shuffle=True)"
   ]
  },
  {
   "cell_type": "markdown",
   "metadata": {},
   "source": [
    "# Train DeepONet model"
   ]
  },
  {
   "cell_type": "markdown",
   "metadata": {},
   "source": [
    "Now, we should have everything to train the DeepONet model"
   ]
  },
  {
   "cell_type": "code",
   "execution_count": 43,
   "metadata": {},
   "outputs": [
    {
     "name": "stdout",
     "output_type": "stream",
     "text": [
      "Epoch [10/1000], Loss: 0.2991, initial_loss: 0.004864, physics_loss: 0.294203, time: 16:20:14.631490\n",
      "Epoch [20/1000], Loss: 0.3652, initial_loss: 0.000700, physics_loss: 0.364455, time: 16:21:17.599556\n",
      "Epoch [30/1000], Loss: 0.3002, initial_loss: 0.000648, physics_loss: 0.299580, time: 16:22:22.699176\n",
      "Epoch [40/1000], Loss: 0.2544, initial_loss: 0.000395, physics_loss: 0.254037, time: 16:23:22.891365\n"
     ]
    },
    {
     "ename": "KeyboardInterrupt",
     "evalue": "",
     "output_type": "error",
     "traceback": [
      "\u001b[0;31m---------------------------------------------------------------------------\u001b[0m",
      "\u001b[0;31mKeyboardInterrupt\u001b[0m                         Traceback (most recent call last)",
      "Cell \u001b[0;32mIn[43], line 1\u001b[0m\n\u001b[0;32m----> 1\u001b[0m trained_model, lossses \u001b[38;5;241m=\u001b[39m \u001b[43mtraining\u001b[49m\u001b[43m(\u001b[49m\u001b[43mmodel\u001b[49m\u001b[43m,\u001b[49m\u001b[43m \u001b[49m\u001b[43moptimizer\u001b[49m\u001b[43m,\u001b[49m\u001b[43m \u001b[49m\u001b[43mdataloader\u001b[49m\u001b[43m,\u001b[49m\u001b[43m \u001b[49m\u001b[43mnum_epochs\u001b[49m\u001b[43m \u001b[49m\u001b[38;5;241;43m=\u001b[39;49m\u001b[43m \u001b[49m\u001b[43mnum_epochs\u001b[49m\u001b[43m,\u001b[49m\u001b[43m \u001b[49m\u001b[43mphysics_loss_func\u001b[49m\u001b[38;5;241;43m=\u001b[39;49m\u001b[43mphysics_loss_func\u001b[49m\u001b[43m,\u001b[49m\u001b[43m \u001b[49m\u001b[43minitial_loss_func\u001b[49m\u001b[38;5;241;43m=\u001b[39;49m\u001b[43minnitial_loss_func\u001b[49m\u001b[43m,\u001b[49m\u001b[43m \u001b[49m\u001b[43mplot\u001b[49m\u001b[38;5;241;43m=\u001b[39;49m\u001b[38;5;28;43;01mTrue\u001b[39;49;00m\u001b[43m)\u001b[49m\n",
      "Cell \u001b[0;32mIn[4], line 11\u001b[0m, in \u001b[0;36mtraining\u001b[0;34m(model, optimizer, dataloader, num_epochs, physics_loss_func, initial_loss_func, boundary_loss_func, plot)\u001b[0m\n\u001b[1;32m      8\u001b[0m batch_size \u001b[38;5;241m=\u001b[39m u\u001b[38;5;241m.\u001b[39mshape[\u001b[38;5;241m0\u001b[39m]\n\u001b[1;32m      9\u001b[0m n_points \u001b[38;5;241m=\u001b[39m t\u001b[38;5;241m.\u001b[39mshape[\u001b[38;5;241m0\u001b[39m]\n\u001b[0;32m---> 11\u001b[0m physics_loss \u001b[38;5;241m=\u001b[39m \u001b[43mphysics_loss_func\u001b[49m\u001b[43m(\u001b[49m\u001b[43mmodel\u001b[49m\u001b[43m,\u001b[49m\u001b[43m \u001b[49m\u001b[43mu\u001b[49m\u001b[43m,\u001b[49m\u001b[43m \u001b[49m\u001b[43mt\u001b[49m\u001b[43m,\u001b[49m\u001b[43m \u001b[49m\u001b[43mt0\u001b[49m\u001b[43m,\u001b[49m\u001b[43m \u001b[49m\u001b[43mut\u001b[49m\u001b[43m,\u001b[49m\u001b[43m \u001b[49m\u001b[43mbatch_size\u001b[49m\u001b[43m,\u001b[49m\u001b[43m \u001b[49m\u001b[43mn_points\u001b[49m\u001b[43m)\u001b[49m \u001b[38;5;28;01mif\u001b[39;00m physics_loss_func \u001b[38;5;129;01mis\u001b[39;00m \u001b[38;5;129;01mnot\u001b[39;00m \u001b[38;5;28;01mNone\u001b[39;00m \u001b[38;5;28;01melse\u001b[39;00m torch\u001b[38;5;241m.\u001b[39mzeros(\u001b[38;5;241m1\u001b[39m, device\u001b[38;5;241m=\u001b[39mt\u001b[38;5;241m.\u001b[39mdevice)\n\u001b[1;32m     12\u001b[0m initial_loss \u001b[38;5;241m=\u001b[39m initial_loss_func(model, u, t, t0, ut, batch_size, n_points) \u001b[38;5;28;01mif\u001b[39;00m initial_loss_func \u001b[38;5;129;01mis\u001b[39;00m \u001b[38;5;129;01mnot\u001b[39;00m \u001b[38;5;28;01mNone\u001b[39;00m \u001b[38;5;28;01melse\u001b[39;00m torch\u001b[38;5;241m.\u001b[39mzeros(\u001b[38;5;241m1\u001b[39m, device\u001b[38;5;241m=\u001b[39mt\u001b[38;5;241m.\u001b[39mdevice)\n\u001b[1;32m     13\u001b[0m boundary_loss \u001b[38;5;241m=\u001b[39m boundary_loss_func(model, u, t, t0, ut, batch_size, n_points) \u001b[38;5;28;01mif\u001b[39;00m boundary_loss_func \u001b[38;5;129;01mis\u001b[39;00m \u001b[38;5;129;01mnot\u001b[39;00m \u001b[38;5;28;01mNone\u001b[39;00m \u001b[38;5;28;01melse\u001b[39;00m torch\u001b[38;5;241m.\u001b[39mzeros(\u001b[38;5;241m1\u001b[39m, device\u001b[38;5;241m=\u001b[39mt\u001b[38;5;241m.\u001b[39mdevice)\n",
      "Cell \u001b[0;32mIn[39], line 11\u001b[0m, in \u001b[0;36mphysics_loss_func\u001b[0;34m(model, u, t, t0, ut, batch_size, n_points, dim_x)\u001b[0m\n\u001b[1;32m      8\u001b[0m \u001b[38;5;66;03m# This loop is a bottleneck but i havent found a way to parallize this efficiently\u001b[39;00m\n\u001b[1;32m      9\u001b[0m \u001b[38;5;28;01mfor\u001b[39;00m b \u001b[38;5;129;01min\u001b[39;00m \u001b[38;5;28mrange\u001b[39m(batch_size):\n\u001b[1;32m     10\u001b[0m     \u001b[38;5;66;03m# Compute gradients for each batch independently\u001b[39;00m\n\u001b[0;32m---> 11\u001b[0m     dx[b] \u001b[38;5;241m=\u001b[39m \u001b[43mtorch\u001b[49m\u001b[38;5;241;43m.\u001b[39;49m\u001b[43mautograd\u001b[49m\u001b[38;5;241;43m.\u001b[39;49m\u001b[43mgrad\u001b[49m\u001b[43m(\u001b[49m\u001b[43mx\u001b[49m\u001b[43m[\u001b[49m\u001b[43mb\u001b[49m\u001b[43m]\u001b[49m\u001b[43m,\u001b[49m\u001b[43m \u001b[49m\u001b[43mt\u001b[49m\u001b[43m,\u001b[49m\u001b[43m \u001b[49m\u001b[43mtorch\u001b[49m\u001b[38;5;241;43m.\u001b[39;49m\u001b[43mones_like\u001b[49m\u001b[43m(\u001b[49m\u001b[43mx\u001b[49m\u001b[43m[\u001b[49m\u001b[43mb\u001b[49m\u001b[43m]\u001b[49m\u001b[43m)\u001b[49m\u001b[43m,\u001b[49m\u001b[43m \u001b[49m\u001b[43mcreate_graph\u001b[49m\u001b[38;5;241;43m=\u001b[39;49m\u001b[38;5;28;43;01mTrue\u001b[39;49;00m\u001b[43m)\u001b[49m[\u001b[38;5;241m0\u001b[39m]\n\u001b[1;32m     13\u001b[0m dx_dt \u001b[38;5;241m=\u001b[39m dx[:,:,\u001b[38;5;241m0\u001b[39m]\n\u001b[1;32m     15\u001b[0m \u001b[38;5;66;03m# physics loss\u001b[39;00m\n",
      "File \u001b[0;32m~/Documents/Thesis/.venv/lib/python3.10/site-packages/torch/autograd/__init__.py:469\u001b[0m, in \u001b[0;36mgrad\u001b[0;34m(outputs, inputs, grad_outputs, retain_graph, create_graph, only_inputs, allow_unused, is_grads_batched, materialize_grads)\u001b[0m\n\u001b[1;32m    460\u001b[0m     warnings\u001b[38;5;241m.\u001b[39mwarn(\n\u001b[1;32m    461\u001b[0m         \u001b[38;5;124m\"\u001b[39m\u001b[38;5;124monly_inputs argument is deprecated and is ignored now \u001b[39m\u001b[38;5;124m\"\u001b[39m\n\u001b[1;32m    462\u001b[0m         \u001b[38;5;124m\"\u001b[39m\u001b[38;5;124m(defaults to True). To accumulate gradient for other \u001b[39m\u001b[38;5;124m\"\u001b[39m\n\u001b[0;32m   (...)\u001b[0m\n\u001b[1;32m    465\u001b[0m         stacklevel\u001b[38;5;241m=\u001b[39m\u001b[38;5;241m2\u001b[39m,\n\u001b[1;32m    466\u001b[0m     )\n\u001b[1;32m    468\u001b[0m grad_outputs_ \u001b[38;5;241m=\u001b[39m _tensor_or_tensors_to_tuple(grad_outputs, \u001b[38;5;28mlen\u001b[39m(outputs))\n\u001b[0;32m--> 469\u001b[0m grad_outputs_ \u001b[38;5;241m=\u001b[39m \u001b[43m_make_grads\u001b[49m\u001b[43m(\u001b[49m\n\u001b[1;32m    470\u001b[0m \u001b[43m    \u001b[49m\u001b[43moutputs\u001b[49m\u001b[43m,\u001b[49m\u001b[43m \u001b[49m\u001b[43mgrad_outputs_\u001b[49m\u001b[43m,\u001b[49m\u001b[43m \u001b[49m\u001b[43mis_grads_batched\u001b[49m\u001b[38;5;241;43m=\u001b[39;49m\u001b[43mis_grads_batched\u001b[49m\n\u001b[1;32m    471\u001b[0m \u001b[43m\u001b[49m\u001b[43m)\u001b[49m\n\u001b[1;32m    473\u001b[0m \u001b[38;5;28;01mif\u001b[39;00m retain_graph \u001b[38;5;129;01mis\u001b[39;00m \u001b[38;5;28;01mNone\u001b[39;00m:\n\u001b[1;32m    474\u001b[0m     retain_graph \u001b[38;5;241m=\u001b[39m create_graph\n",
      "File \u001b[0;32m~/Documents/Thesis/.venv/lib/python3.10/site-packages/torch/autograd/__init__.py:114\u001b[0m, in \u001b[0;36m_make_grads\u001b[0;34m(outputs, grads, is_grads_batched)\u001b[0m\n\u001b[1;32m    110\u001b[0m \u001b[38;5;28;01melse\u001b[39;00m:\n\u001b[1;32m    111\u001b[0m     \u001b[38;5;66;03m# circular import\u001b[39;00m\n\u001b[1;32m    112\u001b[0m     \u001b[38;5;28;01mfrom\u001b[39;00m\u001b[38;5;250m \u001b[39m\u001b[38;5;21;01mtorch\u001b[39;00m\u001b[38;5;21;01m.\u001b[39;00m\u001b[38;5;21;01mnested\u001b[39;00m\u001b[38;5;21;01m.\u001b[39;00m\u001b[38;5;21;01m_internal\u001b[39;00m\u001b[38;5;21;01m.\u001b[39;00m\u001b[38;5;21;01mnested_tensor\u001b[39;00m\u001b[38;5;250m \u001b[39m\u001b[38;5;28;01mimport\u001b[39;00m NestedTensor\n\u001b[0;32m--> 114\u001b[0m     \u001b[38;5;28;01massert\u001b[39;00m \u001b[38;5;28;43misinstance\u001b[39;49m\u001b[43m(\u001b[49m\u001b[43mout\u001b[49m\u001b[43m,\u001b[49m\u001b[43m \u001b[49m\u001b[43mtorch\u001b[49m\u001b[38;5;241;43m.\u001b[39;49m\u001b[43mTensor\u001b[49m\u001b[43m)\u001b[49m\n\u001b[1;32m    115\u001b[0m     out_dtype \u001b[38;5;241m=\u001b[39m out\u001b[38;5;241m.\u001b[39mdtype\n\u001b[1;32m    116\u001b[0m     out_is_nested \u001b[38;5;241m=\u001b[39m out\u001b[38;5;241m.\u001b[39mis_nested\n",
      "\u001b[0;31mKeyboardInterrupt\u001b[0m: "
     ]
    }
   ],
   "source": [
    "trained_model, lossses = training(model, optimizer, dataloader, num_epochs = num_epochs, physics_loss_func=physics_loss_func, initial_loss_func=innitial_loss_func, plot=True)"
   ]
  },
  {
   "cell_type": "code",
   "execution_count": 9,
   "metadata": {},
   "outputs": [
    {
     "data": {
      "text/plain": [
       "DeepONetCartesianProd(\n",
       "  (branch_net): DenseNetwork(\n",
       "    (network): Sequential(\n",
       "      (0): Linear(in_features=200, out_features=250, bias=True)\n",
       "      (1): Tanh()\n",
       "      (2): Linear(in_features=250, out_features=250, bias=True)\n",
       "      (3): Tanh()\n",
       "      (4): Linear(in_features=250, out_features=250, bias=True)\n",
       "      (5): Tanh()\n",
       "      (6): Linear(in_features=250, out_features=250, bias=True)\n",
       "      (7): Tanh()\n",
       "      (8): Linear(in_features=250, out_features=200, bias=True)\n",
       "    )\n",
       "  )\n",
       "  (trunk_net): DenseNetwork(\n",
       "    (network): Sequential(\n",
       "      (0): Linear(in_features=1, out_features=250, bias=True)\n",
       "      (1): Tanh()\n",
       "      (2): Linear(in_features=250, out_features=250, bias=True)\n",
       "      (3): Tanh()\n",
       "      (4): Linear(in_features=250, out_features=250, bias=True)\n",
       "      (5): Tanh()\n",
       "      (6): Linear(in_features=250, out_features=250, bias=True)\n",
       "      (7): Tanh()\n",
       "      (8): Linear(in_features=250, out_features=200, bias=True)\n",
       "    )\n",
       "  )\n",
       ")"
      ]
     },
     "execution_count": 9,
     "metadata": {},
     "output_type": "execute_result"
    }
   ],
   "source": [
    "model =  DeepONetCartesianProd(branch_net, trunk_net, branch_activations, trunk_activations)\n",
    "model.to(device)\n",
    "model.load_state_dict(torch.load('trained_models/deep_o_net/model_time_[20250306-124037]_loss_[0.0077].pth'))\n",
    "model.eval()  # set the model to evaluation mode"
   ]
  },
  {
   "cell_type": "markdown",
   "metadata": {},
   "source": [
    "# Solve Feldbaum problem"
   ]
  },
  {
   "cell_type": "markdown",
   "metadata": {},
   "source": [
    "So far, we just trained neural operator to approximate $x$ for given input control function $u$, but we haven't touched optimization part yet. I will remind you what is the problem that we are trying to solve:\n",
    "\n",
    "$$\\text{min}_u \\ \\ \\frac{1}{2}\\int_{0}^{1} (x^2 + u^2)dt$$\n",
    "$$\\text{s.t.} \\ \\frac{dx}{dt} = x - u$$\n",
    "$$ x(0) = 1$$\n",
    "\n",
    "So, we should find such control function $u$ that this integral is minimized \n"
   ]
  },
  {
   "cell_type": "code",
   "execution_count": 47,
   "metadata": {},
   "outputs": [],
   "source": [
    "def smoothness_loss(u):\n",
    "    return torch.mean((u[:, 1:] - u[:, :-1])**2)\n",
    "\n",
    "def objective_function(n, args):\n",
    "\n",
    "    # Physics loss\n",
    "    dx = torch.zeros(n, args['t'].shape[0], dim_x, device=args['t'].device)\n",
    "    \n",
    "    # This loop is a bottleneck but i havent found a way to parallize this efficiently\n",
    "    for b in range(n):\n",
    "        # Compute gradients for each batch independently\n",
    "        dx[b] = torch.autograd.grad(args['x'][b], args['t'], torch.ones_like(args['x'][b]), create_graph=True)[0]\n",
    "\n",
    "    dx_dt = dx[:,:,0]\n",
    "\n",
    "    # physics loss\n",
    "    physics = dx_dt + args['x'] - args['u']\n",
    "    physics_loss = torch.mean(physics**2)\n",
    "    innitial_loss_func = torch.mean((args['x'][:, 0] - torch.ones(n, device= device))**2)\n",
    "\n",
    "    J = torch.mean(torch.trapz((args['x']**2 + args['u']**2).squeeze(), args['t'].squeeze()))  + 100 * physics_loss + innitial_loss_func + smoothness_loss(args['u'])\n",
    "    return J\n"
   ]
  },
  {
   "cell_type": "code",
   "execution_count": 48,
   "metadata": {},
   "outputs": [],
   "source": [
    "def gradient_descent(n, alpha, m, num_epochs, model, objective_function):  \n",
    "    \n",
    "    u = torch.randn(n, m, device=device)  # Multiple control functions\n",
    "    t = torch.linspace(0, end_time, m, device= device).unsqueeze(1) \n",
    "    \n",
    "    u.requires_grad_(True)\n",
    "    t.requires_grad_(True)\n",
    "\n",
    "    optimizer = torch.optim.Adam([u], lr=alpha)\n",
    "\n",
    "    for epoch in range(num_epochs):\n",
    "\n",
    "\n",
    "        optimizer.zero_grad()\n",
    "        x = model(u, t) \n",
    "        args = {'x': x, 'u': u, 't': t}\n",
    "        loss = objective_function(n, args)\n",
    "        loss.backward()\n",
    "        optimizer.step()\n",
    "\n",
    "\n",
    "        if (epoch+1) % 100 == 0:\n",
    "            \n",
    "            print(f'Epoch [{epoch+1}/{num_epochs}], Loss: {loss.item():.4f}, time: {datetime.now().time()}')\n",
    "\n",
    "    return torch.mean(u, axis=0)\n"
   ]
  },
  {
   "cell_type": "code",
   "execution_count": 49,
   "metadata": {},
   "outputs": [
    {
     "name": "stdout",
     "output_type": "stream",
     "text": [
      "Epoch [100/10000], Loss: 118.4850, time: 18:45:08.655591\n",
      "Epoch [200/10000], Loss: 95.2747, time: 18:45:09.536555\n",
      "Epoch [300/10000], Loss: 78.2186, time: 18:45:10.420219\n",
      "Epoch [400/10000], Loss: 65.2433, time: 18:45:11.301095\n",
      "Epoch [500/10000], Loss: 55.0248, time: 18:45:12.181120\n",
      "Epoch [600/10000], Loss: 46.6826, time: 18:45:13.098069\n",
      "Epoch [700/10000], Loss: 39.7001, time: 18:45:13.985207\n",
      "Epoch [800/10000], Loss: 33.7782, time: 18:45:14.867628\n",
      "Epoch [900/10000], Loss: 28.7234, time: 18:45:15.752914\n",
      "Epoch [1000/10000], Loss: 24.3965, time: 18:45:16.631158\n",
      "Epoch [1100/10000], Loss: 20.6900, time: 18:45:17.507912\n",
      "Epoch [1200/10000], Loss: 17.5169, time: 18:45:18.390202\n",
      "Epoch [1300/10000], Loss: 14.8041, time: 18:45:19.315111\n",
      "Epoch [1400/10000], Loss: 12.4899, time: 18:45:20.229556\n",
      "Epoch [1500/10000], Loss: 10.5211, time: 18:45:21.122291\n",
      "Epoch [1600/10000], Loss: 8.8517, time: 18:45:22.013347\n",
      "Epoch [1700/10000], Loss: 7.4416, time: 18:45:22.905168\n",
      "Epoch [1800/10000], Loss: 6.2554, time: 18:45:23.791379\n",
      "Epoch [1900/10000], Loss: 5.2617, time: 18:45:24.692012\n",
      "Epoch [2000/10000], Loss: 4.4325, time: 18:45:25.617933\n",
      "Epoch [2100/10000], Loss: 3.7433, time: 18:45:26.519600\n",
      "Epoch [2200/10000], Loss: 3.1723, time: 18:45:27.417662\n",
      "Epoch [2300/10000], Loss: 2.7009, time: 18:45:28.313246\n",
      "Epoch [2400/10000], Loss: 2.3130, time: 18:45:29.221141\n",
      "Epoch [2500/10000], Loss: 1.9947, time: 18:45:30.107782\n",
      "Epoch [2600/10000], Loss: 1.7344, time: 18:45:31.020807\n",
      "Epoch [2700/10000], Loss: 1.5221, time: 18:45:31.920138\n",
      "Epoch [2800/10000], Loss: 1.3494, time: 18:45:32.841468\n",
      "Epoch [2900/10000], Loss: 1.2093, time: 18:45:33.739290\n",
      "Epoch [3000/10000], Loss: 1.0959, time: 18:45:34.630600\n",
      "Epoch [3100/10000], Loss: 1.0043, time: 18:45:35.531397\n",
      "Epoch [3200/10000], Loss: 0.9303, time: 18:45:36.410897\n",
      "Epoch [3300/10000], Loss: 0.8707, time: 18:45:37.322420\n",
      "Epoch [3400/10000], Loss: 0.8225, time: 18:45:38.217353\n",
      "Epoch [3500/10000], Loss: 0.7836, time: 18:45:39.113550\n",
      "Epoch [3600/10000], Loss: 0.7521, time: 18:45:40.007379\n",
      "Epoch [3700/10000], Loss: 0.7263, time: 18:45:40.906268\n",
      "Epoch [3800/10000], Loss: 0.7052, time: 18:45:41.791271\n",
      "Epoch [3900/10000], Loss: 0.6877, time: 18:45:42.680929\n",
      "Epoch [4000/10000], Loss: 0.6730, time: 18:45:43.591164\n",
      "Epoch [4100/10000], Loss: 0.6605, time: 18:45:44.494948\n",
      "Epoch [4200/10000], Loss: 0.6497, time: 18:45:45.387290\n",
      "Epoch [4300/10000], Loss: 0.6401, time: 18:45:46.277150\n",
      "Epoch [4400/10000], Loss: 0.6316, time: 18:45:47.161014\n",
      "Epoch [4500/10000], Loss: 0.6238, time: 18:45:48.055474\n",
      "Epoch [4600/10000], Loss: 0.6165, time: 18:45:48.960389\n",
      "Epoch [4700/10000], Loss: 0.6096, time: 18:45:49.865760\n",
      "Epoch [4800/10000], Loss: 0.6030, time: 18:45:50.760344\n",
      "Epoch [4900/10000], Loss: 0.5965, time: 18:45:51.660658\n",
      "Epoch [5000/10000], Loss: 0.5902, time: 18:45:52.556604\n",
      "Epoch [5100/10000], Loss: 0.5840, time: 18:45:53.460580\n",
      "Epoch [5200/10000], Loss: 0.5778, time: 18:45:54.348897\n",
      "Epoch [5300/10000], Loss: 0.5716, time: 18:45:55.269024\n",
      "Epoch [5400/10000], Loss: 0.5653, time: 18:45:56.174429\n",
      "Epoch [5500/10000], Loss: 0.5591, time: 18:45:57.067853\n",
      "Epoch [5600/10000], Loss: 0.5528, time: 18:45:57.963305\n",
      "Epoch [5700/10000], Loss: 0.5465, time: 18:45:58.863768\n",
      "Epoch [5800/10000], Loss: 0.5402, time: 18:45:59.750447\n",
      "Epoch [5900/10000], Loss: 0.5339, time: 18:46:00.662347\n",
      "Epoch [6000/10000], Loss: 0.5276, time: 18:46:01.577126\n",
      "Epoch [6100/10000], Loss: 0.5212, time: 18:46:02.472955\n",
      "Epoch [6200/10000], Loss: 0.5149, time: 18:46:03.366862\n",
      "Epoch [6300/10000], Loss: 0.5086, time: 18:46:04.259866\n",
      "Epoch [6400/10000], Loss: 0.5024, time: 18:46:05.153352\n",
      "Epoch [6500/10000], Loss: 0.4962, time: 18:46:06.042482\n",
      "Epoch [6600/10000], Loss: 0.4901, time: 18:46:07.035821\n",
      "Epoch [6700/10000], Loss: 0.4841, time: 18:46:08.113189\n",
      "Epoch [6800/10000], Loss: 0.4782, time: 18:46:09.147944\n",
      "Epoch [6900/10000], Loss: 0.4724, time: 18:46:10.169681\n",
      "Epoch [7000/10000], Loss: 0.4667, time: 18:46:11.081741\n",
      "Epoch [7100/10000], Loss: 0.4612, time: 18:46:11.970370\n",
      "Epoch [7200/10000], Loss: 0.4558, time: 18:46:12.890011\n",
      "Epoch [7300/10000], Loss: 0.4506, time: 18:46:13.800331\n",
      "Epoch [7400/10000], Loss: 0.4455, time: 18:46:14.736617\n",
      "Epoch [7500/10000], Loss: 0.4407, time: 18:46:15.668983\n",
      "Epoch [7600/10000], Loss: 0.4360, time: 18:46:16.616411\n",
      "Epoch [7700/10000], Loss: 0.4316, time: 18:46:17.568611\n",
      "Epoch [7800/10000], Loss: 0.4273, time: 18:46:18.524606\n",
      "Epoch [7900/10000], Loss: 0.4233, time: 18:46:19.464885\n",
      "Epoch [8000/10000], Loss: 0.4195, time: 18:46:20.429065\n",
      "Epoch [8100/10000], Loss: 0.4159, time: 18:46:21.378727\n",
      "Epoch [8200/10000], Loss: 0.4124, time: 18:46:22.334586\n",
      "Epoch [8300/10000], Loss: 0.4092, time: 18:46:23.270624\n",
      "Epoch [8400/10000], Loss: 0.4063, time: 18:46:24.356074\n",
      "Epoch [8500/10000], Loss: 0.4035, time: 18:46:25.536712\n",
      "Epoch [8600/10000], Loss: 0.4009, time: 18:46:26.670791\n",
      "Epoch [8700/10000], Loss: 0.3985, time: 18:46:27.679311\n",
      "Epoch [8800/10000], Loss: 0.3963, time: 18:46:28.820231\n",
      "Epoch [8900/10000], Loss: 0.3942, time: 18:46:29.746237\n",
      "Epoch [9000/10000], Loss: 0.3924, time: 18:46:30.673635\n",
      "Epoch [9100/10000], Loss: 0.3907, time: 18:46:31.590941\n",
      "Epoch [9200/10000], Loss: 0.3891, time: 18:46:32.517434\n",
      "Epoch [9300/10000], Loss: 0.3878, time: 18:46:33.428869\n",
      "Epoch [9400/10000], Loss: 0.3865, time: 18:46:34.338752\n",
      "Epoch [9500/10000], Loss: 0.3854, time: 18:46:35.237855\n",
      "Epoch [9600/10000], Loss: 0.3844, time: 18:46:36.132335\n",
      "Epoch [9700/10000], Loss: 0.3835, time: 18:46:37.023077\n",
      "Epoch [9800/10000], Loss: 0.3828, time: 18:46:37.917670\n",
      "Epoch [9900/10000], Loss: 0.3821, time: 18:46:38.801118\n",
      "Epoch [10000/10000], Loss: 0.3815, time: 18:46:39.710094\n"
     ]
    }
   ],
   "source": [
    "num_epochs = 10000\n",
    "alpha = 0.001\n",
    "n = 16\n",
    "\n",
    "u = gradient_descent(n, alpha, m, num_epochs, model, objective_function)"
   ]
  },
  {
   "cell_type": "markdown",
   "metadata": {},
   "source": []
  },
  {
   "cell_type": "markdown",
   "metadata": {},
   "source": [
    "From the paper \"Convergence of the forward-backward sweep method in optimal control\" by Michael McAsey et al, we know that analytical solution for this problem is:\n",
    "\n",
    "$$x(t) = \\frac{\\sqrt{2}\\cosh(\\sqrt{2}(t-1)) - \\sinh(\\sqrt{2}(t-1))}{\\sqrt{2}\\cosh(\\sqrt{2})+\\sinh{\\sqrt{2}}}$$\n",
    "$$u(t) = \\frac{\\sinh(\\sqrt{2}(t-1))}{\\sqrt{2}\\cosh(\\sqrt{2})+\\sinh{\\sqrt{2}}}$$"
   ]
  },
  {
   "cell_type": "code",
   "execution_count": 51,
   "metadata": {},
   "outputs": [
    {
     "name": "stderr",
     "output_type": "stream",
     "text": [
      "/tmp/ipykernel_583247/3374743374.py:2: DeprecationWarning: __array_wrap__ must accept context and return_scalar arguments (positionally) in the future. (Deprecated NumPy 2.0)\n",
      "  numerator = np.sqrt(2) * np.cosh(np.sqrt(2) * (t - 1)) - np.sinh(np.sqrt(2) * (t - 1))\n"
     ]
    },
    {
     "data": {
      "text/plain": [
       "<matplotlib.legend.Legend at 0x7f84d15f0550>"
      ]
     },
     "execution_count": 51,
     "metadata": {},
     "output_type": "execute_result"
    },
    {
     "data": {
      "image/png": "[encoded data removed]",
      "text/plain": [
       "<Figure size 640x480 with 1 Axes>"
      ]
     },
     "metadata": {},
     "output_type": "display_data"
    }
   ],
   "source": [
    "def analytical_x(t):\n",
    "    numerator = np.sqrt(2) * np.cosh(np.sqrt(2) * (t - 1)) - np.sinh(np.sqrt(2) * (t - 1))\n",
    "    denominator = np.sqrt(2) * np.cosh(np.sqrt(2)) + np.sinh(np.sqrt(2))\n",
    "    return numerator / denominator\n",
    "\n",
    "def analytical_u(t):\n",
    "    numerator = np.sinh(np.sqrt(2) * (t - 1))\n",
    "    denominator = np.sqrt(2) * np.cosh(np.sqrt(2)) + np.sinh(np.sqrt(2))\n",
    "    return numerator / denominator\n",
    "\n",
    "\n",
    "t = torch.linspace(0, end_time, m).unsqueeze(1) \n",
    "plt.plot(analytical_x(t), label=\"Analytical solution\")\n",
    "t = torch.linspace(0, end_time, m, device=device)\n",
    "\n",
    "x = model(u.unsqueeze(0),t.unsqueeze(1)).cpu().detach().numpy().T\n",
    "plt.plot(x, label=\"Solution found with gradient descent\")\n",
    "plt.legend()"
   ]
  },
  {
   "cell_type": "code",
   "execution_count": 52,
   "metadata": {},
   "outputs": [
    {
     "name": "stderr",
     "output_type": "stream",
     "text": [
      "/tmp/ipykernel_583247/3374743374.py:7: DeprecationWarning: __array_wrap__ must accept context and return_scalar arguments (positionally) in the future. (Deprecated NumPy 2.0)\n",
      "  numerator = np.sinh(np.sqrt(2) * (t - 1))\n"
     ]
    },
    {
     "data": {
      "text/plain": [
       "<matplotlib.legend.Legend at 0x7f84d18ed0c0>"
      ]
     },
     "execution_count": 52,
     "metadata": {},
     "output_type": "execute_result"
    },
    {
     "data": {
      "image/png": "[encoded data removed]",
      "text/plain": [
       "<Figure size 640x480 with 1 Axes>"
      ]
     },
     "metadata": {},
     "output_type": "display_data"
    }
   ],
   "source": [
    "t = torch.linspace(0, end_time, m).unsqueeze(1) \n",
    "plt.plot(analytical_u(t), label=\"Analytical solution\")\n",
    "plt.plot(u.cpu().detach().numpy().T, label=\"Solution found\")\n",
    "plt.legend()"
   ]
  }
 ],
 "metadata": {
  "kernelspec": {
   "display_name": ".venv",
   "language": "python",
   "name": "python3"
  },
  "language_info": {
   "codemirror_mode": {
    "name": "ipython",
    "version": 3
   },
   "file_extension": ".py",
   "mimetype": "text/x-python",
   "name": "python",
   "nbconvert_exporter": "python",
   "pygments_lexer": "ipython3",
   "version": "3.10.12"
  }
 },
 "nbformat": 4,
 "nbformat_minor": 2
}

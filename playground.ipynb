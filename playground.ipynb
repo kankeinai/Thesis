{
 "cells": [
  {
   "cell_type": "markdown",
   "metadata": {},
   "source": [
    "# Notebook \\#1 - Operator Learning and Optimal Control "
   ]
  },
  {
   "cell_type": "markdown",
   "metadata": {},
   "source": [
    "In this beginning notebook, I am going to construct a framework for the learning of neural operator using DeepONet architecture and solve Diffusion Problem (to be explained later). The structure of this notebook goes as follows:\n",
    "- Implement a class for the DeepONet architecture\n",
    "- Implement a function for training of the DeepONet with given differential equation and innitial/boundary conditions \n",
    "- Generate a training dataset for the input control functions and the corresponding analytical solutions of the differential equation\n",
    "- Define loss functions associated with physics loss, innitial and boundary conditions\n",
    "- Train the DeepONet\n",
    "- Solve Feldbaum Problem\n",
    "\n",
    "\n",
    "Let's start by implementing the DeepONet architecture.\n",
    "\n"
   ]
  },
  {
   "cell_type": "code",
   "execution_count": 1,
   "metadata": {},
   "outputs": [],
   "source": [
    "import torch\n",
    "import torch.nn as nn\n",
    "import torch.nn.init as init\n",
    "from datetime import datetime\n",
    "from data import MultiFunctionDatasetODE, custom_collate_ODE_fn\n",
    "from torch.utils.data import DataLoader\n",
    "import torch.optim as optim\n",
    "import matplotlib.pyplot as plt\n",
    "import numpy as np\n",
    "import plotter"
   ]
  },
  {
   "cell_type": "markdown",
   "metadata": {},
   "source": [
    "# Implemention of the DeepONet"
   ]
  },
  {
   "cell_type": "markdown",
   "metadata": {},
   "source": [
    "`DenseNetwork(nn.Module)` takes as input 2 vectors: `layer_sizes` (size of each layer of NN including input and output sizes) and `activations` (activation function after each layer, available options include: 'relu', 'tanh', 'sigmoid', 'leaky_relu', 'elu', 'none'). This function is just a way to initialize a simple neural network."
   ]
  },
  {
   "cell_type": "code",
   "execution_count": 2,
   "metadata": {},
   "outputs": [],
   "source": [
    "class DenseNetwork(nn.Module):\n",
    "    def __init__(self, layer_sizes, activations):\n",
    "        super(DenseNetwork, self).__init__()\n",
    "        assert len(layer_sizes) - 1 == len(activations), \"Activation count must match the number of layers - 1\"\n",
    "        \n",
    "        layers = []\n",
    "        for i in range(len(layer_sizes) - 1):\n",
    "            layers.append(nn.Linear(layer_sizes[i], layer_sizes[i + 1]))\n",
    "            if activations[i] is not None:\n",
    "                layers.append(self.get_activation(activations[i]))\n",
    "        self.network = nn.Sequential(*layers)\n",
    "        \n",
    "        # Apply Glorot initialization\n",
    "        self.apply(self.initialize_weights)\n",
    "\n",
    "    def forward(self, x):\n",
    "        return self.network(x)\n",
    "    \n",
    "    @staticmethod\n",
    "    def get_activation(name):\n",
    "        activations = {\n",
    "            'relu': nn.ReLU(),\n",
    "            'tanh': nn.Tanh(),\n",
    "            'sigmoid': nn.Sigmoid(),\n",
    "            'leaky_relu': nn.LeakyReLU(),\n",
    "            'elu': nn.ELU(),\n",
    "            'none': nn.Identity()\n",
    "        }\n",
    "        if name not in activations:\n",
    "            raise ValueError(f\"Unsupported activation: {name}. Supported: {list(activations.keys())}\")\n",
    "        return activations[name]\n",
    "\n",
    "    @staticmethod\n",
    "    def initialize_weights(layer):\n",
    "\n",
    "        if isinstance(layer, nn.Linear):\n",
    "            init.xavier_uniform_(layer.weight)\n",
    "            if layer.bias is not None:\n",
    "                init.zeros_(layer.bias)"
   ]
  },
  {
   "cell_type": "markdown",
   "metadata": {},
   "source": [
    "DeepOnet has the following structure:\n",
    "- There are two neural networks: branch and trunk NNs\n",
    "- Each NN has its own output vector\n",
    "- Dot product of these two vectors is output vector of the DeepOnet\n",
    "\n",
    "The architecture can be see at the Figure 1.\n",
    "\n",
    "<center><img src=\"https://www.researchgate.net/publication/369528434/figure/fig1/AS:11431281157276229@1683770151535/DeepONet-architecture-stacked-42-used-in-the-present-study.png\" width=\"800px\">\n",
    "<p>Figure 1 - Architecture of the DeepONet</p>\n",
    "</center>\n",
    "\n",
    "So, to initialize DeepONet, we need to create 2 neural networks with architectures provided by users and combine their outputs. Using class `DenseNetwork`, we can initialize branch and trunk NNs. Forward method of `DeepONet` can be calculated using `torch.einsum` functions that would combine forward passes of these 2 NNs.\n"
   ]
  },
  {
   "cell_type": "code",
   "execution_count": 3,
   "metadata": {},
   "outputs": [],
   "source": [
    "class DeepONetCartesianProd(nn.Module):\n",
    "    def __init__(self, branch_net, trunk_net, branch_activations, trunk_activations, input_feature=None):\n",
    "        super(DeepONetCartesianProd, self).__init__()\n",
    "        self.branch_net = DenseNetwork(branch_net, branch_activations)\n",
    "        self.trunk_net = DenseNetwork(trunk_net, trunk_activations)\n",
    "\n",
    "\n",
    "        if input_feature is not None:\n",
    "            self.input_encode = input_feature\n",
    "        else:\n",
    "            self.input_encode = None\n",
    "\n",
    "\n",
    "    def forward(self, branch_input, trunk_input):\n",
    "\n",
    "        branch_output = self.branch_net(branch_input)  # Shape: (batch_size, branch_net[-1])\n",
    "        \n",
    "        if self.input_encode is not None:\n",
    "            trunk_input = self.input_encode(trunk_input)\n",
    "        \n",
    "        trunk_output = self.trunk_net(trunk_input)    # Shape: (batch_size, trunk_net[-1])\n",
    "        output = torch.einsum(\"bp,np->bn\", branch_output, trunk_output)\n",
    "\n",
    "        return output"
   ]
  },
  {
   "cell_type": "markdown",
   "metadata": {},
   "source": [
    "# Implement `training()` of the DeepONet"
   ]
  },
  {
   "cell_type": "markdown",
   "metadata": {},
   "source": [
    "In this function `training()`, I tried to be as generic as possible. The function takes as input `model` (created using class `DeepONetCartesianProd`), `optimizer` (for example `Adam`), `dataloader` (created specifically for the problem) and functions that will calculate specific losses that are associated with the problem (`physics_loss_func()`, `initial_loss_func()`, `boundary_loss_func()`). "
   ]
  },
  {
   "cell_type": "code",
   "execution_count": 4,
   "metadata": {},
   "outputs": [],
   "source": [
    "def training(model, optimizer, dataloader, num_epochs= 1000, physics_loss_func=None, initial_loss_func=None, boundary_loss_func= None, plot=False):\n",
    "    losses = []\n",
    "    for epoch in range(num_epochs):\n",
    "        model.train()\n",
    "        for u, t, t0, ut in dataloader:\n",
    "\n",
    "            t.requires_grad_(True)\n",
    "            batch_size = u.shape[0]\n",
    "            n_points = t.shape[0]\n",
    "\n",
    "            physics_loss = physics_loss_func(model, u, t, t0, ut, batch_size, n_points) if physics_loss_func is not None else torch.zeros(1, device=t.device)\n",
    "            initial_loss = initial_loss_func(model, u, t, t0, ut, batch_size, n_points) if initial_loss_func is not None else torch.zeros(1, device=t.device)\n",
    "            boundary_loss = boundary_loss_func(model, u, t, t0, ut, batch_size, n_points) if boundary_loss_func is not None else torch.zeros(1, device=t.device)\n",
    "            # Total loss\n",
    "            loss = physics_loss + initial_loss + boundary_loss\n",
    "\n",
    "            optimizer.zero_grad()\n",
    "            loss.backward()\n",
    "            optimizer.step()\n",
    "        \n",
    "        if (epoch + 1) % 10 == 0:\n",
    "            print(f'Epoch [{epoch+1}/{num_epochs}], Loss: {loss.item():.4f}, '\n",
    "                    f'initial_loss: {initial_loss.item():.6f}, physics_loss: {physics_loss.item():.6f}, '\n",
    "                    f'time: {datetime.now().time()}')\n",
    "            \n",
    "            if plot == True:\n",
    "                plotter.GRF_test(model,m=m,lb=grf_lb,ub=grf_ub)\n",
    "                plotter.linear_test(model,m=m)\n",
    "                plotter.optimal_test(model,m=m)\n",
    "                plotter.constant_test(model,m=m)\n",
    "                plotter.polynomial_test(model,m=m)\n",
    "                plotter.sine_test(model,m=m)\n",
    "        \n",
    "        if (epoch + 1) % 100 == 0:\n",
    "            timestamp = datetime.now().strftime('%Y%m%d-%H%M%S')\n",
    "            model_filename = f'model_time_[{timestamp}]_loss_[{loss.item():.4f}].pth'\n",
    "            torch.save(model.state_dict(), f\"trained_models/deep_o_net/{model_filename}\")\n",
    "                        \n",
    "\n",
    "\n",
    "        losses.append(loss)\n",
    "\n",
    "\n",
    "    return model, losses"
   ]
  },
  {
   "cell_type": "markdown",
   "metadata": {},
   "source": [
    "# Define loss functions specific to the problem"
   ]
  },
  {
   "cell_type": "markdown",
   "metadata": {},
   "source": [
    "At first, I will implement the loss functions for the simple Feldbaum problem. The Feldbaum problem is defined as follows:\n",
    "$$\\text{min}_u \\ \\int_{0}^{1} (x^2 + u^2)dt$$\n",
    "$$\\text{s.t.} \\ \\frac{dx}{dt} = x - u$$\n",
    "$$ x(0) = 1$$\n",
    "\n",
    "Additionally, I added an initial condition that $x(t_0) = 1$\n",
    "\n",
    "The physics loss refers to differential equation being non-violated. Ideally,\n",
    "$$\\frac{dx}{dt} - x + u = 0$$\n",
    "\n",
    "where $u$ is input function, $x$ is solution found by neural operator and $x_t$ can be found using `autograd` function which is part of `torch` functionality."
   ]
  },
  {
   "cell_type": "code",
   "execution_count": 5,
   "metadata": {},
   "outputs": [],
   "source": [
    "def physics_loss_func(model, u, t, t0, ut, batch_size, n_points, dim_x = 1):\n",
    "\n",
    "    x = model(u, t)\n",
    "\n",
    "    # Physics loss\n",
    "    dx = torch.zeros(batch_size, n_points, dim_x, device=t.device)\n",
    "    \n",
    "    # This loop is a bottleneck but i havent found a way to parallize this efficiently\n",
    "    for b in range(batch_size):\n",
    "        # Compute gradients for each batch independently\n",
    "        dx[b] = torch.autograd.grad(x[b], t, torch.ones_like(x[b]), create_graph=True)[0]\n",
    "\n",
    "    dx_dt = dx[:,:,0]\n",
    "\n",
    "    # physics loss\n",
    "    physics = dx_dt + x - ut\n",
    "    physics_loss = torch.mean(physics**2)\n",
    "\n",
    "    return physics_loss"
   ]
  },
  {
   "cell_type": "markdown",
   "metadata": {},
   "source": [
    "At first, in the function `physics_loss_func`  we extract the $x_t$ from each batch. `physics` stores the differential equation that we shouldn't violate. And final `physics_loss` is a mean squared error. \n",
    "\n",
    "As input parameters, it takes all the information from the training dataset and output of the neural network `x`."
   ]
  },
  {
   "cell_type": "markdown",
   "metadata": {},
   "source": [
    "Innitial loss function is easy in our case. The output of the neural network at $t=0$ just should be 1."
   ]
  },
  {
   "cell_type": "code",
   "execution_count": 6,
   "metadata": {},
   "outputs": [],
   "source": [
    "def innitial_loss_func(model, u, t, t0, ut, batch_size, n_points):\n",
    "\n",
    "    x_0 = model(u, t0)\n",
    "    initial_loss = torch.mean((torch.ones_like(x_0) - x_0)**2)\n",
    "    \n",
    "    return initial_loss"
   ]
  },
  {
   "cell_type": "markdown",
   "metadata": {},
   "source": [
    "# Generate model and training data"
   ]
  },
  {
   "cell_type": "markdown",
   "metadata": {},
   "source": [
    "## Define model"
   ]
  },
  {
   "cell_type": "markdown",
   "metadata": {},
   "source": [
    "Define number of layers of NNs and number of neurons at each layer. The output size of both trunk and branch networks should be the same."
   ]
  },
  {
   "cell_type": "code",
   "execution_count": 7,
   "metadata": {},
   "outputs": [],
   "source": [
    "# Model Parameters\n",
    "m = 200         # sensor size (branch input size)\n",
    "n_hid = 250     # layer's hidden sizes\n",
    "p = 200         # output size\n",
    "dim_x = 1       # trunk (trunk input size)\n",
    "lr = 0.0001\n",
    "num_epochs = 1000\n",
    "\n",
    "# Specify device\n",
    "device = torch.device('cuda' if torch.cuda.is_available() else 'cpu')\n",
    "\n",
    "# Specify the MLP architecture\n",
    "branch_net = [m, n_hid, n_hid, n_hid, n_hid, p]\n",
    "branch_activations = ['tanh', 'tanh','tanh', 'tanh', None]\n",
    "trunk_net = [dim_x, n_hid, n_hid, n_hid, n_hid, p]\n",
    "trunk_activations = ['tanh', 'tanh', 'tanh', 'tanh',None]\n",
    "\n",
    "# Initialize model\n",
    "model = DeepONetCartesianProd(branch_net, trunk_net, branch_activations, trunk_activations)\n",
    "model.to(device)\n",
    "\n",
    "#Initialize Optimizer\n",
    "optimizer = optim.Adam(model.parameters(), lr=lr)"
   ]
  },
  {
   "cell_type": "markdown",
   "metadata": {},
   "source": [
    "## Generate training dataset"
   ]
  },
  {
   "cell_type": "markdown",
   "metadata": {},
   "source": [
    "Here we generate all possible candidates for the the control function $u(t)$. We want to train our DeepONet on a diverse domain of functions. In this case we train model on next families of functions: `grf`, `linear`, `sine`, `polynomial`, `constant`. "
   ]
  },
  {
   "cell_type": "code",
   "execution_count": 8,
   "metadata": {},
   "outputs": [],
   "source": [
    "#Dataset parameters\n",
    "n_functions = 10000\n",
    "grf_lb = 0.02\n",
    "grf_ub = 0.5\n",
    "end_time = 1.0\n",
    "num_domain = 200\n",
    "num_initial = 20\n",
    "\n",
    "dataset = MultiFunctionDatasetODE(\n",
    "    m=m,\n",
    "    n_functions=n_functions,\n",
    "    function_types=['grf', 'linear', 'sine', 'polynomial','constant'],\n",
    "    end_time = end_time,\n",
    "    num_domain = num_domain,\n",
    "    num_initial = num_initial,\n",
    "    grf_lb = grf_lb,\n",
    "    grf_ub = grf_ub\n",
    ")\n",
    "\n",
    "dataloader = DataLoader(dataset, batch_size=100, collate_fn=custom_collate_ODE_fn, shuffle=True)"
   ]
  },
  {
   "cell_type": "markdown",
   "metadata": {},
   "source": [
    "# Train DeepONet model"
   ]
  },
  {
   "cell_type": "markdown",
   "metadata": {},
   "source": [
    "Now, we should have everything to train the DeepONet model"
   ]
  },
  {
   "cell_type": "code",
   "execution_count": 42,
   "metadata": {},
   "outputs": [
    {
     "name": "stdout",
     "output_type": "stream",
     "text": [
      "Epoch [10/1000], Loss: 0.3431, initial_loss: 0.001980, physics_loss: 0.341072, time: 11:46:11.797105\n",
      "Epoch [20/1000], Loss: 0.2782, initial_loss: 0.000751, physics_loss: 0.277495, time: 11:47:08.553781\n",
      "Epoch [30/1000], Loss: 0.3021, initial_loss: 0.000391, physics_loss: 0.301691, time: 11:48:04.724948\n",
      "Epoch [40/1000], Loss: 0.3116, initial_loss: 0.000176, physics_loss: 0.311441, time: 11:49:00.867973\n",
      "Epoch [50/1000], Loss: 0.2184, initial_loss: 0.001069, physics_loss: 0.217298, time: 11:49:57.239326\n",
      "Epoch [60/1000], Loss: 0.2798, initial_loss: 0.000210, physics_loss: 0.279605, time: 11:50:53.401994\n",
      "Epoch [70/1000], Loss: 0.2490, initial_loss: 0.000479, physics_loss: 0.248495, time: 11:51:49.704989\n",
      "Epoch [80/1000], Loss: 0.2022, initial_loss: 0.000512, physics_loss: 0.201674, time: 11:52:55.936532\n",
      "Epoch [90/1000], Loss: 0.1547, initial_loss: 0.000311, physics_loss: 0.154417, time: 11:53:50.988783\n",
      "Epoch [100/1000], Loss: 0.1986, initial_loss: 0.000905, physics_loss: 0.197712, time: 11:54:45.556091\n",
      "Epoch [110/1000], Loss: 0.1218, initial_loss: 0.000379, physics_loss: 0.121448, time: 11:55:41.146596\n",
      "Epoch [120/1000], Loss: 0.1563, initial_loss: 0.000274, physics_loss: 0.156060, time: 11:56:37.952642\n",
      "Epoch [130/1000], Loss: 0.2109, initial_loss: 0.000190, physics_loss: 0.210663, time: 11:57:34.528077\n",
      "Epoch [140/1000], Loss: 0.2344, initial_loss: 0.001525, physics_loss: 0.232906, time: 11:58:29.238513\n",
      "Epoch [150/1000], Loss: 0.1700, initial_loss: 0.000422, physics_loss: 0.169530, time: 11:59:23.691141\n",
      "Epoch [160/1000], Loss: 0.0932, initial_loss: 0.000210, physics_loss: 0.092963, time: 12:00:18.721899\n",
      "Epoch [170/1000], Loss: 0.1224, initial_loss: 0.000146, physics_loss: 0.122207, time: 12:01:12.728369\n",
      "Epoch [180/1000], Loss: 0.1896, initial_loss: 0.000144, physics_loss: 0.189420, time: 12:02:10.535725\n",
      "Epoch [190/1000], Loss: 0.1358, initial_loss: 0.000440, physics_loss: 0.135340, time: 12:03:06.288552\n",
      "Epoch [200/1000], Loss: 0.0839, initial_loss: 0.000134, physics_loss: 0.083796, time: 12:04:02.084649\n",
      "Epoch [210/1000], Loss: 0.0984, initial_loss: 0.002516, physics_loss: 0.095892, time: 12:04:57.162786\n",
      "Epoch [220/1000], Loss: 0.1459, initial_loss: 0.000559, physics_loss: 0.145326, time: 12:05:52.084728\n",
      "Epoch [230/1000], Loss: 0.0754, initial_loss: 0.000099, physics_loss: 0.075284, time: 12:06:46.475118\n",
      "Epoch [240/1000], Loss: 0.0407, initial_loss: 0.000469, physics_loss: 0.040269, time: 12:07:40.819612\n",
      "Epoch [250/1000], Loss: 0.0484, initial_loss: 0.000119, physics_loss: 0.048311, time: 12:08:35.643532\n",
      "Epoch [260/1000], Loss: 0.0987, initial_loss: 0.000203, physics_loss: 0.098503, time: 12:09:30.232678\n",
      "Epoch [270/1000], Loss: 0.0620, initial_loss: 0.000207, physics_loss: 0.061803, time: 12:10:24.272226\n",
      "Epoch [280/1000], Loss: 0.0613, initial_loss: 0.000157, physics_loss: 0.061112, time: 12:11:17.997603\n",
      "Epoch [290/1000], Loss: 0.0389, initial_loss: 0.000347, physics_loss: 0.038551, time: 12:12:11.681220\n",
      "Epoch [300/1000], Loss: 0.0597, initial_loss: 0.000396, physics_loss: 0.059316, time: 12:13:05.310722\n",
      "Epoch [310/1000], Loss: 0.0419, initial_loss: 0.000083, physics_loss: 0.041835, time: 12:14:00.059063\n",
      "Epoch [320/1000], Loss: 0.0424, initial_loss: 0.000189, physics_loss: 0.042259, time: 12:14:54.063556\n",
      "Epoch [330/1000], Loss: 0.0129, initial_loss: 0.000325, physics_loss: 0.012531, time: 12:15:49.460503\n",
      "Epoch [340/1000], Loss: 0.0111, initial_loss: 0.000520, physics_loss: 0.010535, time: 12:16:42.845929\n",
      "Epoch [350/1000], Loss: 0.0485, initial_loss: 0.000701, physics_loss: 0.047848, time: 12:17:36.465424\n",
      "Epoch [360/1000], Loss: 0.0335, initial_loss: 0.000173, physics_loss: 0.033337, time: 12:18:29.856722\n",
      "Epoch [370/1000], Loss: 0.0121, initial_loss: 0.000054, physics_loss: 0.012032, time: 12:19:23.329560\n",
      "Epoch [380/1000], Loss: 0.0136, initial_loss: 0.000097, physics_loss: 0.013510, time: 12:20:17.577516\n",
      "Epoch [390/1000], Loss: 0.0214, initial_loss: 0.000197, physics_loss: 0.021160, time: 12:21:12.543506\n",
      "Epoch [400/1000], Loss: 0.0193, initial_loss: 0.000156, physics_loss: 0.019113, time: 12:22:06.355024\n",
      "Epoch [410/1000], Loss: 0.0199, initial_loss: 0.000078, physics_loss: 0.019800, time: 12:22:59.906780\n",
      "Epoch [420/1000], Loss: 0.0163, initial_loss: 0.000074, physics_loss: 0.016183, time: 12:23:59.992019\n",
      "Epoch [430/1000], Loss: 0.0182, initial_loss: 0.000087, physics_loss: 0.018148, time: 12:24:57.424324\n",
      "Epoch [440/1000], Loss: 0.0163, initial_loss: 0.000098, physics_loss: 0.016200, time: 12:25:54.296336\n",
      "Epoch [450/1000], Loss: 0.0137, initial_loss: 0.000146, physics_loss: 0.013554, time: 12:26:50.564873\n",
      "Epoch [460/1000], Loss: 0.0167, initial_loss: 0.000236, physics_loss: 0.016458, time: 12:27:46.454633\n",
      "Epoch [470/1000], Loss: 0.0068, initial_loss: 0.000133, physics_loss: 0.006651, time: 12:28:41.839425\n",
      "Epoch [480/1000], Loss: 0.0296, initial_loss: 0.000117, physics_loss: 0.029515, time: 12:29:38.655912\n",
      "Epoch [490/1000], Loss: 0.0156, initial_loss: 0.000070, physics_loss: 0.015487, time: 12:30:33.818536\n",
      "Epoch [500/1000], Loss: 0.0134, initial_loss: 0.000039, physics_loss: 0.013335, time: 12:31:28.821926\n",
      "Epoch [510/1000], Loss: 0.0145, initial_loss: 0.000103, physics_loss: 0.014445, time: 12:32:23.675378\n",
      "Epoch [520/1000], Loss: 0.0120, initial_loss: 0.000208, physics_loss: 0.011748, time: 12:33:18.480365\n",
      "Epoch [530/1000], Loss: 0.0037, initial_loss: 0.000016, physics_loss: 0.003666, time: 12:34:13.395296\n",
      "Epoch [540/1000], Loss: 0.0099, initial_loss: 0.000083, physics_loss: 0.009770, time: 12:35:07.997748\n",
      "Epoch [550/1000], Loss: 0.0122, initial_loss: 0.000106, physics_loss: 0.012134, time: 12:36:02.431474\n",
      "Epoch [560/1000], Loss: 0.0064, initial_loss: 0.000060, physics_loss: 0.006359, time: 12:36:56.647940\n",
      "Epoch [570/1000], Loss: 0.0043, initial_loss: 0.000139, physics_loss: 0.004130, time: 12:37:50.914809\n",
      "Epoch [580/1000], Loss: 0.0089, initial_loss: 0.000144, physics_loss: 0.008731, time: 12:38:44.901886\n",
      "Epoch [590/1000], Loss: 0.0142, initial_loss: 0.000078, physics_loss: 0.014132, time: 12:39:39.116166\n",
      "Epoch [600/1000], Loss: 0.0077, initial_loss: 0.000091, physics_loss: 0.007599, time: 12:40:34.907990\n"
     ]
    },
    {
     "ename": "KeyboardInterrupt",
     "evalue": "",
     "output_type": "error",
     "traceback": [
      "\u001b[0;31m---------------------------------------------------------------------------\u001b[0m",
      "\u001b[0;31mKeyboardInterrupt\u001b[0m                         Traceback (most recent call last)",
      "Cell \u001b[0;32mIn[42], line 1\u001b[0m\n\u001b[0;32m----> 1\u001b[0m trained_model, lossses \u001b[38;5;241m=\u001b[39m \u001b[43mtraining\u001b[49m\u001b[43m(\u001b[49m\u001b[43mmodel\u001b[49m\u001b[43m,\u001b[49m\u001b[43m \u001b[49m\u001b[43moptimizer\u001b[49m\u001b[43m,\u001b[49m\u001b[43m \u001b[49m\u001b[43mdataloader\u001b[49m\u001b[43m,\u001b[49m\u001b[43m \u001b[49m\u001b[43mnum_epochs\u001b[49m\u001b[43m \u001b[49m\u001b[38;5;241;43m=\u001b[39;49m\u001b[43m \u001b[49m\u001b[43mnum_epochs\u001b[49m\u001b[43m,\u001b[49m\u001b[43m \u001b[49m\u001b[43mphysics_loss_func\u001b[49m\u001b[38;5;241;43m=\u001b[39;49m\u001b[43mphysics_loss_func\u001b[49m\u001b[43m,\u001b[49m\u001b[43m \u001b[49m\u001b[43minitial_loss_func\u001b[49m\u001b[38;5;241;43m=\u001b[39;49m\u001b[43minnitial_loss_func\u001b[49m\u001b[43m,\u001b[49m\u001b[43m \u001b[49m\u001b[43mplot\u001b[49m\u001b[38;5;241;43m=\u001b[39;49m\u001b[38;5;28;43;01mTrue\u001b[39;49;00m\u001b[43m)\u001b[49m\n",
      "Cell \u001b[0;32mIn[37], line 18\u001b[0m, in \u001b[0;36mtraining\u001b[0;34m(model, optimizer, dataloader, num_epochs, physics_loss_func, initial_loss_func, boundary_loss_func, plot)\u001b[0m\n\u001b[1;32m     15\u001b[0m     loss \u001b[38;5;241m=\u001b[39m physics_loss \u001b[38;5;241m+\u001b[39m initial_loss \u001b[38;5;241m+\u001b[39m boundary_loss\n\u001b[1;32m     17\u001b[0m     optimizer\u001b[38;5;241m.\u001b[39mzero_grad()\n\u001b[0;32m---> 18\u001b[0m     \u001b[43mloss\u001b[49m\u001b[38;5;241;43m.\u001b[39;49m\u001b[43mbackward\u001b[49m\u001b[43m(\u001b[49m\u001b[43m)\u001b[49m\n\u001b[1;32m     19\u001b[0m     optimizer\u001b[38;5;241m.\u001b[39mstep()\n\u001b[1;32m     21\u001b[0m \u001b[38;5;28;01mif\u001b[39;00m (epoch \u001b[38;5;241m+\u001b[39m \u001b[38;5;241m1\u001b[39m) \u001b[38;5;241m%\u001b[39m \u001b[38;5;241m10\u001b[39m \u001b[38;5;241m==\u001b[39m \u001b[38;5;241m0\u001b[39m:\n",
      "File \u001b[0;32m~/Documents/Thesis/.venv/lib/python3.10/site-packages/torch/_tensor.py:626\u001b[0m, in \u001b[0;36mTensor.backward\u001b[0;34m(self, gradient, retain_graph, create_graph, inputs)\u001b[0m\n\u001b[1;32m    616\u001b[0m \u001b[38;5;28;01mif\u001b[39;00m has_torch_function_unary(\u001b[38;5;28mself\u001b[39m):\n\u001b[1;32m    617\u001b[0m     \u001b[38;5;28;01mreturn\u001b[39;00m handle_torch_function(\n\u001b[1;32m    618\u001b[0m         Tensor\u001b[38;5;241m.\u001b[39mbackward,\n\u001b[1;32m    619\u001b[0m         (\u001b[38;5;28mself\u001b[39m,),\n\u001b[0;32m   (...)\u001b[0m\n\u001b[1;32m    624\u001b[0m         inputs\u001b[38;5;241m=\u001b[39minputs,\n\u001b[1;32m    625\u001b[0m     )\n\u001b[0;32m--> 626\u001b[0m \u001b[43mtorch\u001b[49m\u001b[38;5;241;43m.\u001b[39;49m\u001b[43mautograd\u001b[49m\u001b[38;5;241;43m.\u001b[39;49m\u001b[43mbackward\u001b[49m\u001b[43m(\u001b[49m\n\u001b[1;32m    627\u001b[0m \u001b[43m    \u001b[49m\u001b[38;5;28;43mself\u001b[39;49m\u001b[43m,\u001b[49m\u001b[43m \u001b[49m\u001b[43mgradient\u001b[49m\u001b[43m,\u001b[49m\u001b[43m \u001b[49m\u001b[43mretain_graph\u001b[49m\u001b[43m,\u001b[49m\u001b[43m \u001b[49m\u001b[43mcreate_graph\u001b[49m\u001b[43m,\u001b[49m\u001b[43m \u001b[49m\u001b[43minputs\u001b[49m\u001b[38;5;241;43m=\u001b[39;49m\u001b[43minputs\u001b[49m\n\u001b[1;32m    628\u001b[0m \u001b[43m\u001b[49m\u001b[43m)\u001b[49m\n",
      "File \u001b[0;32m~/Documents/Thesis/.venv/lib/python3.10/site-packages/torch/autograd/__init__.py:347\u001b[0m, in \u001b[0;36mbackward\u001b[0;34m(tensors, grad_tensors, retain_graph, create_graph, grad_variables, inputs)\u001b[0m\n\u001b[1;32m    342\u001b[0m     retain_graph \u001b[38;5;241m=\u001b[39m create_graph\n\u001b[1;32m    344\u001b[0m \u001b[38;5;66;03m# The reason we repeat the same comment below is that\u001b[39;00m\n\u001b[1;32m    345\u001b[0m \u001b[38;5;66;03m# some Python versions print out the first line of a multi-line function\u001b[39;00m\n\u001b[1;32m    346\u001b[0m \u001b[38;5;66;03m# calls in the traceback and some print out the last line\u001b[39;00m\n\u001b[0;32m--> 347\u001b[0m \u001b[43m_engine_run_backward\u001b[49m\u001b[43m(\u001b[49m\n\u001b[1;32m    348\u001b[0m \u001b[43m    \u001b[49m\u001b[43mtensors\u001b[49m\u001b[43m,\u001b[49m\n\u001b[1;32m    349\u001b[0m \u001b[43m    \u001b[49m\u001b[43mgrad_tensors_\u001b[49m\u001b[43m,\u001b[49m\n\u001b[1;32m    350\u001b[0m \u001b[43m    \u001b[49m\u001b[43mretain_graph\u001b[49m\u001b[43m,\u001b[49m\n\u001b[1;32m    351\u001b[0m \u001b[43m    \u001b[49m\u001b[43mcreate_graph\u001b[49m\u001b[43m,\u001b[49m\n\u001b[1;32m    352\u001b[0m \u001b[43m    \u001b[49m\u001b[43minputs\u001b[49m\u001b[43m,\u001b[49m\n\u001b[1;32m    353\u001b[0m \u001b[43m    \u001b[49m\u001b[43mallow_unreachable\u001b[49m\u001b[38;5;241;43m=\u001b[39;49m\u001b[38;5;28;43;01mTrue\u001b[39;49;00m\u001b[43m,\u001b[49m\n\u001b[1;32m    354\u001b[0m \u001b[43m    \u001b[49m\u001b[43maccumulate_grad\u001b[49m\u001b[38;5;241;43m=\u001b[39;49m\u001b[38;5;28;43;01mTrue\u001b[39;49;00m\u001b[43m,\u001b[49m\n\u001b[1;32m    355\u001b[0m \u001b[43m\u001b[49m\u001b[43m)\u001b[49m\n",
      "File \u001b[0;32m~/Documents/Thesis/.venv/lib/python3.10/site-packages/torch/autograd/graph.py:823\u001b[0m, in \u001b[0;36m_engine_run_backward\u001b[0;34m(t_outputs, *args, **kwargs)\u001b[0m\n\u001b[1;32m    821\u001b[0m     unregister_hooks \u001b[38;5;241m=\u001b[39m _register_logging_hooks_on_whole_graph(t_outputs)\n\u001b[1;32m    822\u001b[0m \u001b[38;5;28;01mtry\u001b[39;00m:\n\u001b[0;32m--> 823\u001b[0m     \u001b[38;5;28;01mreturn\u001b[39;00m \u001b[43mVariable\u001b[49m\u001b[38;5;241;43m.\u001b[39;49m\u001b[43m_execution_engine\u001b[49m\u001b[38;5;241;43m.\u001b[39;49m\u001b[43mrun_backward\u001b[49m\u001b[43m(\u001b[49m\u001b[43m  \u001b[49m\u001b[38;5;66;43;03m# Calls into the C++ engine to run the backward pass\u001b[39;49;00m\n\u001b[1;32m    824\u001b[0m \u001b[43m        \u001b[49m\u001b[43mt_outputs\u001b[49m\u001b[43m,\u001b[49m\u001b[43m \u001b[49m\u001b[38;5;241;43m*\u001b[39;49m\u001b[43margs\u001b[49m\u001b[43m,\u001b[49m\u001b[43m \u001b[49m\u001b[38;5;241;43m*\u001b[39;49m\u001b[38;5;241;43m*\u001b[39;49m\u001b[43mkwargs\u001b[49m\n\u001b[1;32m    825\u001b[0m \u001b[43m    \u001b[49m\u001b[43m)\u001b[49m  \u001b[38;5;66;03m# Calls into the C++ engine to run the backward pass\u001b[39;00m\n\u001b[1;32m    826\u001b[0m \u001b[38;5;28;01mfinally\u001b[39;00m:\n\u001b[1;32m    827\u001b[0m     \u001b[38;5;28;01mif\u001b[39;00m attach_logging_hooks:\n",
      "\u001b[0;31mKeyboardInterrupt\u001b[0m: "
     ]
    }
   ],
   "source": [
    "trained_model, lossses = training(model, optimizer, dataloader, num_epochs = num_epochs, physics_loss_func=physics_loss_func, initial_loss_func=innitial_loss_func, plot=True)"
   ]
  },
  {
   "cell_type": "code",
   "execution_count": 9,
   "metadata": {},
   "outputs": [
    {
     "data": {
      "text/plain": [
       "DeepONetCartesianProd(\n",
       "  (branch_net): DenseNetwork(\n",
       "    (network): Sequential(\n",
       "      (0): Linear(in_features=200, out_features=250, bias=True)\n",
       "      (1): Tanh()\n",
       "      (2): Linear(in_features=250, out_features=250, bias=True)\n",
       "      (3): Tanh()\n",
       "      (4): Linear(in_features=250, out_features=250, bias=True)\n",
       "      (5): Tanh()\n",
       "      (6): Linear(in_features=250, out_features=250, bias=True)\n",
       "      (7): Tanh()\n",
       "      (8): Linear(in_features=250, out_features=200, bias=True)\n",
       "    )\n",
       "  )\n",
       "  (trunk_net): DenseNetwork(\n",
       "    (network): Sequential(\n",
       "      (0): Linear(in_features=1, out_features=250, bias=True)\n",
       "      (1): Tanh()\n",
       "      (2): Linear(in_features=250, out_features=250, bias=True)\n",
       "      (3): Tanh()\n",
       "      (4): Linear(in_features=250, out_features=250, bias=True)\n",
       "      (5): Tanh()\n",
       "      (6): Linear(in_features=250, out_features=250, bias=True)\n",
       "      (7): Tanh()\n",
       "      (8): Linear(in_features=250, out_features=200, bias=True)\n",
       "    )\n",
       "  )\n",
       ")"
      ]
     },
     "execution_count": 9,
     "metadata": {},
     "output_type": "execute_result"
    }
   ],
   "source": [
    "model =  DeepONetCartesianProd(branch_net, trunk_net, branch_activations, trunk_activations)\n",
    "model.to(device)\n",
    "model.load_state_dict(torch.load('trained_models/deep_o_net/model_time_[20250306-124037]_loss_[0.0077].pth'))\n",
    "model.eval()  # set the model to evaluation mode"
   ]
  },
  {
   "cell_type": "markdown",
   "metadata": {},
   "source": [
    "# Solve Feldbaum problem"
   ]
  },
  {
   "cell_type": "markdown",
   "metadata": {},
   "source": [
    "So far, we just trained neural operator to approximate $x$ for given input control function $u$, but we haven't touched optimization part yet. I will remind you what is the problem that we are trying to solve:\n",
    "\n",
    "$$\\text{min}_u \\ \\ \\frac{1}{2}\\int_{0}^{1} (x^2 + u^2)dt$$\n",
    "$$\\text{s.t.} \\ \\frac{dx}{dt} = x - u$$\n",
    "$$ x(0) = 1$$\n",
    "\n",
    "So, we should find such control function $u$ that this integral is minimized \n"
   ]
  },
  {
   "cell_type": "code",
   "execution_count": 10,
   "metadata": {},
   "outputs": [],
   "source": [
    "def objective_function(args):\n",
    "\n",
    "    dx_dt = torch.autograd.grad(args['x'], args['t'], grad_outputs=torch.ones_like(args['x']), create_graph=True)[0]\n",
    "    J = ((args['x']**2 + args['u']**2) * torch.ones_like(args['t'])).sum() * (args['t'][1] - args['t'][0])/2  + torch.mean((torch.ones_like(args['x']) - args['x'])**2) + torch.mean((dx_dt + args['x'] - args['u'])**2)\n",
    "\n",
    "    return J\n"
   ]
  },
  {
   "cell_type": "code",
   "execution_count": 11,
   "metadata": {},
   "outputs": [],
   "source": [
    "def gradient_descent(alpha, m, num_epochs, model, objective_function):  \n",
    "\n",
    "    u = torch.zeros(m, device= device).unsqueeze(0) \n",
    "    t = torch.linspace(0, end_time, m, device= device).unsqueeze(1) \n",
    "    \n",
    "    u.requires_grad_(True)\n",
    "    t.requires_grad_(True)\n",
    "\n",
    "    for epoch in range(num_epochs):\n",
    "\n",
    "        x = model(u, t) \n",
    "        args = {'x': x, 'u': u, 't': t}\n",
    "        J = objective_function(args)\n",
    "        dJ_du = torch.autograd.grad(J, u, create_graph=True)[0]\n",
    "        u = u - alpha*dJ_du\n",
    "        print(f'Epoch [{epoch+1}/{num_epochs}], Loss: {J.item():.4f}, time: {datetime.now().time()}')\n",
    "\n",
    "    return u.cpu() , x.cpu() , J.cpu() \n"
   ]
  },
  {
   "cell_type": "code",
   "execution_count": 12,
   "metadata": {},
   "outputs": [
    {
     "name": "stderr",
     "output_type": "stream",
     "text": [
      "/u/87/begantm1/unix/Documents/Thesis/.venv/lib/python3.10/site-packages/torch/autograd/graph.py:823: UserWarning: Attempting to run cuBLAS, but there was no current CUDA context! Attempting to set the primary context... (Triggered internally at /pytorch/aten/src/ATen/cuda/CublasHandlePool.cpp:180.)\n",
      "  return Variable._execution_engine.run_backward(  # Calls into the C++ engine to run the backward pass\n"
     ]
    },
    {
     "name": "stdout",
     "output_type": "stream",
     "text": [
      "Epoch [1/100], Loss: 43.8941, time: 13:06:00.474237\n",
      "Epoch [2/100], Loss: 45.9026, time: 13:06:00.495998\n",
      "Epoch [3/100], Loss: 51.9951, time: 13:06:00.516743\n",
      "Epoch [4/100], Loss: 62.1505, time: 13:06:00.579193\n",
      "Epoch [5/100], Loss: 76.3557, time: 13:06:00.866961\n",
      "Epoch [6/100], Loss: 94.6112, time: 13:06:02.254534\n"
     ]
    },
    {
     "ename": "OutOfMemoryError",
     "evalue": "CUDA out of memory. Tried to allocate 2.00 MiB. GPU 0 has a total capacity of 11.65 GiB of which 4.44 MiB is free. Including non-PyTorch memory, this process has 11.39 GiB memory in use. Of the allocated memory 10.75 GiB is allocated by PyTorch, and 525.78 MiB is reserved by PyTorch but unallocated. If reserved but unallocated memory is large try setting PYTORCH_CUDA_ALLOC_CONF=expandable_segments:True to avoid fragmentation.  See documentation for Memory Management  (https://pytorch.org/docs/stable/notes/cuda.html#environment-variables)",
     "output_type": "error",
     "traceback": [
      "\u001b[0;31m---------------------------------------------------------------------------\u001b[0m",
      "\u001b[0;31mOutOfMemoryError\u001b[0m                          Traceback (most recent call last)",
      "Cell \u001b[0;32mIn[12], line 3\u001b[0m\n\u001b[1;32m      1\u001b[0m num_epochs \u001b[38;5;241m=\u001b[39m \u001b[38;5;241m100\u001b[39m\n\u001b[1;32m      2\u001b[0m alpha \u001b[38;5;241m=\u001b[39m \u001b[38;5;241m0.0001\u001b[39m\n\u001b[0;32m----> 3\u001b[0m u, x, J \u001b[38;5;241m=\u001b[39m \u001b[43mgradient_descent\u001b[49m\u001b[43m(\u001b[49m\u001b[43malpha\u001b[49m\u001b[43m,\u001b[49m\u001b[43m \u001b[49m\u001b[43mm\u001b[49m\u001b[43m,\u001b[49m\u001b[43m \u001b[49m\u001b[43mnum_epochs\u001b[49m\u001b[43m,\u001b[49m\u001b[43m \u001b[49m\u001b[43mmodel\u001b[49m\u001b[43m,\u001b[49m\u001b[43m \u001b[49m\u001b[43mobjective_function\u001b[49m\u001b[43m)\u001b[49m\n",
      "Cell \u001b[0;32mIn[11], line 14\u001b[0m, in \u001b[0;36mgradient_descent\u001b[0;34m(alpha, m, num_epochs, model, objective_function)\u001b[0m\n\u001b[1;32m     12\u001b[0m args \u001b[38;5;241m=\u001b[39m {\u001b[38;5;124m'\u001b[39m\u001b[38;5;124mx\u001b[39m\u001b[38;5;124m'\u001b[39m: x, \u001b[38;5;124m'\u001b[39m\u001b[38;5;124mu\u001b[39m\u001b[38;5;124m'\u001b[39m: u, \u001b[38;5;124m'\u001b[39m\u001b[38;5;124mt\u001b[39m\u001b[38;5;124m'\u001b[39m: t}\n\u001b[1;32m     13\u001b[0m J \u001b[38;5;241m=\u001b[39m objective_function(args)\n\u001b[0;32m---> 14\u001b[0m dJ_du \u001b[38;5;241m=\u001b[39m \u001b[43mtorch\u001b[49m\u001b[38;5;241;43m.\u001b[39;49m\u001b[43mautograd\u001b[49m\u001b[38;5;241;43m.\u001b[39;49m\u001b[43mgrad\u001b[49m\u001b[43m(\u001b[49m\u001b[43mJ\u001b[49m\u001b[43m,\u001b[49m\u001b[43m \u001b[49m\u001b[43mu\u001b[49m\u001b[43m,\u001b[49m\u001b[43m \u001b[49m\u001b[43mcreate_graph\u001b[49m\u001b[38;5;241;43m=\u001b[39;49m\u001b[38;5;28;43;01mTrue\u001b[39;49;00m\u001b[43m)\u001b[49m[\u001b[38;5;241m0\u001b[39m]\n\u001b[1;32m     15\u001b[0m u \u001b[38;5;241m=\u001b[39m u \u001b[38;5;241m-\u001b[39m alpha\u001b[38;5;241m*\u001b[39mdJ_du\n\u001b[1;32m     16\u001b[0m \u001b[38;5;28mprint\u001b[39m(\u001b[38;5;124mf\u001b[39m\u001b[38;5;124m'\u001b[39m\u001b[38;5;124mEpoch [\u001b[39m\u001b[38;5;132;01m{\u001b[39;00mepoch\u001b[38;5;241m+\u001b[39m\u001b[38;5;241m1\u001b[39m\u001b[38;5;132;01m}\u001b[39;00m\u001b[38;5;124m/\u001b[39m\u001b[38;5;132;01m{\u001b[39;00mnum_epochs\u001b[38;5;132;01m}\u001b[39;00m\u001b[38;5;124m], Loss: \u001b[39m\u001b[38;5;132;01m{\u001b[39;00mJ\u001b[38;5;241m.\u001b[39mitem()\u001b[38;5;132;01m:\u001b[39;00m\u001b[38;5;124m.4f\u001b[39m\u001b[38;5;132;01m}\u001b[39;00m\u001b[38;5;124m, time: \u001b[39m\u001b[38;5;132;01m{\u001b[39;00mdatetime\u001b[38;5;241m.\u001b[39mnow()\u001b[38;5;241m.\u001b[39mtime()\u001b[38;5;132;01m}\u001b[39;00m\u001b[38;5;124m'\u001b[39m)\n",
      "File \u001b[0;32m~/Documents/Thesis/.venv/lib/python3.10/site-packages/torch/autograd/__init__.py:496\u001b[0m, in \u001b[0;36mgrad\u001b[0;34m(outputs, inputs, grad_outputs, retain_graph, create_graph, only_inputs, allow_unused, is_grads_batched, materialize_grads)\u001b[0m\n\u001b[1;32m    492\u001b[0m     result \u001b[38;5;241m=\u001b[39m _vmap_internals\u001b[38;5;241m.\u001b[39m_vmap(vjp, \u001b[38;5;241m0\u001b[39m, \u001b[38;5;241m0\u001b[39m, allow_none_pass_through\u001b[38;5;241m=\u001b[39m\u001b[38;5;28;01mTrue\u001b[39;00m)(\n\u001b[1;32m    493\u001b[0m         grad_outputs_\n\u001b[1;32m    494\u001b[0m     )\n\u001b[1;32m    495\u001b[0m \u001b[38;5;28;01melse\u001b[39;00m:\n\u001b[0;32m--> 496\u001b[0m     result \u001b[38;5;241m=\u001b[39m \u001b[43m_engine_run_backward\u001b[49m\u001b[43m(\u001b[49m\n\u001b[1;32m    497\u001b[0m \u001b[43m        \u001b[49m\u001b[43moutputs\u001b[49m\u001b[43m,\u001b[49m\n\u001b[1;32m    498\u001b[0m \u001b[43m        \u001b[49m\u001b[43mgrad_outputs_\u001b[49m\u001b[43m,\u001b[49m\n\u001b[1;32m    499\u001b[0m \u001b[43m        \u001b[49m\u001b[43mretain_graph\u001b[49m\u001b[43m,\u001b[49m\n\u001b[1;32m    500\u001b[0m \u001b[43m        \u001b[49m\u001b[43mcreate_graph\u001b[49m\u001b[43m,\u001b[49m\n\u001b[1;32m    501\u001b[0m \u001b[43m        \u001b[49m\u001b[43minputs\u001b[49m\u001b[43m,\u001b[49m\n\u001b[1;32m    502\u001b[0m \u001b[43m        \u001b[49m\u001b[43mallow_unused\u001b[49m\u001b[43m,\u001b[49m\n\u001b[1;32m    503\u001b[0m \u001b[43m        \u001b[49m\u001b[43maccumulate_grad\u001b[49m\u001b[38;5;241;43m=\u001b[39;49m\u001b[38;5;28;43;01mFalse\u001b[39;49;00m\u001b[43m,\u001b[49m\n\u001b[1;32m    504\u001b[0m \u001b[43m    \u001b[49m\u001b[43m)\u001b[49m\n\u001b[1;32m    505\u001b[0m \u001b[38;5;28;01mif\u001b[39;00m materialize_grads:\n\u001b[1;32m    506\u001b[0m     \u001b[38;5;28;01mif\u001b[39;00m \u001b[38;5;28many\u001b[39m(\n\u001b[1;32m    507\u001b[0m         result[i] \u001b[38;5;129;01mis\u001b[39;00m \u001b[38;5;28;01mNone\u001b[39;00m \u001b[38;5;129;01mand\u001b[39;00m \u001b[38;5;129;01mnot\u001b[39;00m is_tensor_like(inputs[i])\n\u001b[1;32m    508\u001b[0m         \u001b[38;5;28;01mfor\u001b[39;00m i \u001b[38;5;129;01min\u001b[39;00m \u001b[38;5;28mrange\u001b[39m(\u001b[38;5;28mlen\u001b[39m(inputs))\n\u001b[1;32m    509\u001b[0m     ):\n",
      "File \u001b[0;32m~/Documents/Thesis/.venv/lib/python3.10/site-packages/torch/autograd/graph.py:823\u001b[0m, in \u001b[0;36m_engine_run_backward\u001b[0;34m(t_outputs, *args, **kwargs)\u001b[0m\n\u001b[1;32m    821\u001b[0m     unregister_hooks \u001b[38;5;241m=\u001b[39m _register_logging_hooks_on_whole_graph(t_outputs)\n\u001b[1;32m    822\u001b[0m \u001b[38;5;28;01mtry\u001b[39;00m:\n\u001b[0;32m--> 823\u001b[0m     \u001b[38;5;28;01mreturn\u001b[39;00m \u001b[43mVariable\u001b[49m\u001b[38;5;241;43m.\u001b[39;49m\u001b[43m_execution_engine\u001b[49m\u001b[38;5;241;43m.\u001b[39;49m\u001b[43mrun_backward\u001b[49m\u001b[43m(\u001b[49m\u001b[43m  \u001b[49m\u001b[38;5;66;43;03m# Calls into the C++ engine to run the backward pass\u001b[39;49;00m\n\u001b[1;32m    824\u001b[0m \u001b[43m        \u001b[49m\u001b[43mt_outputs\u001b[49m\u001b[43m,\u001b[49m\u001b[43m \u001b[49m\u001b[38;5;241;43m*\u001b[39;49m\u001b[43margs\u001b[49m\u001b[43m,\u001b[49m\u001b[43m \u001b[49m\u001b[38;5;241;43m*\u001b[39;49m\u001b[38;5;241;43m*\u001b[39;49m\u001b[43mkwargs\u001b[49m\n\u001b[1;32m    825\u001b[0m \u001b[43m    \u001b[49m\u001b[43m)\u001b[49m  \u001b[38;5;66;03m# Calls into the C++ engine to run the backward pass\u001b[39;00m\n\u001b[1;32m    826\u001b[0m \u001b[38;5;28;01mfinally\u001b[39;00m:\n\u001b[1;32m    827\u001b[0m     \u001b[38;5;28;01mif\u001b[39;00m attach_logging_hooks:\n",
      "\u001b[0;31mOutOfMemoryError\u001b[0m: CUDA out of memory. Tried to allocate 2.00 MiB. GPU 0 has a total capacity of 11.65 GiB of which 4.44 MiB is free. Including non-PyTorch memory, this process has 11.39 GiB memory in use. Of the allocated memory 10.75 GiB is allocated by PyTorch, and 525.78 MiB is reserved by PyTorch but unallocated. If reserved but unallocated memory is large try setting PYTORCH_CUDA_ALLOC_CONF=expandable_segments:True to avoid fragmentation.  See documentation for Memory Management  (https://pytorch.org/docs/stable/notes/cuda.html#environment-variables)"
     ]
    }
   ],
   "source": [
    "num_epochs = 100\n",
    "alpha = 0.0001\n",
    "u, x, J = gradient_descent(alpha, m, num_epochs, model, objective_function)"
   ]
  },
  {
   "cell_type": "markdown",
   "metadata": {},
   "source": [
    "From the paper \"Convergence of the forward-backward sweep method in optimal control\" by Michael McAsey et al, we know that analytical solution for this problem is:\n",
    "\n",
    "$$x(t) = \\frac{\\sqrt{2}\\cosh(\\sqrt{2}(t-1)) - \\sinh(\\sqrt{2}(t-1))}{\\sqrt{2}\\cosh(\\sqrt{2})+\\sinh{\\sqrt{2}}}$$\n",
    "$$u(t) = \\frac{\\sinh(\\sqrt{2}(t-1))}{\\sqrt{2}\\cosh(\\sqrt{2})+\\sinh{\\sqrt{2}}}$$"
   ]
  },
  {
   "cell_type": "code",
   "execution_count": 14,
   "metadata": {},
   "outputs": [
    {
     "name": "stderr",
     "output_type": "stream",
     "text": [
      "/tmp/ipykernel_417424/2230060595.py:2: DeprecationWarning: __array_wrap__ must accept context and return_scalar arguments (positionally) in the future. (Deprecated NumPy 2.0)\n",
      "  numerator = np.sqrt(2) * np.cosh(np.sqrt(2) * (t - 1)) - np.sinh(np.sqrt(2) * (t - 1))\n"
     ]
    },
    {
     "data": {
      "text/plain": [
       "<matplotlib.legend.Legend at 0x7fd79750dff0>"
      ]
     },
     "execution_count": 14,
     "metadata": {},
     "output_type": "execute_result"
    },
    {
     "data": {
      "image/png": "[encoded data removed]",
      "text/plain": [
       "<Figure size 640x480 with 1 Axes>"
      ]
     },
     "metadata": {},
     "output_type": "display_data"
    }
   ],
   "source": [
    "def analytical_x(t):\n",
    "    numerator = np.sqrt(2) * np.cosh(np.sqrt(2) * (t - 1)) - np.sinh(np.sqrt(2) * (t - 1))\n",
    "    denominator = np.sqrt(2) * np.cosh(np.sqrt(2)) + np.sinh(np.sqrt(2))\n",
    "    return numerator / denominator\n",
    "\n",
    "def analytical_u(t):\n",
    "    numerator = np.sinh(np.sqrt(2) * (t - 1))\n",
    "    denominator = np.sqrt(2) * np.cosh(np.sqrt(2)) + np.sinh(np.sqrt(2))\n",
    "    return numerator / denominator\n",
    "\n",
    "\n",
    "t = torch.linspace(0, end_time, m).unsqueeze(1) \n",
    "plt.plot(analytical_x(t), label=\"Analytical solution\")\n",
    "plt.plot(x.detach().numpy().T, label=\"Solution found with gradient descent\")\n",
    "plt.legend()"
   ]
  },
  {
   "cell_type": "code",
   "execution_count": null,
   "metadata": {},
   "outputs": [
    {
     "name": "stderr",
     "output_type": "stream",
     "text": [
      "/tmp/ipykernel_1914518/2230060595.py:7: DeprecationWarning: __array_wrap__ must accept context and return_scalar arguments (positionally) in the future. (Deprecated NumPy 2.0)\n",
      "  numerator = np.sinh(np.sqrt(2) * (t - 1))\n"
     ]
    },
    {
     "data": {
      "text/plain": [
       "<matplotlib.legend.Legend at 0x7f75da0bece0>"
      ]
     },
     "execution_count": 16,
     "metadata": {},
     "output_type": "execute_result"
    },
    {
     "data": {
      "image/png": "[encoded data removed]",
      "text/plain": [
       "<Figure size 640x480 with 1 Axes>"
      ]
     },
     "metadata": {},
     "output_type": "display_data"
    }
   ],
   "source": [
    "t = torch.linspace(0, end_time, m).unsqueeze(1) \n",
    "plt.plot(analytical_u(t), label=\"Analytical solution\")\n",
    "plt.plot(u.detach().numpy().T, label=\"Solution found with gradient descent\")\n",
    "plt.legend()"
   ]
  },
  {
   "cell_type": "code",
   "execution_count": null,
   "metadata": {},
   "outputs": [],
   "source": [
    "torch.save(model.state_dict(), \"model_NN.pth\")"
   ]
  }
 ],
 "metadata": {
  "kernelspec": {
   "display_name": ".venv",
   "language": "python",
   "name": "python3"
  },
  "language_info": {
   "codemirror_mode": {
    "name": "ipython",
    "version": 3
   },
   "file_extension": ".py",
   "mimetype": "text/x-python",
   "name": "python",
   "nbconvert_exporter": "python",
   "pygments_lexer": "ipython3",
   "version": "3.10.12"
  }
 },
 "nbformat": 4,
 "nbformat_minor": 2
}

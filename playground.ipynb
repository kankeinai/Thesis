{
 "cells": [
  {
   "cell_type": "markdown",
   "metadata": {},
   "source": [
    "# Notebook \\#1 - Operator Learning and Optimal Control "
   ]
  },
  {
   "cell_type": "markdown",
   "metadata": {},
   "source": [
    "In this beginning notebook, I am going to construct a framework for the learning of neural operator using DeepONet architecture and solve Diffusion Problem (to be explained later). The structure of this notebook goes as follows:\n",
    "- Implement a class for the DeepONet architecture\n",
    "- Implement a function for training of the DeepONet with given differential equation and innitial/boundary conditions \n",
    "- Generate a training dataset for the input control functions and the corresponding analytical solutions of the differential equation\n",
    "- Define loss functions associated with physics loss, innitial and boundary conditions\n",
    "- Train the DeepONet\n",
    "- Solve Feldbaum Problem\n",
    "\n",
    "\n",
    "Let's start by implementing the DeepONet architecture.\n",
    "\n"
   ]
  },
  {
   "cell_type": "code",
   "execution_count": 1,
   "metadata": {},
   "outputs": [],
   "source": [
    "import torch\n",
    "import torch.nn as nn\n",
    "import torch.nn.init as init\n",
    "from datetime import datetime\n",
    "from utils.data import MultiFunctionDatasetODE, custom_collate_ODE_fn\n",
    "from torch.utils.data import DataLoader\n",
    "import torch.optim as optim\n",
    "import matplotlib.pyplot as plt\n",
    "import numpy as np\n",
    "import utils.plotter as plotter"
   ]
  },
  {
   "cell_type": "markdown",
   "metadata": {},
   "source": [
    "# Implemention of the DeepONet"
   ]
  },
  {
   "cell_type": "markdown",
   "metadata": {},
   "source": [
    "`DenseNetwork(nn.Module)` takes as input 2 vectors: `layer_sizes` (size of each layer of NN including input and output sizes) and `activations` (activation function after each layer, available options include: 'relu', 'tanh', 'sigmoid', 'leaky_relu', 'elu', 'none'). This function is just a way to initialize a simple neural network."
   ]
  },
  {
   "cell_type": "code",
   "execution_count": 2,
   "metadata": {},
   "outputs": [],
   "source": [
    "class DenseNetwork(nn.Module):\n",
    "    def __init__(self, layer_sizes, activations):\n",
    "        super(DenseNetwork, self).__init__()\n",
    "        assert len(layer_sizes) - 1 == len(activations), \"Activation count must match the number of layers - 1\"\n",
    "        \n",
    "        layers = []\n",
    "        for i in range(len(layer_sizes) - 1):\n",
    "            layers.append(nn.Linear(layer_sizes[i], layer_sizes[i + 1]))\n",
    "            if activations[i] is not None:\n",
    "                layers.append(self.get_activation(activations[i]))\n",
    "        self.network = nn.Sequential(*layers)\n",
    "        \n",
    "        # Apply Glorot initialization\n",
    "        self.apply(self.initialize_weights)\n",
    "\n",
    "    def forward(self, x):\n",
    "        return self.network(x)\n",
    "    \n",
    "    @staticmethod\n",
    "    def get_activation(name):\n",
    "        activations = {\n",
    "            'relu': nn.ReLU(),\n",
    "            'tanh': nn.Tanh(),\n",
    "            'sigmoid': nn.Sigmoid(),\n",
    "            'leaky_relu': nn.LeakyReLU(),\n",
    "            'elu': nn.ELU(),\n",
    "            'none': nn.Identity()\n",
    "        }\n",
    "        if name not in activations:\n",
    "            raise ValueError(f\"Unsupported activation: {name}. Supported: {list(activations.keys())}\")\n",
    "        return activations[name]\n",
    "\n",
    "    @staticmethod\n",
    "    def initialize_weights(layer):\n",
    "\n",
    "        if isinstance(layer, nn.Linear):\n",
    "            init.xavier_uniform_(layer.weight)\n",
    "            if layer.bias is not None:\n",
    "                init.zeros_(layer.bias)"
   ]
  },
  {
   "cell_type": "markdown",
   "metadata": {},
   "source": [
    "DeepOnet has the following structure:\n",
    "- There are two neural networks: branch and trunk NNs\n",
    "- Each NN has its own output vector\n",
    "- Dot product of these two vectors is output vector of the DeepOnet\n",
    "\n",
    "The architecture can be see at the Figure 1.\n",
    "\n",
    "<center><img src=\"https://www.researchgate.net/publication/369528434/figure/fig1/AS:11431281157276229@1683770151535/DeepONet-architecture-stacked-42-used-in-the-present-study.png\" width=\"800px\">\n",
    "<p>Figure 1 - Architecture of the DeepONet</p>\n",
    "</center>\n",
    "\n",
    "So, to initialize DeepONet, we need to create 2 neural networks with architectures provided by users and combine their outputs. Using class `DenseNetwork`, we can initialize branch and trunk NNs. Forward method of `DeepONet` can be calculated using `torch.einsum` functions that would combine forward passes of these 2 NNs.\n"
   ]
  },
  {
   "cell_type": "code",
   "execution_count": 3,
   "metadata": {},
   "outputs": [],
   "source": [
    "class DeepONetCartesianProd(nn.Module):\n",
    "    def __init__(self, branch_net, trunk_net, branch_activations, trunk_activations, input_feature=None):\n",
    "        super(DeepONetCartesianProd, self).__init__()\n",
    "        self.branch_net = DenseNetwork(branch_net, branch_activations)\n",
    "        self.trunk_net = DenseNetwork(trunk_net, trunk_activations)\n",
    "\n",
    "\n",
    "        if input_feature is not None:\n",
    "            self.input_encode = input_feature\n",
    "        else:\n",
    "            self.input_encode = None\n",
    "\n",
    "\n",
    "    def forward(self, branch_input, trunk_input):\n",
    "\n",
    "        branch_output = self.branch_net(branch_input)  # Shape: (batch_size, branch_net[-1])\n",
    "        \n",
    "        if self.input_encode is not None:\n",
    "            trunk_input = self.input_encode(trunk_input)\n",
    "        \n",
    "        trunk_output = self.trunk_net(trunk_input)    # Shape: (batch_size, trunk_net[-1])\n",
    "        output = torch.einsum(\"bp,np->bn\", branch_output, trunk_output)\n",
    "\n",
    "        return output"
   ]
  },
  {
   "cell_type": "markdown",
   "metadata": {},
   "source": [
    "# Implement `training()` of the DeepONet"
   ]
  },
  {
   "cell_type": "markdown",
   "metadata": {},
   "source": [
    "In this function `training()`, I tried to be as generic as possible. The function takes as input `model` (created using class `DeepONetCartesianProd`), `optimizer` (for example `Adam`), `dataloader` (created specifically for the problem) and functions that will calculate specific losses that are associated with the problem (`physics_loss_func()`, `initial_loss_func()`, `boundary_loss_func()`). "
   ]
  },
  {
   "cell_type": "code",
   "execution_count": 4,
   "metadata": {},
   "outputs": [],
   "source": [
    "def training(model, optimizer, dataloader, num_epochs= 1000, problem=\"nde\", physics_loss_func=None, initial_loss_func=None, boundary_loss_func= None, plot=False):\n",
    "    losses = []\n",
    "    for epoch in range(num_epochs):\n",
    "        model.train()\n",
    "        for u, t, t0, ut in dataloader:\n",
    "\n",
    "            t.requires_grad_(True)\n",
    "            batch_size = u.shape[0]\n",
    "            n_points = t.shape[0]\n",
    "\n",
    "            physics_loss = physics_loss_func(model, u, t, t0, ut, batch_size, n_points) if physics_loss_func is not None else torch.zeros(1, device=t.device)\n",
    "            initial_loss = initial_loss_func(model, u, t, t0, ut, batch_size, n_points) if initial_loss_func is not None else torch.zeros(1, device=t.device)\n",
    "            boundary_loss = boundary_loss_func(model, u, t, t0, ut, batch_size, n_points) if boundary_loss_func is not None else torch.zeros(1, device=t.device)\n",
    "            # Total loss\n",
    "            loss = physics_loss + initial_loss + boundary_loss\n",
    "\n",
    "            optimizer.zero_grad()\n",
    "            loss.backward()\n",
    "            optimizer.step()\n",
    "        \n",
    "        \n",
    "        print(f'Epoch [{epoch+1}/{num_epochs}], Loss: {loss.item():.4f}, '\n",
    "                    f'initial_loss: {initial_loss.item():.6f}, physics_loss: {physics_loss.item():.6f}, '\n",
    "                    f'time: {datetime.now().time()}')\n",
    "        if epoch % 100 == 0:\n",
    "            if plot == True:\n",
    "                plotter.GRF_test(model,m=m,lb=grf_lb,ub=grf_ub)\n",
    "                plotter.linear_test(model,m=m)\n",
    "                plotter.optimal_test(model,m=m)\n",
    "                plotter.constant_test(model, m=m)\n",
    "                plotter.polynomial_test(model, m=m)\n",
    "                plotter.sine_test(model, m=m)\n",
    "        \n",
    "        if (epoch + 1) % 10 == 0:\n",
    "            timestamp = datetime.now().strftime('%Y%m%d-%H%M%S')\n",
    "            model_filename = f'model_time_[{timestamp}]_loss_[{loss.item():.4f}].pth'\n",
    "            torch.save(model.state_dict(), f\"trained_models/deep_o_net/{problem}/{model_filename}\")\n",
    "                        \n",
    "\n",
    "\n",
    "        losses.append(loss)\n",
    "\n",
    "\n",
    "    return model, losses"
   ]
  },
  {
   "cell_type": "markdown",
   "metadata": {},
   "source": [
    "# Define loss functions specific to the problem"
   ]
  },
  {
   "cell_type": "markdown",
   "metadata": {},
   "source": [
    "At first, I will implement the loss functions for the simple Feldbaum problem. The Feldbaum problem is defined as follows:\n",
    "$$\\text{min}_u \\ \\int_{0}^{1} (x^2 + u^2)dt$$\n",
    "$$\\text{s.t.} \\ \\frac{dx}{dt} = x - u$$\n",
    "$$ x(0) = 1$$\n",
    "\n",
    "Additionally, I added an initial condition that $x(t_0) = 1$\n",
    "\n",
    "The physics loss refers to differential equation being non-violated. Ideally,\n",
    "$$\\frac{dx}{dt} - x + u = 0$$\n",
    "\n",
    "where $u$ is input function, $x$ is solution found by neural operator and $x_t$ can be found using `autograd` function which is part of `torch` functionality."
   ]
  },
  {
   "cell_type": "code",
   "execution_count": 6,
   "metadata": {},
   "outputs": [],
   "source": [
    "def physics_loss_func(model, u, t, t0, ut, batch_size, n_points, dim_x = 1):\n",
    "\n",
    "    x = model(u, t)\n",
    "\n",
    "    # Physics loss\n",
    "    dx = torch.zeros(batch_size, n_points, dim_x, device=t.device)\n",
    "    \n",
    "    # This loop is a bottleneck but i havent found a way to parallize this efficiently\n",
    "    for b in range(batch_size):\n",
    "        # Compute gradients for each batch independently\n",
    "        dx[b] = torch.autograd.grad(x[b], t, torch.ones_like(x[b]), create_graph=True)[0]\n",
    "\n",
    "    dx_dt = dx[:,:,0]\n",
    "\n",
    "    # physics loss\n",
    "    physics = dx_dt + x - ut\n",
    "    physics_loss = torch.mean(physics**2)\n",
    "\n",
    "    return physics_loss"
   ]
  },
  {
   "cell_type": "markdown",
   "metadata": {},
   "source": [
    "At first, in the function `physics_loss_func`  we extract the $x_t$ from each batch. `physics` stores the differential equation that we shouldn't violate. And final `physics_loss` is a mean squared error. \n",
    "\n",
    "As input parameters, it takes all the information from the training dataset and output of the neural network `x`."
   ]
  },
  {
   "cell_type": "markdown",
   "metadata": {},
   "source": [
    "Innitial loss function is easy in our case. The output of the neural network at $t=0$ just should be 1."
   ]
  },
  {
   "cell_type": "code",
   "execution_count": 7,
   "metadata": {},
   "outputs": [],
   "source": [
    "def innitial_loss_func(model, u, t, t0, ut, batch_size, n_points):\n",
    "\n",
    "    x_0 = model(u, t0)\n",
    "    initial_loss = torch.mean((torch.ones_like(x_0) - x_0)**2)\n",
    "    \n",
    "    return initial_loss"
   ]
  },
  {
   "cell_type": "markdown",
   "metadata": {},
   "source": [
    "# Generate model and training data"
   ]
  },
  {
   "cell_type": "markdown",
   "metadata": {},
   "source": [
    "## Define model"
   ]
  },
  {
   "cell_type": "markdown",
   "metadata": {},
   "source": [
    "Define number of layers of NNs and number of neurons at each layer. The output size of both trunk and branch networks should be the same."
   ]
  },
  {
   "cell_type": "code",
   "execution_count": 6,
   "metadata": {},
   "outputs": [],
   "source": [
    "# Model Parameters\n",
    "m = 200         # sensor size (branch input size)\n",
    "n_hid = 200     # layer's hidden sizes\n",
    "p = 200         # output size\n",
    "dim_x = 1       # trunk (trunk input size)\n",
    "lr = 0.0001\n",
    "num_epochs = 1000\n",
    "\n",
    "# Specify device\n",
    "device = torch.device('cuda' if torch.cuda.is_available() else 'cpu')\n",
    "\n",
    "# Specify the MLP architecture\n",
    "branch_net = [m, n_hid, n_hid, n_hid, n_hid, p]\n",
    "branch_activations = ['tanh', 'tanh','tanh', 'tanh', None]\n",
    "trunk_net = [dim_x, n_hid, n_hid, n_hid, n_hid, p]\n",
    "trunk_activations = ['tanh', 'tanh', 'tanh', 'tanh',None]\n",
    "\n",
    "# Initialize model\n",
    "model = DeepONetCartesianProd(branch_net, trunk_net, branch_activations, trunk_activations)\n",
    "model.to(device)\n",
    "\n",
    "#Initialize Optimizer\n",
    "optimizer = optim.Adam(model.parameters(), lr=lr)"
   ]
  },
  {
   "cell_type": "markdown",
   "metadata": {},
   "source": [
    "## Generate training dataset"
   ]
  },
  {
   "cell_type": "markdown",
   "metadata": {},
   "source": [
    "Here we generate all possible candidates for the the control function $u(t)$. We want to train our DeepONet on a diverse domain of functions. In this case we train model on next families of functions: `grf`, `linear`, `sine`, `polynomial`, `constant`. "
   ]
  },
  {
   "cell_type": "code",
   "execution_count": 12,
   "metadata": {},
   "outputs": [],
   "source": [
    "#Dataset parameters\n",
    "n_functions = 100000\n",
    "grf_lb = 0.02\n",
    "grf_ub = 0.5\n",
    "end_time = 1.0\n",
    "num_domain = 200\n",
    "num_initial = 20"
   ]
  },
  {
   "cell_type": "code",
   "execution_count": null,
   "metadata": {},
   "outputs": [],
   "source": [
    "\n",
    "dataset = MultiFunctionDatasetODE(\n",
    "    m=m,\n",
    "    n_functions=n_functions,\n",
    "    function_types=['grf', 'linear', 'sine', 'polynomial','constant'],\n",
    "    end_time = end_time,\n",
    "    num_domain = num_domain,\n",
    "    num_initial = num_initial,\n",
    "    grf_lb = grf_lb,\n",
    "    grf_ub = grf_ub\n",
    ")\n",
    "\n",
    "dataloader = DataLoader(dataset, batch_size=128, collate_fn=custom_collate_ODE_fn, shuffle=True)"
   ]
  },
  {
   "cell_type": "markdown",
   "metadata": {},
   "source": [
    "# Train DeepONet model"
   ]
  },
  {
   "cell_type": "markdown",
   "metadata": {},
   "source": [
    "Now, we should have everything to train the DeepONet model"
   ]
  },
  {
   "cell_type": "code",
   "execution_count": 87,
   "metadata": {},
   "outputs": [
    {
     "name": "stdout",
     "output_type": "stream",
     "text": [
      "Epoch [10/1000], Loss: 0.6212, initial_loss: 0.003512, physics_loss: 0.617734, time: 20:26:18.927755\n",
      "Epoch [20/1000], Loss: 0.5012, initial_loss: 0.001404, physics_loss: 0.499840, time: 20:27:19.947396\n",
      "Epoch [30/1000], Loss: 0.3342, initial_loss: 0.001006, physics_loss: 0.333221, time: 20:28:21.529175\n",
      "Epoch [40/1000], Loss: 1.1026, initial_loss: 0.000535, physics_loss: 1.102091, time: 20:29:24.785795\n"
     ]
    },
    {
     "ename": "KeyboardInterrupt",
     "evalue": "",
     "output_type": "error",
     "traceback": [
      "\u001b[0;31m---------------------------------------------------------------------------\u001b[0m",
      "\u001b[0;31mKeyboardInterrupt\u001b[0m                         Traceback (most recent call last)",
      "Cell \u001b[0;32mIn[87], line 1\u001b[0m\n\u001b[0;32m----> 1\u001b[0m trained_model, lossses \u001b[38;5;241m=\u001b[39m \u001b[43mtraining\u001b[49m\u001b[43m(\u001b[49m\u001b[43mmodel\u001b[49m\u001b[43m,\u001b[49m\u001b[43m \u001b[49m\u001b[43moptimizer\u001b[49m\u001b[43m,\u001b[49m\u001b[43m \u001b[49m\u001b[43mdataloader\u001b[49m\u001b[43m,\u001b[49m\u001b[43m \u001b[49m\u001b[43mnum_epochs\u001b[49m\u001b[43m \u001b[49m\u001b[38;5;241;43m=\u001b[39;49m\u001b[43m \u001b[49m\u001b[43mnum_epochs\u001b[49m\u001b[43m,\u001b[49m\u001b[43m \u001b[49m\u001b[43mphysics_loss_func\u001b[49m\u001b[38;5;241;43m=\u001b[39;49m\u001b[43mphysics_loss_func\u001b[49m\u001b[43m,\u001b[49m\u001b[43m \u001b[49m\u001b[43minitial_loss_func\u001b[49m\u001b[38;5;241;43m=\u001b[39;49m\u001b[43minnitial_loss_func\u001b[49m\u001b[43m,\u001b[49m\u001b[43m \u001b[49m\u001b[43mplot\u001b[49m\u001b[38;5;241;43m=\u001b[39;49m\u001b[38;5;28;43;01mTrue\u001b[39;49;00m\u001b[43m)\u001b[49m\n",
      "Cell \u001b[0;32mIn[77], line 11\u001b[0m, in \u001b[0;36mtraining\u001b[0;34m(model, optimizer, dataloader, num_epochs, physics_loss_func, initial_loss_func, boundary_loss_func, plot)\u001b[0m\n\u001b[1;32m      8\u001b[0m batch_size \u001b[38;5;241m=\u001b[39m u\u001b[38;5;241m.\u001b[39mshape[\u001b[38;5;241m0\u001b[39m]\n\u001b[1;32m      9\u001b[0m n_points \u001b[38;5;241m=\u001b[39m t\u001b[38;5;241m.\u001b[39mshape[\u001b[38;5;241m0\u001b[39m]\n\u001b[0;32m---> 11\u001b[0m physics_loss \u001b[38;5;241m=\u001b[39m \u001b[43mphysics_loss_func\u001b[49m\u001b[43m(\u001b[49m\u001b[43mmodel\u001b[49m\u001b[43m,\u001b[49m\u001b[43m \u001b[49m\u001b[43mu\u001b[49m\u001b[43m,\u001b[49m\u001b[43m \u001b[49m\u001b[43mt\u001b[49m\u001b[43m,\u001b[49m\u001b[43m \u001b[49m\u001b[43mt0\u001b[49m\u001b[43m,\u001b[49m\u001b[43m \u001b[49m\u001b[43mut\u001b[49m\u001b[43m,\u001b[49m\u001b[43m \u001b[49m\u001b[43mbatch_size\u001b[49m\u001b[43m,\u001b[49m\u001b[43m \u001b[49m\u001b[43mn_points\u001b[49m\u001b[43m)\u001b[49m \u001b[38;5;28;01mif\u001b[39;00m physics_loss_func \u001b[38;5;129;01mis\u001b[39;00m \u001b[38;5;129;01mnot\u001b[39;00m \u001b[38;5;28;01mNone\u001b[39;00m \u001b[38;5;28;01melse\u001b[39;00m torch\u001b[38;5;241m.\u001b[39mzeros(\u001b[38;5;241m1\u001b[39m, device\u001b[38;5;241m=\u001b[39mt\u001b[38;5;241m.\u001b[39mdevice)\n\u001b[1;32m     12\u001b[0m initial_loss \u001b[38;5;241m=\u001b[39m initial_loss_func(model, u, t, t0, ut, batch_size, n_points) \u001b[38;5;28;01mif\u001b[39;00m initial_loss_func \u001b[38;5;129;01mis\u001b[39;00m \u001b[38;5;129;01mnot\u001b[39;00m \u001b[38;5;28;01mNone\u001b[39;00m \u001b[38;5;28;01melse\u001b[39;00m torch\u001b[38;5;241m.\u001b[39mzeros(\u001b[38;5;241m1\u001b[39m, device\u001b[38;5;241m=\u001b[39mt\u001b[38;5;241m.\u001b[39mdevice)\n\u001b[1;32m     13\u001b[0m boundary_loss \u001b[38;5;241m=\u001b[39m boundary_loss_func(model, u, t, t0, ut, batch_size, n_points) \u001b[38;5;28;01mif\u001b[39;00m boundary_loss_func \u001b[38;5;129;01mis\u001b[39;00m \u001b[38;5;129;01mnot\u001b[39;00m \u001b[38;5;28;01mNone\u001b[39;00m \u001b[38;5;28;01melse\u001b[39;00m torch\u001b[38;5;241m.\u001b[39mzeros(\u001b[38;5;241m1\u001b[39m, device\u001b[38;5;241m=\u001b[39mt\u001b[38;5;241m.\u001b[39mdevice)\n",
      "Cell \u001b[0;32mIn[83], line 11\u001b[0m, in \u001b[0;36mphysics_loss_func\u001b[0;34m(model, u, t, t0, ut, batch_size, n_points, dim_x)\u001b[0m\n\u001b[1;32m      8\u001b[0m \u001b[38;5;66;03m# This loop is a bottleneck but i havent found a way to parallize this efficiently\u001b[39;00m\n\u001b[1;32m      9\u001b[0m \u001b[38;5;28;01mfor\u001b[39;00m b \u001b[38;5;129;01min\u001b[39;00m \u001b[38;5;28mrange\u001b[39m(batch_size):\n\u001b[1;32m     10\u001b[0m     \u001b[38;5;66;03m# Compute gradients for each batch independently\u001b[39;00m\n\u001b[0;32m---> 11\u001b[0m     dx[b] \u001b[38;5;241m=\u001b[39m torch\u001b[38;5;241m.\u001b[39mautograd\u001b[38;5;241m.\u001b[39mgrad(x[b], t, \u001b[43mtorch\u001b[49m\u001b[38;5;241;43m.\u001b[39;49m\u001b[43mones_like\u001b[49m\u001b[43m(\u001b[49m\u001b[43mx\u001b[49m\u001b[43m[\u001b[49m\u001b[43mb\u001b[49m\u001b[43m]\u001b[49m\u001b[43m)\u001b[49m, create_graph\u001b[38;5;241m=\u001b[39m\u001b[38;5;28;01mTrue\u001b[39;00m)[\u001b[38;5;241m0\u001b[39m]\n\u001b[1;32m     13\u001b[0m dx_dt \u001b[38;5;241m=\u001b[39m dx[:,:,\u001b[38;5;241m0\u001b[39m]\n\u001b[1;32m     15\u001b[0m \u001b[38;5;66;03m# physics loss\u001b[39;00m\n",
      "\u001b[0;31mKeyboardInterrupt\u001b[0m: "
     ]
    }
   ],
   "source": [
    "trained_model, lossses = training(model, optimizer, dataloader, num_epochs = num_epochs, physics_loss_func=physics_loss_func, initial_loss_func=innitial_loss_func, plot=True)"
   ]
  },
  {
   "cell_type": "code",
   "execution_count": 104,
   "metadata": {},
   "outputs": [
    {
     "data": {
      "text/plain": [
       "DeepONetCartesianProd(\n",
       "  (branch_net): DenseNetwork(\n",
       "    (network): Sequential(\n",
       "      (0): Linear(in_features=200, out_features=250, bias=True)\n",
       "      (1): Tanh()\n",
       "      (2): Linear(in_features=250, out_features=250, bias=True)\n",
       "      (3): Tanh()\n",
       "      (4): Linear(in_features=250, out_features=250, bias=True)\n",
       "      (5): Tanh()\n",
       "      (6): Linear(in_features=250, out_features=250, bias=True)\n",
       "      (7): Tanh()\n",
       "      (8): Linear(in_features=250, out_features=200, bias=True)\n",
       "    )\n",
       "  )\n",
       "  (trunk_net): DenseNetwork(\n",
       "    (network): Sequential(\n",
       "      (0): Linear(in_features=1, out_features=250, bias=True)\n",
       "      (1): Tanh()\n",
       "      (2): Linear(in_features=250, out_features=250, bias=True)\n",
       "      (3): Tanh()\n",
       "      (4): Linear(in_features=250, out_features=250, bias=True)\n",
       "      (5): Tanh()\n",
       "      (6): Linear(in_features=250, out_features=250, bias=True)\n",
       "      (7): Tanh()\n",
       "      (8): Linear(in_features=250, out_features=200, bias=True)\n",
       "    )\n",
       "  )\n",
       ")"
      ]
     },
     "execution_count": 104,
     "metadata": {},
     "output_type": "execute_result"
    }
   ],
   "source": [
    "trained_model =  DeepONetCartesianProd(branch_net, trunk_net, branch_activations, trunk_activations)\n",
    "trained_model.to(device)\n",
    "trained_model.load_state_dict(torch.load('trained_models/deep_o_net/model_time_[20250306-123131]_loss_[0.0134].pth'))\n",
    "trained_model.eval()  # set the model to evaluation mode"
   ]
  },
  {
   "cell_type": "markdown",
   "metadata": {},
   "source": [
    "# Solve Feldbaum problem"
   ]
  },
  {
   "cell_type": "markdown",
   "metadata": {},
   "source": [
    "So far, we just trained neural operator to approximate $x$ for given input control function $u$, but we haven't touched optimization part yet. I will remind you what is the problem that we are trying to solve:\n",
    "\n",
    "$$\\text{min}_u \\ \\ \\frac{1}{2}\\int_{0}^{1} (x^2 + u^2)dt$$\n",
    "$$\\text{s.t.} \\ \\frac{dx}{dt} = x - u$$\n",
    "$$ x(0) = 1$$\n",
    "\n",
    "So, we should find such control function $u$ that this integral is minimized \n"
   ]
  },
  {
   "cell_type": "code",
   "execution_count": null,
   "metadata": {},
   "outputs": [],
   "source": [
    "def objective_function_ode(n, args):\n",
    "\n",
    "    # Physics loss\n",
    "    dx = torch.zeros(n, args['t'].shape[0], dim_x, device=args['t'].device)\n",
    "    \n",
    "    # This loop is a bottleneck but i havent found a way to parallize this efficiently\n",
    "    for b in range(n):\n",
    "        # Compute gradients for each batch independently\n",
    "        dx[b] = torch.autograd.grad(args['x'][b], args['t'], torch.ones_like(args['x'][b]), create_graph=True)[0]\n",
    "\n",
    "    dx_dt = dx[:,:,0]\n",
    "\n",
    "    # physics loss\n",
    "    physics = dx_dt + args['x'] - args['u']\n",
    "    physics_loss = torch.mean(physics**2)\n",
    "    innitial_loss_func = torch.mean((args['x'][:, 0] - torch.ones(n, device= device))**2)\n",
    "\n",
    "    J = torch.mean(torch.trapz((args['x']**2 + args['u']**2).squeeze(), args['t'].squeeze()))  + 100 * physics_loss + 10*innitial_loss_func \n",
    "    return J\n"
   ]
  },
  {
   "cell_type": "code",
   "execution_count": null,
   "metadata": {},
   "outputs": [],
   "source": [
    "def gradient_descent(n, alpha, m, num_epochs, model, objective_function):  \n",
    "    \n",
    "    u = torch.randn(n, m, device= device)\n",
    "    t = torch.linspace(0, end_time, m, device= device).unsqueeze(1) \n",
    "    \n",
    "    u.requires_grad_(True)\n",
    "    t.requires_grad_(True)\n",
    "\n",
    "    optimizer = torch.optim.AdamW([u], lr=alpha, weight_decay=0.01)\n",
    "\n",
    "    for epoch in range(num_epochs):\n",
    "\n",
    "\n",
    "        optimizer.zero_grad()\n",
    "        x = model(u, t) \n",
    "        args = {'x': x, 'u': u, 't': t}\n",
    "        loss = objective_function(n, args)\n",
    "        loss.backward()\n",
    "        optimizer.step()\n",
    "\n",
    "\n",
    "        if (epoch+1) % 100 == 0:\n",
    "            \n",
    "            print(f'Epoch [{epoch+1}/{num_epochs}], Loss: {loss.item():.4f}, time: {datetime.now().time()}')\n",
    "\n",
    "    return torch.mean(u, axis=0)\n"
   ]
  },
  {
   "cell_type": "code",
   "execution_count": 19,
   "metadata": {},
   "outputs": [
    {
     "ename": "NameError",
     "evalue": "name 'objective_function_ode' is not defined",
     "output_type": "error",
     "traceback": [
      "\u001b[31m---------------------------------------------------------------------------\u001b[39m",
      "\u001b[31mNameError\u001b[39m                                 Traceback (most recent call last)",
      "\u001b[36mCell\u001b[39m\u001b[36m \u001b[39m\u001b[32mIn[19]\u001b[39m\u001b[32m, line 5\u001b[39m\n\u001b[32m      2\u001b[39m alpha = \u001b[32m0.0001\u001b[39m\n\u001b[32m      3\u001b[39m n = \u001b[32m16\u001b[39m\n\u001b[32m----> \u001b[39m\u001b[32m5\u001b[39m u = gradient_descent(n, alpha, m, num_epochs, trained_model, \u001b[43mobjective_function_ode\u001b[49m)\n",
      "\u001b[31mNameError\u001b[39m: name 'objective_function_ode' is not defined"
     ]
    }
   ],
   "source": [
    "num_epochs = 30000\n",
    "alpha = 0.0001\n",
    "n = 16\n",
    "\n",
    "u = gradient_descent(n, alpha, m, num_epochs, trained_model, objective_function_ode)"
   ]
  },
  {
   "cell_type": "markdown",
   "metadata": {},
   "source": []
  },
  {
   "cell_type": "markdown",
   "metadata": {},
   "source": [
    "From the paper \"Convergence of the forward-backward sweep method in optimal control\" by Michael McAsey et al, we know that analytical solution for this problem is:\n",
    "\n",
    "$$x(t) = \\frac{\\sqrt{2}\\cosh(\\sqrt{2}(t-1)) - \\sinh(\\sqrt{2}(t-1))}{\\sqrt{2}\\cosh(\\sqrt{2})+\\sinh{\\sqrt{2}}}$$\n",
    "$$u(t) = \\frac{\\sinh(\\sqrt{2}(t-1))}{\\sqrt{2}\\cosh(\\sqrt{2})+\\sinh{\\sqrt{2}}}$$"
   ]
  },
  {
   "cell_type": "code",
   "execution_count": 138,
   "metadata": {},
   "outputs": [
    {
     "name": "stderr",
     "output_type": "stream",
     "text": [
      "/tmp/ipykernel_586488/2452070342.py:2: DeprecationWarning: __array_wrap__ must accept context and return_scalar arguments (positionally) in the future. (Deprecated NumPy 2.0)\n",
      "  numerator = np.sqrt(2) * np.cosh(np.sqrt(2) * (t - 1)) - np.sinh(np.sqrt(2) * (t - 1))\n",
      "/tmp/ipykernel_586488/2452070342.py:7: DeprecationWarning: __array_wrap__ must accept context and return_scalar arguments (positionally) in the future. (Deprecated NumPy 2.0)\n",
      "  numerator = np.sinh(np.sqrt(2) * (t - 1))\n"
     ]
    },
    {
     "data": {
      "text/plain": [
       "<matplotlib.legend.Legend at 0x7f6c36bfebc0>"
      ]
     },
     "execution_count": 138,
     "metadata": {},
     "output_type": "execute_result"
    },
    {
     "data": {
      "image/png": "[encoded data removed]",
      "text/plain": [
       "<Figure size 640x480 with 1 Axes>"
      ]
     },
     "metadata": {},
     "output_type": "display_data"
    }
   ],
   "source": [
    "def analytical_x(t):\n",
    "    numerator = np.sqrt(2) * np.cosh(np.sqrt(2) * (t - 1)) - np.sinh(np.sqrt(2) * (t - 1))\n",
    "    denominator = np.sqrt(2) * np.cosh(np.sqrt(2)) + np.sinh(np.sqrt(2))\n",
    "    return numerator / denominator\n",
    "\n",
    "def analytical_u(t):\n",
    "    numerator = np.sinh(np.sqrt(2) * (t - 1))\n",
    "    denominator = np.sqrt(2) * np.cosh(np.sqrt(2)) + np.sinh(np.sqrt(2))\n",
    "    return numerator / denominator\n",
    "\n",
    "\n",
    "t = torch.linspace(0, end_time, m).unsqueeze(1) \n",
    "plt.plot(analytical_x(t), label=\"Analytical x\")\n",
    "t = torch.linspace(0, end_time, m, device=device)\n",
    "\n",
    "x = trained_model(u.unsqueeze(0),t.unsqueeze(1)).cpu().detach().numpy().T\n",
    "plt.plot(x, label=\"Found x\")\n",
    "t = torch.linspace(0, end_time, m).unsqueeze(1) \n",
    "plt.plot(analytical_u(t), label=\"Analytical u\")\n",
    "plt.plot(u.cpu().detach().numpy().T, label=\"Found u\")\n",
    "plt.legend()\n",
    "plt.legend()"
   ]
  },
  {
   "cell_type": "markdown",
   "metadata": {},
   "source": [
    "# Solve Nonlinear differential equation"
   ]
  },
  {
   "cell_type": "code",
   "execution_count": null,
   "metadata": {},
   "outputs": [
    {
     "data": {
      "text/plain": [
       "DeepONetCartesianProd(\n",
       "  (branch_net): DenseNetwork(\n",
       "    (network): Sequential(\n",
       "      (0): Linear(in_features=100, out_features=200, bias=True)\n",
       "      (1): Tanh()\n",
       "      (2): Linear(in_features=200, out_features=200, bias=True)\n",
       "      (3): Tanh()\n",
       "      (4): Linear(in_features=200, out_features=200, bias=True)\n",
       "      (5): Tanh()\n",
       "      (6): Linear(in_features=200, out_features=200, bias=True)\n",
       "      (7): Tanh()\n",
       "      (8): Linear(in_features=200, out_features=200, bias=True)\n",
       "      (9): Identity()\n",
       "    )\n",
       "  )\n",
       "  (trunk_net): DenseNetwork(\n",
       "    (network): Sequential(\n",
       "      (0): Linear(in_features=1, out_features=200, bias=True)\n",
       "      (1): Tanh()\n",
       "      (2): Linear(in_features=200, out_features=200, bias=True)\n",
       "      (3): Tanh()\n",
       "      (4): Linear(in_features=200, out_features=200, bias=True)\n",
       "      (5): Tanh()\n",
       "      (6): Linear(in_features=200, out_features=200, bias=True)\n",
       "      (7): Tanh()\n",
       "      (8): Linear(in_features=200, out_features=200, bias=True)\n",
       "      (9): Identity()\n",
       "    )\n",
       "  )\n",
       ")"
      ]
     },
     "execution_count": 7,
     "metadata": {},
     "output_type": "execute_result"
    }
   ],
   "source": [
    "m = 200         # sensor size (branch input size)\n",
    "n_hid = 200     # layer's hidden sizes\n",
    "p = 200         # output size\n",
    "dim_x = 1       # trunk (trunk input size)\n",
    "lr = 0.0001\n",
    "num_epochs = 1000\n",
    "\n",
    "# Specify device\n",
    "device = torch.device('cuda' if torch.cuda.is_available() else 'cpu')\n",
    "\n",
    "# Specify the MLP architecture\n",
    "branch_net = [m, n_hid, n_hid, n_hid, n_hid, p]\n",
    "branch_activations = ['tanh', 'tanh','tanh', 'tanh', 'none']\n",
    "trunk_net = [dim_x, n_hid, n_hid, n_hid, n_hid,  p]\n",
    "trunk_activations = ['tanh', 'tanh', 'tanh', 'tanh', 'none']\n",
    "\n",
    "\n",
    "trained_model =  DeepONetCartesianProd(branch_net, trunk_net, branch_activations, trunk_activations)\n",
    "trained_model.to(device)\n",
    "trained_model.load_state_dict(torch.load('trained_models/deep_o_net/nde/model_time_[20250606-151434]_loss_[0.1543].pth'))\n",
    "trained_model.eval()  # set the model to evaluation mode"
   ]
  },
  {
   "cell_type": "code",
   "execution_count": 39,
   "metadata": {},
   "outputs": [],
   "source": [
    "def gradient_descent(n, alpha, m, num_epochs, model, objective_function, bounds=1.5,):  \n",
    "    \n",
    "    p = torch.randn(n, m, device=device, requires_grad=True)\n",
    "    t = torch.linspace(0, end_time, m, device= device).unsqueeze(1) \n",
    "    \n",
    "    p.requires_grad_(True)\n",
    "    t.requires_grad_(True)\n",
    "\n",
    "    optimizer = torch.optim.AdamW([p], lr=alpha, weight_decay=0.01)\n",
    "\n",
    "    for epoch in range(num_epochs):\n",
    "\n",
    "        if bounds is not None:\n",
    "            u_bounded = bounds*p\n",
    "        else:\n",
    "            u_bounded = p\n",
    "\n",
    "        optimizer.zero_grad()\n",
    "        x = model(u_bounded, t) \n",
    "        args = {'x': x, 'u': u_bounded, 't': t}\n",
    "        loss = objective_function(n, args)\n",
    "        loss.backward()\n",
    "        optimizer.step()\n",
    "\n",
    "\n",
    "        if (epoch+1) % 100 == 0:\n",
    "            \n",
    "            print(f'Epoch [{epoch+1}/{num_epochs}], Loss: {loss.item():.4f}, time: {datetime.now().time()}')\n",
    "\n",
    "    return torch.mean(p*bounds, axis=0)\n"
   ]
  },
  {
   "cell_type": "code",
   "execution_count": 75,
   "metadata": {},
   "outputs": [],
   "source": [
    "def objective_function_nde(n, args):\n",
    "\n",
    "    # Physics loss\n",
    "    dx = torch.zeros(n, args['t'].shape[0], dim_x, device=args['t'].device)\n",
    "    \n",
    "    # This loop is a bottleneck but i havent found a way to parallize this efficiently\n",
    "    for b in range(n):\n",
    "        # Compute gradients for each batch independently\n",
    "        dx[b] = torch.autograd.grad(args['x'][b], args['t'], torch.ones_like(args['x'][b]), create_graph=True)[0]\n",
    "\n",
    "    dx_dt = dx[:,:,0]\n",
    "\n",
    "    residual = dx_dt - (5/2)*(- args['x'] +  args['x']* args['u'] -  args['u']**2)\n",
    "    physics_loss = residual.pow(2).mean()\n",
    "    innitial_loss_func = torch.mean((args['x'][:, 0] - torch.ones(n, device= device))**2)\n",
    "\n",
    "    J = -torch.mean(args['x'][:, -1])  +  10*physics_loss + 2*innitial_loss_func \n",
    "    \n",
    "    return J\n"
   ]
  },
  {
   "cell_type": "code",
   "execution_count": 76,
   "metadata": {},
   "outputs": [
    {
     "name": "stdout",
     "output_type": "stream",
     "text": [
      "Epoch [100/20000], Loss: 713.4074, time: 16:06:17.657934\n",
      "Epoch [200/20000], Loss: 568.4407, time: 16:06:17.815968\n",
      "Epoch [300/20000], Loss: 458.5774, time: 16:06:17.978039\n",
      "Epoch [400/20000], Loss: 373.5790, time: 16:06:18.135959\n",
      "Epoch [500/20000], Loss: 306.7964, time: 16:06:18.294152\n",
      "Epoch [600/20000], Loss: 253.6862, time: 16:06:18.453020\n",
      "Epoch [700/20000], Loss: 210.9881, time: 16:06:18.611137\n",
      "Epoch [800/20000], Loss: 176.2862, time: 16:06:18.768886\n",
      "Epoch [900/20000], Loss: 147.8600, time: 16:06:18.927211\n",
      "Epoch [1000/20000], Loss: 124.5012, time: 16:06:19.089136\n",
      "Epoch [1100/20000], Loss: 105.3106, time: 16:06:19.249606\n",
      "Epoch [1200/20000], Loss: 89.4940, time: 16:06:19.407089\n",
      "Epoch [1300/20000], Loss: 76.2758, time: 16:06:19.566613\n",
      "Epoch [1400/20000], Loss: 65.0706, time: 16:06:19.724478\n",
      "Epoch [1500/20000], Loss: 55.5981, time: 16:06:19.882797\n",
      "Epoch [1600/20000], Loss: 47.6709, time: 16:06:20.041180\n",
      "Epoch [1700/20000], Loss: 41.0133, time: 16:06:20.197841\n",
      "Epoch [1800/20000], Loss: 35.3817, time: 16:06:20.350451\n",
      "Epoch [1900/20000], Loss: 30.6520, time: 16:06:20.508006\n",
      "Epoch [2000/20000], Loss: 26.6973, time: 16:06:20.662823\n",
      "Epoch [2100/20000], Loss: 23.3579, time: 16:06:20.815064\n",
      "Epoch [2200/20000], Loss: 20.5069, time: 16:06:20.972468\n",
      "Epoch [2300/20000], Loss: 18.0585, time: 16:06:21.125767\n",
      "Epoch [2400/20000], Loss: 15.9491, time: 16:06:21.278360\n",
      "Epoch [2500/20000], Loss: 14.1281, time: 16:06:21.431801\n",
      "Epoch [2600/20000], Loss: 12.5534, time: 16:06:21.586944\n",
      "Epoch [2700/20000], Loss: 11.1899, time: 16:06:21.738866\n",
      "Epoch [2800/20000], Loss: 10.0076, time: 16:06:21.891445\n",
      "Epoch [2900/20000], Loss: 8.9814, time: 16:06:22.044840\n",
      "Epoch [3000/20000], Loss: 8.0896, time: 16:06:22.197073\n",
      "Epoch [3100/20000], Loss: 7.3138, time: 16:06:22.349555\n",
      "Epoch [3200/20000], Loss: 6.6382, time: 16:06:22.504917\n",
      "Epoch [3300/20000], Loss: 6.0492, time: 16:06:22.657957\n",
      "Epoch [3400/20000], Loss: 5.5352, time: 16:06:22.811082\n",
      "Epoch [3500/20000], Loss: 5.0862, time: 16:06:22.964388\n",
      "Epoch [3600/20000], Loss: 4.6934, time: 16:06:23.116401\n",
      "Epoch [3700/20000], Loss: 4.3495, time: 16:06:23.269560\n",
      "Epoch [3800/20000], Loss: 4.0480, time: 16:06:23.421916\n",
      "Epoch [3900/20000], Loss: 3.7834, time: 16:06:23.575051\n",
      "Epoch [4000/20000], Loss: 3.5507, time: 16:06:23.727129\n",
      "Epoch [4100/20000], Loss: 3.3460, time: 16:06:23.887159\n",
      "Epoch [4200/20000], Loss: 3.1654, time: 16:06:24.040098\n",
      "Epoch [4300/20000], Loss: 3.0058, time: 16:06:24.192922\n",
      "Epoch [4400/20000], Loss: 2.8645, time: 16:06:24.344893\n",
      "Epoch [4500/20000], Loss: 2.7391, time: 16:06:24.498342\n",
      "Epoch [4600/20000], Loss: 2.6275, time: 16:06:24.650922\n",
      "Epoch [4700/20000], Loss: 2.5278, time: 16:06:24.802969\n",
      "Epoch [4800/20000], Loss: 2.4384, time: 16:06:24.958025\n",
      "Epoch [4900/20000], Loss: 2.3579, time: 16:06:25.111842\n",
      "Epoch [5000/20000], Loss: 2.2850, time: 16:06:25.264299\n",
      "Epoch [5100/20000], Loss: 2.2186, time: 16:06:25.417403\n",
      "Epoch [5200/20000], Loss: 2.1577, time: 16:06:25.570259\n",
      "Epoch [5300/20000], Loss: 2.1013, time: 16:06:25.722906\n",
      "Epoch [5400/20000], Loss: 2.0486, time: 16:06:25.875338\n",
      "Epoch [5500/20000], Loss: 1.9989, time: 16:06:26.028528\n",
      "Epoch [5600/20000], Loss: 1.9515, time: 16:06:26.180502\n",
      "Epoch [5700/20000], Loss: 1.9056, time: 16:06:26.336822\n",
      "Epoch [5800/20000], Loss: 1.8606, time: 16:06:26.493068\n",
      "Epoch [5900/20000], Loss: 1.8159, time: 16:06:26.645650\n",
      "Epoch [6000/20000], Loss: 1.7710, time: 16:06:26.797915\n",
      "Epoch [6100/20000], Loss: 1.7253, time: 16:06:26.950726\n",
      "Epoch [6200/20000], Loss: 1.6783, time: 16:06:27.102722\n",
      "Epoch [6300/20000], Loss: 1.6297, time: 16:06:27.254903\n",
      "Epoch [6400/20000], Loss: 1.5790, time: 16:06:27.407201\n",
      "Epoch [6500/20000], Loss: 1.5261, time: 16:06:27.560286\n",
      "Epoch [6600/20000], Loss: 1.4709, time: 16:06:27.712330\n",
      "Epoch [6700/20000], Loss: 1.4134, time: 16:06:27.865933\n",
      "Epoch [6800/20000], Loss: 1.3540, time: 16:06:28.018729\n",
      "Epoch [6900/20000], Loss: 1.2928, time: 16:06:28.171156\n",
      "Epoch [7000/20000], Loss: 1.2306, time: 16:06:28.323551\n",
      "Epoch [7100/20000], Loss: 1.1677, time: 16:06:28.475931\n",
      "Epoch [7200/20000], Loss: 1.1047, time: 16:06:28.632371\n",
      "Epoch [7300/20000], Loss: 1.0423, time: 16:06:28.789167\n",
      "Epoch [7400/20000], Loss: 0.9810, time: 16:06:28.941361\n",
      "Epoch [7500/20000], Loss: 0.9212, time: 16:06:29.094362\n",
      "Epoch [7600/20000], Loss: 0.8633, time: 16:06:29.246345\n",
      "Epoch [7700/20000], Loss: 0.8075, time: 16:06:29.397883\n",
      "Epoch [7800/20000], Loss: 0.7541, time: 16:06:29.550341\n",
      "Epoch [7900/20000], Loss: 0.7032, time: 16:06:29.707295\n",
      "Epoch [8000/20000], Loss: 0.6548, time: 16:06:29.862762\n",
      "Epoch [8100/20000], Loss: 0.6090, time: 16:06:30.026322\n",
      "Epoch [8200/20000], Loss: 0.5656, time: 16:06:30.188784\n",
      "Epoch [8300/20000], Loss: 0.5246, time: 16:06:30.351767\n",
      "Epoch [8400/20000], Loss: 0.4859, time: 16:06:30.514619\n",
      "Epoch [8500/20000], Loss: 0.4494, time: 16:06:30.677888\n",
      "Epoch [8600/20000], Loss: 0.4148, time: 16:06:30.840700\n",
      "Epoch [8700/20000], Loss: 0.3822, time: 16:06:31.004106\n",
      "Epoch [8800/20000], Loss: 0.3512, time: 16:06:31.167023\n",
      "Epoch [8900/20000], Loss: 0.3217, time: 16:06:31.329745\n",
      "Epoch [9000/20000], Loss: 0.2934, time: 16:06:31.492712\n",
      "Epoch [9100/20000], Loss: 0.2659, time: 16:06:31.656077\n",
      "Epoch [9200/20000], Loss: 0.2379, time: 16:06:31.819171\n",
      "Epoch [9300/20000], Loss: 0.2125, time: 16:06:31.982663\n",
      "Epoch [9400/20000], Loss: 0.1835, time: 16:06:32.145447\n",
      "Epoch [9500/20000], Loss: 0.1602, time: 16:06:32.308696\n",
      "Epoch [9600/20000], Loss: 0.1359, time: 16:06:32.471459\n",
      "Epoch [9700/20000], Loss: 0.1100, time: 16:06:32.634593\n",
      "Epoch [9800/20000], Loss: 0.0862, time: 16:06:32.797594\n",
      "Epoch [9900/20000], Loss: 0.0569, time: 16:06:32.960378\n",
      "Epoch [10000/20000], Loss: 0.0393, time: 16:06:33.123147\n",
      "Epoch [10100/20000], Loss: 0.0223, time: 16:06:33.285834\n",
      "Epoch [10200/20000], Loss: 0.0073, time: 16:06:33.448667\n",
      "Epoch [10300/20000], Loss: -0.0041, time: 16:06:33.611728\n",
      "Epoch [10400/20000], Loss: -0.0140, time: 16:06:33.774580\n",
      "Epoch [10500/20000], Loss: -0.0233, time: 16:06:33.937318\n",
      "Epoch [10600/20000], Loss: -0.0322, time: 16:06:34.090119\n",
      "Epoch [10700/20000], Loss: -0.0408, time: 16:06:34.243211\n",
      "Epoch [10800/20000], Loss: -0.0492, time: 16:06:34.395301\n",
      "Epoch [10900/20000], Loss: -0.0573, time: 16:06:34.548755\n",
      "Epoch [11000/20000], Loss: -0.0647, time: 16:06:34.700423\n",
      "Epoch [11100/20000], Loss: -0.0714, time: 16:06:34.855749\n",
      "Epoch [11200/20000], Loss: -0.0766, time: 16:06:35.018841\n",
      "Epoch [11300/20000], Loss: -0.0812, time: 16:06:35.182258\n",
      "Epoch [11400/20000], Loss: -0.0852, time: 16:06:35.345138\n",
      "Epoch [11500/20000], Loss: -0.0888, time: 16:06:35.508337\n",
      "Epoch [11600/20000], Loss: -0.0918, time: 16:06:35.671442\n",
      "Epoch [11700/20000], Loss: -0.0945, time: 16:06:35.833864\n",
      "Epoch [11800/20000], Loss: -0.0970, time: 16:06:35.996853\n",
      "Epoch [11900/20000], Loss: -0.0989, time: 16:06:36.159750\n",
      "Epoch [12000/20000], Loss: -0.1006, time: 16:06:36.322402\n",
      "Epoch [12100/20000], Loss: -0.1022, time: 16:06:36.485725\n",
      "Epoch [12200/20000], Loss: -0.1035, time: 16:06:36.649160\n",
      "Epoch [12300/20000], Loss: -0.1048, time: 16:06:36.812632\n",
      "Epoch [12400/20000], Loss: -0.1059, time: 16:06:36.975116\n",
      "Epoch [12500/20000], Loss: -0.1070, time: 16:06:37.138435\n",
      "Epoch [12600/20000], Loss: -0.1079, time: 16:06:37.301248\n",
      "Epoch [12700/20000], Loss: -0.1088, time: 16:06:37.464108\n",
      "Epoch [12800/20000], Loss: -0.1096, time: 16:06:37.627331\n",
      "Epoch [12900/20000], Loss: -0.1102, time: 16:06:37.790897\n",
      "Epoch [13000/20000], Loss: -0.1107, time: 16:06:37.953811\n",
      "Epoch [13100/20000], Loss: -0.1111, time: 16:06:38.117812\n",
      "Epoch [13200/20000], Loss: -0.1115, time: 16:06:38.280350\n",
      "Epoch [13300/20000], Loss: -0.1119, time: 16:06:38.443692\n",
      "Epoch [13400/20000], Loss: -0.1121, time: 16:06:38.606644\n",
      "Epoch [13500/20000], Loss: -0.1123, time: 16:06:38.769900\n",
      "Epoch [13600/20000], Loss: -0.1125, time: 16:06:38.932705\n",
      "Epoch [13700/20000], Loss: -0.1126, time: 16:06:39.096471\n",
      "Epoch [13800/20000], Loss: -0.1128, time: 16:06:39.259146\n",
      "Epoch [13900/20000], Loss: -0.1129, time: 16:06:39.422108\n",
      "Epoch [14000/20000], Loss: -0.1130, time: 16:06:39.585077\n",
      "Epoch [14100/20000], Loss: -0.1130, time: 16:06:39.748112\n",
      "Epoch [14200/20000], Loss: -0.1131, time: 16:06:39.910962\n",
      "Epoch [14300/20000], Loss: -0.1132, time: 16:06:40.073889\n",
      "Epoch [14400/20000], Loss: -0.1133, time: 16:06:40.236730\n",
      "Epoch [14500/20000], Loss: -0.1133, time: 16:06:40.399584\n",
      "Epoch [14600/20000], Loss: -0.1133, time: 16:06:40.562422\n",
      "Epoch [14700/20000], Loss: -0.1134, time: 16:06:40.725321\n",
      "Epoch [14800/20000], Loss: -0.1134, time: 16:06:40.887743\n",
      "Epoch [14900/20000], Loss: -0.1134, time: 16:06:41.051603\n",
      "Epoch [15000/20000], Loss: -0.1134, time: 16:06:41.213998\n",
      "Epoch [15100/20000], Loss: -0.1134, time: 16:06:41.377062\n",
      "Epoch [15200/20000], Loss: -0.1135, time: 16:06:41.540427\n",
      "Epoch [15300/20000], Loss: -0.1135, time: 16:06:41.704066\n",
      "Epoch [15400/20000], Loss: -0.1135, time: 16:06:41.866905\n",
      "Epoch [15500/20000], Loss: -0.1135, time: 16:06:42.029985\n",
      "Epoch [15600/20000], Loss: -0.1135, time: 16:06:42.192985\n",
      "Epoch [15700/20000], Loss: -0.1135, time: 16:06:42.355593\n",
      "Epoch [15800/20000], Loss: -0.1135, time: 16:06:42.518317\n",
      "Epoch [15900/20000], Loss: -0.1135, time: 16:06:42.681546\n",
      "Epoch [16000/20000], Loss: -0.1135, time: 16:06:42.844680\n",
      "Epoch [16100/20000], Loss: -0.1135, time: 16:06:43.007870\n",
      "Epoch [16200/20000], Loss: -0.1135, time: 16:06:43.170688\n",
      "Epoch [16300/20000], Loss: -0.1135, time: 16:06:43.333862\n",
      "Epoch [16400/20000], Loss: -0.1135, time: 16:06:43.496756\n",
      "Epoch [16500/20000], Loss: -0.1135, time: 16:06:43.660213\n",
      "Epoch [16600/20000], Loss: -0.1135, time: 16:06:43.823039\n",
      "Epoch [16700/20000], Loss: -0.1135, time: 16:06:43.985833\n",
      "Epoch [16800/20000], Loss: -0.1135, time: 16:06:44.148452\n",
      "Epoch [16900/20000], Loss: -0.1135, time: 16:06:44.311754\n",
      "Epoch [17000/20000], Loss: -0.1135, time: 16:06:44.474360\n",
      "Epoch [17100/20000], Loss: -0.1135, time: 16:06:44.637819\n",
      "Epoch [17200/20000], Loss: -0.1135, time: 16:06:44.800847\n",
      "Epoch [17300/20000], Loss: -0.1135, time: 16:06:44.963859\n",
      "Epoch [17400/20000], Loss: -0.1135, time: 16:06:45.126410\n",
      "Epoch [17500/20000], Loss: -0.1135, time: 16:06:45.289563\n",
      "Epoch [17600/20000], Loss: -0.1135, time: 16:06:45.452161\n",
      "Epoch [17700/20000], Loss: -0.1135, time: 16:06:45.615334\n",
      "Epoch [17800/20000], Loss: -0.1135, time: 16:06:45.778204\n",
      "Epoch [17900/20000], Loss: -0.1135, time: 16:06:45.937600\n",
      "Epoch [18000/20000], Loss: -0.1135, time: 16:06:46.089246\n",
      "Epoch [18100/20000], Loss: -0.1135, time: 16:06:46.241332\n",
      "Epoch [18200/20000], Loss: -0.1135, time: 16:06:46.393378\n",
      "Epoch [18300/20000], Loss: -0.1135, time: 16:06:46.545704\n",
      "Epoch [18400/20000], Loss: -0.1135, time: 16:06:46.697813\n",
      "Epoch [18500/20000], Loss: -0.1135, time: 16:06:46.849875\n",
      "Epoch [18600/20000], Loss: -0.1135, time: 16:06:47.002178\n",
      "Epoch [18700/20000], Loss: -0.1135, time: 16:06:47.158263\n",
      "Epoch [18800/20000], Loss: -0.1135, time: 16:06:47.310818\n",
      "Epoch [18900/20000], Loss: -0.1135, time: 16:06:47.463815\n",
      "Epoch [19000/20000], Loss: -0.1135, time: 16:06:47.615938\n",
      "Epoch [19100/20000], Loss: -0.1135, time: 16:06:47.771303\n",
      "Epoch [19200/20000], Loss: -0.1135, time: 16:06:47.927689\n",
      "Epoch [19300/20000], Loss: -0.1135, time: 16:06:48.080722\n",
      "Epoch [19400/20000], Loss: -0.1135, time: 16:06:48.232831\n",
      "Epoch [19500/20000], Loss: -0.1135, time: 16:06:48.385448\n",
      "Epoch [19600/20000], Loss: -0.1135, time: 16:06:48.537859\n",
      "Epoch [19700/20000], Loss: -0.1135, time: 16:06:48.691047\n",
      "Epoch [19800/20000], Loss: -0.1135, time: 16:06:48.843252\n",
      "Epoch [19900/20000], Loss: -0.1135, time: 16:06:48.996942\n",
      "Epoch [20000/20000], Loss: -0.1135, time: 16:06:49.149387\n"
     ]
    }
   ],
   "source": [
    "num_epochs = 20000\n",
    "alpha = 0.001\n",
    "n = 16\n",
    "\n",
    "u = gradient_descent(1, alpha, m, num_epochs, trained_model, objective_function_nde)"
   ]
  },
  {
   "cell_type": "code",
   "execution_count": null,
   "metadata": {},
   "outputs": [],
   "source": []
  },
  {
   "cell_type": "code",
   "execution_count": 77,
   "metadata": {},
   "outputs": [
    {
     "data": {
      "text/plain": [
       "<matplotlib.legend.Legend at 0x7ceb910e83b0>"
      ]
     },
     "execution_count": 77,
     "metadata": {},
     "output_type": "execute_result"
    },
    {
     "data": {
      "image/png": "[encoded data removed]",
      "text/plain": [
       "<Figure size 640x480 with 1 Axes>"
      ]
     },
     "metadata": {},
     "output_type": "display_data"
    }
   ],
   "source": [
    "def analytical_x(t):\n",
    "    return 4/(1+3*np.exp(5*t/2))\n",
    "\n",
    "def analytical_u(t):\n",
    "    return analytical_x(t)/2\n",
    "\n",
    "t = np.linspace(0, 1, 100)\n",
    "analytical_u_vals = analytical_u(t)\n",
    "analytical_x_vals = analytical_x(t)\n",
    "\n",
    "u_tensor = torch.from_numpy(analytical_u_vals).float().reshape(1,100).to(device)  # shape [1, 200]\n",
    "t_tensor = torch.from_numpy(t).float().to(device)\n",
    "\n",
    "plt.plot(analytical_u_vals, label='u analytical')\n",
    "plt.plot(analytical_x_vals, label='x analytical')\n",
    "plt.plot(u.cpu().detach().numpy().T, label=\"Found u\")\n",
    "plt.plot(trained_model(u.reshape(1, 100), torch.linspace(0, end_time, m, device= device).unsqueeze(1)).reshape(100).cpu().detach().numpy(), label=\"Found x\")\n",
    "plt.plot(trained_model(torch.from_numpy(analytical_u_vals).float().unsqueeze(0).to(device), torch.linspace(0, end_time, m, device= device).unsqueeze(1) ).cpu().detach().numpy().T, label=\"Found model(u)\")\n",
    "plt.legend()"
   ]
  }
 ],
 "metadata": {
  "kernelspec": {
   "display_name": ".venv",
   "language": "python",
   "name": "python3"
  },
  "language_info": {
   "codemirror_mode": {
    "name": "ipython",
    "version": 3
   },
   "file_extension": ".py",
   "mimetype": "text/x-python",
   "name": "python",
   "nbconvert_exporter": "python",
   "pygments_lexer": "ipython3",
   "version": "3.12.3"
  }
 },
 "nbformat": 4,
 "nbformat_minor": 2
}

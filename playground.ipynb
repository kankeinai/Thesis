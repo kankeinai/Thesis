{
 "cells": [
  {
   "cell_type": "markdown",
   "metadata": {},
   "source": [
    "# Notebook \\#1 - Operator Learning and Optimal Control "
   ]
  },
  {
   "cell_type": "markdown",
   "metadata": {},
   "source": [
    "In this beginning notebook, I am going to construct a framework for the learning of neural operator using DeepONet architecture and solve Diffusion Problem (to be explained later). The structure of this notebook goes as follows:\n",
    "- Implement a class for the DeepONet architecture\n",
    "- Implement a function for training of the DeepONet with given differential equation and innitial/boundary conditions \n",
    "- Generate a training dataset for the input control functions and the corresponding analytical solutions of the differential equation\n",
    "- Define loss functions associated with physics loss, innitial and boundary conditions\n",
    "- Train the DeepONet\n",
    "- Solve Feldbaum Problem\n",
    "\n",
    "\n",
    "Let's start by implementing the DeepONet architecture.\n",
    "\n"
   ]
  },
  {
   "cell_type": "code",
   "execution_count": 35,
   "metadata": {},
   "outputs": [],
   "source": [
    "import torch\n",
    "import torch.nn as nn\n",
    "import torch.nn.init as init\n",
    "from datetime import datetime\n",
    "from data import MultiFunctionDatasetODE, custom_collate_ODE_fn\n",
    "from torch.utils.data import DataLoader\n",
    "import torch.optim as optim\n",
    "import matplotlib.pyplot as plt\n",
    "import numpy as np\n",
    "import plotter"
   ]
  },
  {
   "cell_type": "markdown",
   "metadata": {},
   "source": [
    "# Implemention of the DeepONet"
   ]
  },
  {
   "cell_type": "markdown",
   "metadata": {},
   "source": [
    "`DenseNetwork(nn.Module)` takes as input 2 vectors: `layer_sizes` (size of each layer of NN including input and output sizes) and `activations` (activation function after each layer, available options include: 'relu', 'tanh', 'sigmoid', 'leaky_relu', 'elu', 'none'). This function is just a way to initialize a simple neural network."
   ]
  },
  {
   "cell_type": "code",
   "execution_count": 36,
   "metadata": {},
   "outputs": [],
   "source": [
    "class DenseNetwork(nn.Module):\n",
    "    def __init__(self, layer_sizes, activations):\n",
    "        super(DenseNetwork, self).__init__()\n",
    "        assert len(layer_sizes) - 1 == len(activations), \"Activation count must match the number of layers - 1\"\n",
    "        \n",
    "        layers = []\n",
    "        for i in range(len(layer_sizes) - 1):\n",
    "            layers.append(nn.Linear(layer_sizes[i], layer_sizes[i + 1]))\n",
    "            if activations[i] is not None:\n",
    "                layers.append(self.get_activation(activations[i]))\n",
    "        self.network = nn.Sequential(*layers)\n",
    "        \n",
    "        # Apply Glorot initialization\n",
    "        self.apply(self.initialize_weights)\n",
    "\n",
    "    def forward(self, x):\n",
    "        return self.network(x)\n",
    "    \n",
    "    @staticmethod\n",
    "    def get_activation(name):\n",
    "        activations = {\n",
    "            'relu': nn.ReLU(),\n",
    "            'tanh': nn.Tanh(),\n",
    "            'sigmoid': nn.Sigmoid(),\n",
    "            'leaky_relu': nn.LeakyReLU(),\n",
    "            'elu': nn.ELU(),\n",
    "            'none': nn.Identity()\n",
    "        }\n",
    "        if name not in activations:\n",
    "            raise ValueError(f\"Unsupported activation: {name}. Supported: {list(activations.keys())}\")\n",
    "        return activations[name]\n",
    "\n",
    "    @staticmethod\n",
    "    def initialize_weights(layer):\n",
    "\n",
    "        if isinstance(layer, nn.Linear):\n",
    "            init.xavier_uniform_(layer.weight)\n",
    "            if layer.bias is not None:\n",
    "                init.zeros_(layer.bias)"
   ]
  },
  {
   "cell_type": "markdown",
   "metadata": {},
   "source": [
    "DeepOnet has the following structure:\n",
    "- There are two neural networks: branch and trunk NNs\n",
    "- Each NN has its own output vector\n",
    "- Dot product of these two vectors is output vector of the DeepOnet\n",
    "\n",
    "The architecture can be see at the Figure 1.\n",
    "\n",
    "<center><img src=\"https://www.researchgate.net/publication/369528434/figure/fig1/AS:11431281157276229@1683770151535/DeepONet-architecture-stacked-42-used-in-the-present-study.png\" width=\"800px\">\n",
    "<p>Figure 1 - Architecture of the DeepONet</p>\n",
    "</center>\n",
    "\n",
    "So, to initialize DeepONet, we need to create 2 neural networks with architectures provided by users and combine their outputs. Using class `DenseNetwork`, we can initialize branch and trunk NNs. Forward method of `DeepONet` can be calculated using `torch.einsum` functions that would combine forward passes of these 2 NNs.\n"
   ]
  },
  {
   "cell_type": "code",
   "execution_count": 37,
   "metadata": {},
   "outputs": [],
   "source": [
    "class DeepONetCartesianProd(nn.Module):\n",
    "    def __init__(self, branch_net, trunk_net, branch_activations, trunk_activations, input_feature=None):\n",
    "        super(DeepONetCartesianProd, self).__init__()\n",
    "        self.branch_net = DenseNetwork(branch_net, branch_activations)\n",
    "        self.trunk_net = DenseNetwork(trunk_net, trunk_activations)\n",
    "\n",
    "\n",
    "        if input_feature is not None:\n",
    "            self.input_encode = input_feature\n",
    "        else:\n",
    "            self.input_encode = None\n",
    "\n",
    "\n",
    "    def forward(self, branch_input, trunk_input):\n",
    "\n",
    "        branch_output = self.branch_net(branch_input)  # Shape: (batch_size, branch_net[-1])\n",
    "        \n",
    "        if self.input_encode is not None:\n",
    "            trunk_input = self.input_encode(trunk_input)\n",
    "        \n",
    "        trunk_output = self.trunk_net(trunk_input)    # Shape: (batch_size, trunk_net[-1])\n",
    "        output = torch.einsum(\"bp,np->bn\", branch_output, trunk_output)\n",
    "\n",
    "        return output"
   ]
  },
  {
   "cell_type": "markdown",
   "metadata": {},
   "source": [
    "# Implement `training()` of the DeepONet"
   ]
  },
  {
   "cell_type": "markdown",
   "metadata": {},
   "source": [
    "In this function `training()`, I tried to be as generic as possible. The function takes as input `model` (created using class `DeepONetCartesianProd`), `optimizer` (for example `Adam`), `dataloader` (created specifically for the problem) and functions that will calculate specific losses that are associated with the problem (`physics_loss_func()`, `initial_loss_func()`, `boundary_loss_func()`). "
   ]
  },
  {
   "cell_type": "code",
   "execution_count": 38,
   "metadata": {},
   "outputs": [],
   "source": [
    "def training(model, optimizer, dataloader, num_epochs= 1000, physics_loss_func=None, initial_loss_func=None, boundary_loss_func= None, plot=False):\n",
    "    for epoch in range(num_epochs):\n",
    "        model.train()\n",
    "        for u, t, t0, ut in dataloader:\n",
    "\n",
    "            t.requires_grad_(True)\n",
    "            batch_size = u.shape[0]\n",
    "            n_points = t.shape[0]\n",
    "\n",
    "            physics_loss = physics_loss_func(model, u, t, t0, ut, batch_size, n_points) if physics_loss_func is not None else torch.zeros(1)\n",
    "            initial_loss = initial_loss_func(model, u, t, t0, ut, batch_size, n_points) if initial_loss_func is not None else torch.zeros(1)\n",
    "            boundary_loss = boundary_loss_func(model, u, t, t0, ut, batch_size, n_points) if boundary_loss_func is not None else torch.zeros(1)\n",
    "            # Total loss\n",
    "            loss = physics_loss + initial_loss + boundary_loss\n",
    "\n",
    "            optimizer.zero_grad()\n",
    "            loss.backward()\n",
    "            optimizer.step()\n",
    "        \n",
    "        if (epoch + 1) % 10 == 0:\n",
    "            print(f'Epoch [{epoch+1}/{num_epochs}], Loss: {loss.item():.4f}, '\n",
    "                    f'initial_loss: {initial_loss.item():.6f}, physics_loss: {physics_loss.item():.6f}, '\n",
    "                    f'time: {datetime.now().time()}')\n",
    "            \n",
    "            if plot == True:\n",
    "                plotter.GRF_test(model,m=m,lb=grf_lb,ub=grf_ub)\n",
    "                plotter.linear_test(model,m=m)\n",
    "                plotter.optimal_test(model,m=m)\n",
    "                plotter.constant_test(model,m=m)\n",
    "                plotter.polynomial_test(model,m=m)\n",
    "                plotter.sine_test(model,m=m)\n",
    "\n",
    "\n",
    "    return model"
   ]
  },
  {
   "cell_type": "markdown",
   "metadata": {},
   "source": [
    "# Define loss functions specific to the problem"
   ]
  },
  {
   "cell_type": "markdown",
   "metadata": {},
   "source": [
    "At first, I will implement the loss functions for the simple Feldbaum problem. The Feldbaum problem is defined as follows:\n",
    "$$\\text{min}_u \\ \\int_{0}^{1} (x^2 + u^2)dt$$\n",
    "$$\\text{s.t.} \\ \\frac{dx}{dt} = x - u$$\n",
    "$$ x(0) = 1$$\n",
    "\n",
    "Additionally, I added an initial condition that $x(t_0) = 1$\n",
    "\n",
    "The physics loss refers to differential equation being non-violated. Ideally,\n",
    "$$\\frac{dx}{dt} - x + u = 0$$\n",
    "\n",
    "where $u$ is input function, $x$ is solution found by neural operator and $x_t$ can be found using `autograd` function which is part of `torch` functionality."
   ]
  },
  {
   "cell_type": "code",
   "execution_count": 39,
   "metadata": {},
   "outputs": [],
   "source": [
    "def physics_loss_func(model, u, t, t0, ut, batch_size, n_points, dim_x = 1):\n",
    "\n",
    "    x = model(u, t)\n",
    "\n",
    "    # Physics loss\n",
    "    dx = torch.zeros(batch_size, n_points, dim_x, device=t.device)\n",
    "    \n",
    "    # This loop is a bottleneck but i havent found a way to parallize this efficiently\n",
    "    for b in range(batch_size):\n",
    "        # Compute gradients for each batch independently\n",
    "        dx[b] = torch.autograd.grad(x[b], t, torch.ones_like(x[b]), create_graph=True)[0]\n",
    "\n",
    "    dx_dt = dx[:,:,0]\n",
    "\n",
    "    # physics loss\n",
    "    physics = dx_dt + x - ut\n",
    "    physics_loss = torch.mean(physics**2)\n",
    "\n",
    "    return physics_loss"
   ]
  },
  {
   "cell_type": "markdown",
   "metadata": {},
   "source": [
    "At first, in the function `physics_loss_func`  we extract the $x_t$ from each batch. `physics` stores the differential equation that we shouldn't violate. And final `physics_loss` is a mean squared error. \n",
    "\n",
    "As input parameters, it takes all the information from the training dataset and output of the neural network `x`."
   ]
  },
  {
   "cell_type": "markdown",
   "metadata": {},
   "source": [
    "Innitial loss function is easy in our case. The output of the neural network at $t=0$ just should be 1."
   ]
  },
  {
   "cell_type": "code",
   "execution_count": 40,
   "metadata": {},
   "outputs": [],
   "source": [
    "def innitial_loss_func(model, u, t, t0, ut, batch_size, n_points):\n",
    "\n",
    "    x_0 = model(u, t0)\n",
    "    initial_loss = torch.mean((torch.ones_like(x_0) - x_0)**2)\n",
    "    \n",
    "    return initial_loss"
   ]
  },
  {
   "cell_type": "markdown",
   "metadata": {},
   "source": [
    "# Generate model and training data"
   ]
  },
  {
   "cell_type": "markdown",
   "metadata": {},
   "source": [
    "## Define model"
   ]
  },
  {
   "cell_type": "markdown",
   "metadata": {},
   "source": [
    "Define number of layers of NNs and number of neurons at each layer. The output size of both trunk and branch networks should be the same."
   ]
  },
  {
   "cell_type": "code",
   "execution_count": 41,
   "metadata": {},
   "outputs": [],
   "source": [
    "# Model Parameters\n",
    "m = 200         # sensor size (branch input size)\n",
    "n_hid = 200     # layer's hidden sizes\n",
    "p = 200         # output size\n",
    "dim_x = 1       # trunk (trunk input size)\n",
    "lr = 0.01\n",
    "num_epochs = 100\n",
    "\n",
    "# Specify device\n",
    "device = torch.device('cuda' if torch.cuda.is_available() else 'cpu')\n",
    "\n",
    "# Specify the MLP architecture\n",
    "branch_net = [m, n_hid, n_hid, n_hid, n_hid, p]\n",
    "branch_activations = ['tanh', 'tanh','tanh', 'tanh', None]\n",
    "trunk_net = [dim_x, n_hid, n_hid, n_hid, n_hid, p]\n",
    "trunk_activations = ['tanh', 'tanh', 'tanh', 'tanh',None]\n",
    "\n",
    "# Initialize model\n",
    "model = DeepONetCartesianProd(branch_net, trunk_net, branch_activations, trunk_activations)\n",
    "model.to(device)\n",
    "\n",
    "#Initialize Optimizer\n",
    "optimizer = optim.Adam(model.parameters(), lr=lr)"
   ]
  },
  {
   "cell_type": "markdown",
   "metadata": {},
   "source": [
    "## Generate training dataset"
   ]
  },
  {
   "cell_type": "markdown",
   "metadata": {},
   "source": [
    "Here we generate all possible candidates for the the control function $u(t)$. We want to train our DeepONet on a diverse domain of functions. In this case we train model on next families of functions: `grf`, `linear`, `sine`, `polynomial`, `constant`. "
   ]
  },
  {
   "cell_type": "code",
   "execution_count": 42,
   "metadata": {},
   "outputs": [],
   "source": [
    "#Dataset parameters\n",
    "n_functions = 1000\n",
    "grf_lb = 0.02\n",
    "grf_ub = 0.5\n",
    "end_time = 1.0\n",
    "num_domain = 200\n",
    "num_initial = 20\n",
    "\n",
    "dataset = MultiFunctionDatasetODE(\n",
    "    m=m,\n",
    "    n_functions=n_functions,\n",
    "    function_types=['grf', 'linear', 'sine', 'polynomial','constant'],\n",
    "    end_time = end_time,\n",
    "    num_domain = num_domain,\n",
    "    num_initial = num_initial,\n",
    "    grf_lb = grf_lb,\n",
    "    grf_ub = grf_ub\n",
    ")\n",
    "\n",
    "dataloader = DataLoader(dataset, batch_size=100, collate_fn=custom_collate_ODE_fn, shuffle=True)"
   ]
  },
  {
   "cell_type": "markdown",
   "metadata": {},
   "source": [
    "# Train DeepONet model"
   ]
  },
  {
   "cell_type": "markdown",
   "metadata": {},
   "source": [
    "Now, we should have everything to train the DeepONet model"
   ]
  },
  {
   "cell_type": "code",
   "execution_count": 43,
   "metadata": {},
   "outputs": [
    {
     "name": "stdout",
     "output_type": "stream",
     "text": [
      "Epoch [10/100], Loss: 2.5304, initial_loss: 0.537691, physics_loss: 1.992670, time: 07:56:18.055269\n",
      "Epoch [20/100], Loss: 1.7056, initial_loss: 0.348155, physics_loss: 1.357483, time: 07:56:26.883398\n",
      "Epoch [30/100], Loss: 1.2653, initial_loss: 0.232241, physics_loss: 1.033015, time: 07:56:35.809993\n",
      "Epoch [40/100], Loss: 1.3470, initial_loss: 0.303156, physics_loss: 1.043795, time: 07:56:44.040195\n",
      "Epoch [50/100], Loss: 1.1271, initial_loss: 0.165011, physics_loss: 0.962101, time: 07:56:52.646059\n",
      "Epoch [60/100], Loss: 0.9404, initial_loss: 0.143683, physics_loss: 0.796718, time: 07:57:01.109182\n",
      "Epoch [70/100], Loss: 0.9741, initial_loss: 0.117892, physics_loss: 0.856212, time: 07:57:10.011223\n",
      "Epoch [80/100], Loss: 0.8712, initial_loss: 0.099677, physics_loss: 0.771522, time: 07:57:18.600029\n",
      "Epoch [90/100], Loss: 1.0824, initial_loss: 0.105508, physics_loss: 0.976892, time: 07:57:26.808121\n",
      "Epoch [100/100], Loss: 1.1774, initial_loss: 0.392739, physics_loss: 0.784621, time: 07:57:35.342280\n"
     ]
    }
   ],
   "source": [
    "trained_model = training(model, optimizer, dataloader, num_epochs = num_epochs, physics_loss_func=physics_loss_func, initial_loss_func=innitial_loss_func)"
   ]
  },
  {
   "cell_type": "markdown",
   "metadata": {},
   "source": [
    "# Solve Feldbaum problem"
   ]
  },
  {
   "cell_type": "markdown",
   "metadata": {},
   "source": [
    "So far, we just trained neural operator to approximate $x$ for given input control function $u$, but we haven't touched optimization part yet. I will remind you what is the problem that we are trying to solve:\n",
    "\n",
    "$$\\text{min}_u \\ \\int_{0}^{1} (x^2 + u^2)dt$$\n",
    "$$\\text{s.t.} \\ \\frac{dx}{dt} = x - u$$\n",
    "$$ x(0) = 1$$\n",
    "\n",
    "So, we should find such control function $u$ that this integral is minimized \n"
   ]
  },
  {
   "cell_type": "code",
   "execution_count": 44,
   "metadata": {},
   "outputs": [],
   "source": [
    "def objective_function(args):\n",
    "\n",
    "    dx_dt = torch.autograd.grad(args['x'], args['t'], grad_outputs=torch.ones_like(args['x']), create_graph=True)[0]\n",
    "    J = ((args['x']**2 + args['u']**2) * torch.ones_like(args['t'])).sum() * (args['t'][1] - args['t'][0])  +  torch.mean(dx_dt - args['x'] + args['u'])\n",
    "\n",
    "    return J\n"
   ]
  },
  {
   "cell_type": "code",
   "execution_count": 45,
   "metadata": {},
   "outputs": [],
   "source": [
    "def gradient_descent(alpha, m, num_epochs, model, objective_function):  # Assuming x, u, and t are tensors with appropriate shapes\n",
    "    \n",
    "    u = torch.ones(m).unsqueeze(0) \n",
    "    t = torch.linspace(0, end_time, m).unsqueeze(1) \n",
    "    \n",
    "    u.requires_grad_(True)\n",
    "    t.requires_grad_(True)\n",
    "\n",
    "    for epoch in range(num_epochs):\n",
    "\n",
    "        x = model(u, t) \n",
    "        args = {'x': x, 'u': u, 't': t}\n",
    "        J = objective_function(args)\n",
    "        dJ_du = torch.autograd.grad(J, u, create_graph=True)[0]\n",
    "        u = u - alpha * dJ_du\n",
    "        print(f'Epoch [{epoch+1}/{num_epochs}], Loss: {J.item():.4f}, time: {datetime.now().time()}')\n",
    "\n",
    "    return u, x, J\n"
   ]
  },
  {
   "cell_type": "code",
   "execution_count": 46,
   "metadata": {},
   "outputs": [
    {
     "name": "stdout",
     "output_type": "stream",
     "text": [
      "Epoch [1/10], Loss: 507.5712, time: 07:57:35.359275\n",
      "Epoch [2/10], Loss: 490.6655, time: 07:57:35.364216\n",
      "Epoch [3/10], Loss: 475.3336, time: 07:57:35.415076\n",
      "Epoch [4/10], Loss: 461.8836, time: 07:57:35.439523\n",
      "Epoch [5/10], Loss: 450.4105, time: 07:57:35.527618\n",
      "Epoch [6/10], Loss: 440.8461, time: 07:57:35.754096\n",
      "Epoch [7/10], Loss: 433.0062, time: 07:57:36.453450\n",
      "Epoch [8/10], Loss: 426.6526, time: 07:57:39.079543\n",
      "Epoch [9/10], Loss: 421.5306, time: 07:57:52.888873\n",
      "Epoch [10/10], Loss: 417.4027, time: 07:59:23.124700\n"
     ]
    }
   ],
   "source": [
    "alpha = 0.0001\n",
    "num_epochs = 10\n",
    "u, x, J = gradient_descent(alpha, m, num_epochs, model, objective_function)"
   ]
  },
  {
   "cell_type": "code",
   "execution_count": 47,
   "metadata": {},
   "outputs": [
    {
     "data": {
      "text/plain": [
       "[<matplotlib.lines.Line2D at 0x47073cc90>]"
      ]
     },
     "execution_count": 47,
     "metadata": {},
     "output_type": "execute_result"
    },
    {
     "data": {
      "image/png": "[encoded data removed]",
      "text/plain": [
       "<Figure size 640x480 with 1 Axes>"
      ]
     },
     "metadata": {},
     "output_type": "display_data"
    }
   ],
   "source": [
    "plt.plot(u.detach().numpy().T)"
   ]
  }
 ],
 "metadata": {
  "kernelspec": {
   "display_name": "Python 3",
   "language": "python",
   "name": "python3"
  },
  "language_info": {
   "codemirror_mode": {
    "name": "ipython",
    "version": 3
   },
   "file_extension": ".py",
   "mimetype": "text/x-python",
   "name": "python",
   "nbconvert_exporter": "python",
   "pygments_lexer": "ipython3",
   "version": "3.11.11"
  }
 },
 "nbformat": 4,
 "nbformat_minor": 2
}

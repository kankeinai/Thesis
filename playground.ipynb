{
 "cells": [
  {
   "cell_type": "markdown",
   "metadata": {},
   "source": [
    "# Notebook \\#1 - Operator Learning and Optimal Control "
   ]
  },
  {
   "cell_type": "markdown",
   "metadata": {},
   "source": [
    "In this beginning notebook, I am going to construct a framework for the learning of neural operator using DeepONet architecture and solve Diffusion Problem (to be explained later). The structure of this notebook goes as follows:\n",
    "- Implement a class for the DeepONet architecture\n",
    "- Implement a function for training of the DeepONet with given differential equation and innitial/boundary conditions \n",
    "- Generate a training dataset for the input control functions and the corresponding analytical solutions of the differential equation\n",
    "- Define loss functions associated with physics loss, innitial and boundary conditions\n",
    "- Train the DeepONet\n",
    "- Solve Feldbaum Problem\n",
    "\n",
    "\n",
    "Let's start by implementing the DeepONet architecture.\n",
    "\n"
   ]
  },
  {
   "cell_type": "code",
   "execution_count": null,
   "metadata": {},
   "outputs": [],
   "source": [
    "import torch\n",
    "import torch.nn as nn\n",
    "import torch.nn.init as init\n",
    "from datetime import datetime\n",
    "from utils.data import MultiFunctionDatasetODE, custom_collate_ODE_fn\n",
    "from torch.utils.data import DataLoader\n",
    "import torch.optim as optim\n",
    "import matplotlib.pyplot as plt\n",
    "import numpy as np\n",
    "import utils.plotter"
   ]
  },
  {
   "cell_type": "markdown",
   "metadata": {},
   "source": [
    "# Implemention of the DeepONet"
   ]
  },
  {
   "cell_type": "markdown",
   "metadata": {},
   "source": [
    "`DenseNetwork(nn.Module)` takes as input 2 vectors: `layer_sizes` (size of each layer of NN including input and output sizes) and `activations` (activation function after each layer, available options include: 'relu', 'tanh', 'sigmoid', 'leaky_relu', 'elu', 'none'). This function is just a way to initialize a simple neural network."
   ]
  },
  {
   "cell_type": "code",
   "execution_count": 69,
   "metadata": {},
   "outputs": [],
   "source": [
    "class DenseNetwork(nn.Module):\n",
    "    def __init__(self, layer_sizes, activations):\n",
    "        super(DenseNetwork, self).__init__()\n",
    "        assert len(layer_sizes) - 1 == len(activations), \"Activation count must match the number of layers - 1\"\n",
    "        \n",
    "        layers = []\n",
    "        for i in range(len(layer_sizes) - 1):\n",
    "            layers.append(nn.Linear(layer_sizes[i], layer_sizes[i + 1]))\n",
    "            if activations[i] is not None:\n",
    "                layers.append(self.get_activation(activations[i]))\n",
    "        self.network = nn.Sequential(*layers)\n",
    "        \n",
    "        # Apply Glorot initialization\n",
    "        self.apply(self.initialize_weights)\n",
    "\n",
    "    def forward(self, x):\n",
    "        return self.network(x)\n",
    "    \n",
    "    @staticmethod\n",
    "    def get_activation(name):\n",
    "        activations = {\n",
    "            'relu': nn.ReLU(),\n",
    "            'tanh': nn.Tanh(),\n",
    "            'sigmoid': nn.Sigmoid(),\n",
    "            'leaky_relu': nn.LeakyReLU(),\n",
    "            'elu': nn.ELU(),\n",
    "            'none': nn.Identity()\n",
    "        }\n",
    "        if name not in activations:\n",
    "            raise ValueError(f\"Unsupported activation: {name}. Supported: {list(activations.keys())}\")\n",
    "        return activations[name]\n",
    "\n",
    "    @staticmethod\n",
    "    def initialize_weights(layer):\n",
    "\n",
    "        if isinstance(layer, nn.Linear):\n",
    "            init.xavier_uniform_(layer.weight)\n",
    "            if layer.bias is not None:\n",
    "                init.zeros_(layer.bias)"
   ]
  },
  {
   "cell_type": "markdown",
   "metadata": {},
   "source": [
    "DeepOnet has the following structure:\n",
    "- There are two neural networks: branch and trunk NNs\n",
    "- Each NN has its own output vector\n",
    "- Dot product of these two vectors is output vector of the DeepOnet\n",
    "\n",
    "The architecture can be see at the Figure 1.\n",
    "\n",
    "<center><img src=\"https://www.researchgate.net/publication/369528434/figure/fig1/AS:11431281157276229@1683770151535/DeepONet-architecture-stacked-42-used-in-the-present-study.png\" width=\"800px\">\n",
    "<p>Figure 1 - Architecture of the DeepONet</p>\n",
    "</center>\n",
    "\n",
    "So, to initialize DeepONet, we need to create 2 neural networks with architectures provided by users and combine their outputs. Using class `DenseNetwork`, we can initialize branch and trunk NNs. Forward method of `DeepONet` can be calculated using `torch.einsum` functions that would combine forward passes of these 2 NNs.\n"
   ]
  },
  {
   "cell_type": "code",
   "execution_count": 70,
   "metadata": {},
   "outputs": [],
   "source": [
    "class DeepONetCartesianProd(nn.Module):\n",
    "    def __init__(self, branch_net, trunk_net, branch_activations, trunk_activations, input_feature=None):\n",
    "        super(DeepONetCartesianProd, self).__init__()\n",
    "        self.branch_net = DenseNetwork(branch_net, branch_activations)\n",
    "        self.trunk_net = DenseNetwork(trunk_net, trunk_activations)\n",
    "\n",
    "\n",
    "        if input_feature is not None:\n",
    "            self.input_encode = input_feature\n",
    "        else:\n",
    "            self.input_encode = None\n",
    "\n",
    "\n",
    "    def forward(self, branch_input, trunk_input):\n",
    "\n",
    "        branch_output = self.branch_net(branch_input)  # Shape: (batch_size, branch_net[-1])\n",
    "        \n",
    "        if self.input_encode is not None:\n",
    "            trunk_input = self.input_encode(trunk_input)\n",
    "        \n",
    "        trunk_output = self.trunk_net(trunk_input)    # Shape: (batch_size, trunk_net[-1])\n",
    "        output = torch.einsum(\"bp,np->bn\", branch_output, trunk_output)\n",
    "\n",
    "        return output"
   ]
  },
  {
   "cell_type": "markdown",
   "metadata": {},
   "source": [
    "# Implement `training()` of the DeepONet"
   ]
  },
  {
   "cell_type": "markdown",
   "metadata": {},
   "source": [
    "In this function `training()`, I tried to be as generic as possible. The function takes as input `model` (created using class `DeepONetCartesianProd`), `optimizer` (for example `Adam`), `dataloader` (created specifically for the problem) and functions that will calculate specific losses that are associated with the problem (`physics_loss_func()`, `initial_loss_func()`, `boundary_loss_func()`). "
   ]
  },
  {
   "cell_type": "code",
   "execution_count": null,
   "metadata": {},
   "outputs": [],
   "source": [
    "def training(model, optimizer, dataloader, num_epochs= 1000, physics_loss_func=None, initial_loss_func=None, boundary_loss_func= None, plot=False):\n",
    "    losses = []\n",
    "    for epoch in range(num_epochs):\n",
    "        model.train()\n",
    "        for u, t, t0, ut in dataloader:\n",
    "\n",
    "            t.requires_grad_(True)\n",
    "            batch_size = u.shape[0]\n",
    "            n_points = t.shape[0]\n",
    "\n",
    "            physics_loss = physics_loss_func(model, u, t, t0, ut, batch_size, n_points) if physics_loss_func is not None else torch.zeros(1, device=t.device)\n",
    "            initial_loss = initial_loss_func(model, u, t, t0, ut, batch_size, n_points) if initial_loss_func is not None else torch.zeros(1, device=t.device)\n",
    "            boundary_loss = boundary_loss_func(model, u, t, t0, ut, batch_size, n_points) if boundary_loss_func is not None else torch.zeros(1, device=t.device)\n",
    "            # Total loss\n",
    "            loss = physics_loss + initial_loss + boundary_loss\n",
    "\n",
    "            optimizer.zero_grad()\n",
    "            loss.backward()\n",
    "            optimizer.step()\n",
    "        \n",
    "        if (epoch + 1) % 10 == 0:\n",
    "            print(f'Epoch [{epoch+1}/{num_epochs}], Loss: {loss.item():.4f}, '\n",
    "                    f'initial_loss: {initial_loss.item():.6f}, physics_loss: {physics_loss.item():.6f}, '\n",
    "                    f'time: {datetime.now().time()}')\n",
    "            \n",
    "            if plot == True:\n",
    "                plotter.GRF_test(model,m=m,lb=grf_lb,ub=grf_ub)\n",
    "                plotter.linear_test(model,m=m)\n",
    "                plotter.optimal_test(model,m=m)\n",
    "                plotter.constant_test(model, m=m)\n",
    "                plotter.polynomial_test(model, m=m)\n",
    "                plotter.sine_test(model, m=m)\n",
    "        \n",
    "        if (epoch + 1) % 100 == 0:\n",
    "            timestamp = datetime.now().strftime('%Y%m%d-%H%M%S')\n",
    "            model_filename = f'model_time_[{timestamp}]_loss_[{loss.item():.4f}].pth'\n",
    "            torch.save(model.state_dict(), f\"trained_models/deep_o_net/{model_filename}\")\n",
    "                        \n",
    "\n",
    "\n",
    "        losses.append(loss)\n",
    "\n",
    "\n",
    "    return model, losses"
   ]
  },
  {
   "cell_type": "markdown",
   "metadata": {},
   "source": [
    "# Define loss functions specific to the problem"
   ]
  },
  {
   "cell_type": "markdown",
   "metadata": {},
   "source": [
    "At first, I will implement the loss functions for the simple Feldbaum problem. The Feldbaum problem is defined as follows:\n",
    "$$\\text{min}_u \\ \\int_{0}^{1} (x^2 + u^2)dt$$\n",
    "$$\\text{s.t.} \\ \\frac{dx}{dt} = x - u$$\n",
    "$$ x(0) = 1$$\n",
    "\n",
    "Additionally, I added an initial condition that $x(t_0) = 1$\n",
    "\n",
    "The physics loss refers to differential equation being non-violated. Ideally,\n",
    "$$\\frac{dx}{dt} - x + u = 0$$\n",
    "\n",
    "where $u$ is input function, $x$ is solution found by neural operator and $x_t$ can be found using `autograd` function which is part of `torch` functionality."
   ]
  },
  {
   "cell_type": "code",
   "execution_count": 83,
   "metadata": {},
   "outputs": [],
   "source": [
    "def physics_loss_func(model, u, t, t0, ut, batch_size, n_points, dim_x = 1):\n",
    "\n",
    "    x = model(u, t)\n",
    "\n",
    "    # Physics loss\n",
    "    dx = torch.zeros(batch_size, n_points, dim_x, device=t.device)\n",
    "    \n",
    "    # This loop is a bottleneck but i havent found a way to parallize this efficiently\n",
    "    for b in range(batch_size):\n",
    "        # Compute gradients for each batch independently\n",
    "        dx[b] = torch.autograd.grad(x[b], t, torch.ones_like(x[b]), create_graph=True)[0]\n",
    "\n",
    "    dx_dt = dx[:,:,0]\n",
    "\n",
    "    # physics loss\n",
    "    physics = dx_dt + x - u\n",
    "    physics_loss = torch.mean(physics**2)\n",
    "\n",
    "    return physics_loss"
   ]
  },
  {
   "cell_type": "markdown",
   "metadata": {},
   "source": [
    "At first, in the function `physics_loss_func`  we extract the $x_t$ from each batch. `physics` stores the differential equation that we shouldn't violate. And final `physics_loss` is a mean squared error. \n",
    "\n",
    "As input parameters, it takes all the information from the training dataset and output of the neural network `x`."
   ]
  },
  {
   "cell_type": "markdown",
   "metadata": {},
   "source": [
    "Innitial loss function is easy in our case. The output of the neural network at $t=0$ just should be 1."
   ]
  },
  {
   "cell_type": "code",
   "execution_count": 84,
   "metadata": {},
   "outputs": [],
   "source": [
    "def innitial_loss_func(model, u, t, t0, ut, batch_size, n_points):\n",
    "\n",
    "    x_0 = model(u, t0)\n",
    "    initial_loss = torch.mean((torch.ones_like(x_0) - x_0)**2)\n",
    "    \n",
    "    return initial_loss"
   ]
  },
  {
   "cell_type": "markdown",
   "metadata": {},
   "source": [
    "# Generate model and training data"
   ]
  },
  {
   "cell_type": "markdown",
   "metadata": {},
   "source": [
    "## Define model"
   ]
  },
  {
   "cell_type": "markdown",
   "metadata": {},
   "source": [
    "Define number of layers of NNs and number of neurons at each layer. The output size of both trunk and branch networks should be the same."
   ]
  },
  {
   "cell_type": "code",
   "execution_count": null,
   "metadata": {},
   "outputs": [],
   "source": [
    "# Model Parameters\n",
    "m = 200         # sensor size (branch input size)\n",
    "n_hid = 250     # layer's hidden sizes\n",
    "p = 200         # output size\n",
    "dim_x = 1       # trunk (trunk input size)\n",
    "lr = 0.0001\n",
    "num_epochs = 1000\n",
    "\n",
    "# Specify device\n",
    "device = torch.device('cuda' if torch.cuda.is_available() else 'cpu')\n",
    "\n",
    "# Specify the MLP architecture\n",
    "branch_net = [m, n_hid, n_hid, n_hid, n_hid, p]\n",
    "branch_activations = ['tanh', 'tanh','tanh', 'tanh', None]\n",
    "trunk_net = [dim_x, n_hid, n_hid, n_hid, n_hid, p]\n",
    "trunk_activations = ['tanh', 'tanh', 'tanh', 'tanh',None]\n",
    "\n",
    "# Initialize model\n",
    "model = DeepONetCartesianProd(branch_net, trunk_net, branch_activations, trunk_activations)\n",
    "model.to(device)\n",
    "\n",
    "#Initialize Optimizer\n",
    "optimizer = optim.Adam(model.parameters(), lr=lr)"
   ]
  },
  {
   "cell_type": "markdown",
   "metadata": {},
   "source": [
    "## Generate training dataset"
   ]
  },
  {
   "cell_type": "markdown",
   "metadata": {},
   "source": [
    "Here we generate all possible candidates for the the control function $u(t)$. We want to train our DeepONet on a diverse domain of functions. In this case we train model on next families of functions: `grf`, `linear`, `sine`, `polynomial`, `constant`. "
   ]
  },
  {
   "cell_type": "code",
   "execution_count": 86,
   "metadata": {},
   "outputs": [],
   "source": [
    "#Dataset parameters\n",
    "n_functions = 10000\n",
    "grf_lb = 0.02\n",
    "grf_ub = 0.5\n",
    "end_time = 1.0\n",
    "num_domain = 200\n",
    "num_initial = 20\n",
    "\n",
    "dataset = MultiFunctionDatasetODE(\n",
    "    m=m,\n",
    "    n_functions=n_functions,\n",
    "    function_types=['grf', 'linear', 'sine', 'polynomial','constant'],\n",
    "    end_time = end_time,\n",
    "    num_domain = num_domain,\n",
    "    num_initial = num_initial,\n",
    "    grf_lb = grf_lb,\n",
    "    grf_ub = grf_ub\n",
    ")\n",
    "\n",
    "dataloader = DataLoader(dataset, batch_size=128, collate_fn=custom_collate_ODE_fn, shuffle=True)"
   ]
  },
  {
   "cell_type": "markdown",
   "metadata": {},
   "source": [
    "# Train DeepONet model"
   ]
  },
  {
   "cell_type": "markdown",
   "metadata": {},
   "source": [
    "Now, we should have everything to train the DeepONet model"
   ]
  },
  {
   "cell_type": "code",
   "execution_count": 87,
   "metadata": {},
   "outputs": [
    {
     "name": "stdout",
     "output_type": "stream",
     "text": [
      "Epoch [10/1000], Loss: 0.6212, initial_loss: 0.003512, physics_loss: 0.617734, time: 20:26:18.927755\n",
      "Epoch [20/1000], Loss: 0.5012, initial_loss: 0.001404, physics_loss: 0.499840, time: 20:27:19.947396\n",
      "Epoch [30/1000], Loss: 0.3342, initial_loss: 0.001006, physics_loss: 0.333221, time: 20:28:21.529175\n",
      "Epoch [40/1000], Loss: 1.1026, initial_loss: 0.000535, physics_loss: 1.102091, time: 20:29:24.785795\n"
     ]
    },
    {
     "ename": "KeyboardInterrupt",
     "evalue": "",
     "output_type": "error",
     "traceback": [
      "\u001b[0;31m---------------------------------------------------------------------------\u001b[0m",
      "\u001b[0;31mKeyboardInterrupt\u001b[0m                         Traceback (most recent call last)",
      "Cell \u001b[0;32mIn[87], line 1\u001b[0m\n\u001b[0;32m----> 1\u001b[0m trained_model, lossses \u001b[38;5;241m=\u001b[39m \u001b[43mtraining\u001b[49m\u001b[43m(\u001b[49m\u001b[43mmodel\u001b[49m\u001b[43m,\u001b[49m\u001b[43m \u001b[49m\u001b[43moptimizer\u001b[49m\u001b[43m,\u001b[49m\u001b[43m \u001b[49m\u001b[43mdataloader\u001b[49m\u001b[43m,\u001b[49m\u001b[43m \u001b[49m\u001b[43mnum_epochs\u001b[49m\u001b[43m \u001b[49m\u001b[38;5;241;43m=\u001b[39;49m\u001b[43m \u001b[49m\u001b[43mnum_epochs\u001b[49m\u001b[43m,\u001b[49m\u001b[43m \u001b[49m\u001b[43mphysics_loss_func\u001b[49m\u001b[38;5;241;43m=\u001b[39;49m\u001b[43mphysics_loss_func\u001b[49m\u001b[43m,\u001b[49m\u001b[43m \u001b[49m\u001b[43minitial_loss_func\u001b[49m\u001b[38;5;241;43m=\u001b[39;49m\u001b[43minnitial_loss_func\u001b[49m\u001b[43m,\u001b[49m\u001b[43m \u001b[49m\u001b[43mplot\u001b[49m\u001b[38;5;241;43m=\u001b[39;49m\u001b[38;5;28;43;01mTrue\u001b[39;49;00m\u001b[43m)\u001b[49m\n",
      "Cell \u001b[0;32mIn[77], line 11\u001b[0m, in \u001b[0;36mtraining\u001b[0;34m(model, optimizer, dataloader, num_epochs, physics_loss_func, initial_loss_func, boundary_loss_func, plot)\u001b[0m\n\u001b[1;32m      8\u001b[0m batch_size \u001b[38;5;241m=\u001b[39m u\u001b[38;5;241m.\u001b[39mshape[\u001b[38;5;241m0\u001b[39m]\n\u001b[1;32m      9\u001b[0m n_points \u001b[38;5;241m=\u001b[39m t\u001b[38;5;241m.\u001b[39mshape[\u001b[38;5;241m0\u001b[39m]\n\u001b[0;32m---> 11\u001b[0m physics_loss \u001b[38;5;241m=\u001b[39m \u001b[43mphysics_loss_func\u001b[49m\u001b[43m(\u001b[49m\u001b[43mmodel\u001b[49m\u001b[43m,\u001b[49m\u001b[43m \u001b[49m\u001b[43mu\u001b[49m\u001b[43m,\u001b[49m\u001b[43m \u001b[49m\u001b[43mt\u001b[49m\u001b[43m,\u001b[49m\u001b[43m \u001b[49m\u001b[43mt0\u001b[49m\u001b[43m,\u001b[49m\u001b[43m \u001b[49m\u001b[43mut\u001b[49m\u001b[43m,\u001b[49m\u001b[43m \u001b[49m\u001b[43mbatch_size\u001b[49m\u001b[43m,\u001b[49m\u001b[43m \u001b[49m\u001b[43mn_points\u001b[49m\u001b[43m)\u001b[49m \u001b[38;5;28;01mif\u001b[39;00m physics_loss_func \u001b[38;5;129;01mis\u001b[39;00m \u001b[38;5;129;01mnot\u001b[39;00m \u001b[38;5;28;01mNone\u001b[39;00m \u001b[38;5;28;01melse\u001b[39;00m torch\u001b[38;5;241m.\u001b[39mzeros(\u001b[38;5;241m1\u001b[39m, device\u001b[38;5;241m=\u001b[39mt\u001b[38;5;241m.\u001b[39mdevice)\n\u001b[1;32m     12\u001b[0m initial_loss \u001b[38;5;241m=\u001b[39m initial_loss_func(model, u, t, t0, ut, batch_size, n_points) \u001b[38;5;28;01mif\u001b[39;00m initial_loss_func \u001b[38;5;129;01mis\u001b[39;00m \u001b[38;5;129;01mnot\u001b[39;00m \u001b[38;5;28;01mNone\u001b[39;00m \u001b[38;5;28;01melse\u001b[39;00m torch\u001b[38;5;241m.\u001b[39mzeros(\u001b[38;5;241m1\u001b[39m, device\u001b[38;5;241m=\u001b[39mt\u001b[38;5;241m.\u001b[39mdevice)\n\u001b[1;32m     13\u001b[0m boundary_loss \u001b[38;5;241m=\u001b[39m boundary_loss_func(model, u, t, t0, ut, batch_size, n_points) \u001b[38;5;28;01mif\u001b[39;00m boundary_loss_func \u001b[38;5;129;01mis\u001b[39;00m \u001b[38;5;129;01mnot\u001b[39;00m \u001b[38;5;28;01mNone\u001b[39;00m \u001b[38;5;28;01melse\u001b[39;00m torch\u001b[38;5;241m.\u001b[39mzeros(\u001b[38;5;241m1\u001b[39m, device\u001b[38;5;241m=\u001b[39mt\u001b[38;5;241m.\u001b[39mdevice)\n",
      "Cell \u001b[0;32mIn[83], line 11\u001b[0m, in \u001b[0;36mphysics_loss_func\u001b[0;34m(model, u, t, t0, ut, batch_size, n_points, dim_x)\u001b[0m\n\u001b[1;32m      8\u001b[0m \u001b[38;5;66;03m# This loop is a bottleneck but i havent found a way to parallize this efficiently\u001b[39;00m\n\u001b[1;32m      9\u001b[0m \u001b[38;5;28;01mfor\u001b[39;00m b \u001b[38;5;129;01min\u001b[39;00m \u001b[38;5;28mrange\u001b[39m(batch_size):\n\u001b[1;32m     10\u001b[0m     \u001b[38;5;66;03m# Compute gradients for each batch independently\u001b[39;00m\n\u001b[0;32m---> 11\u001b[0m     dx[b] \u001b[38;5;241m=\u001b[39m torch\u001b[38;5;241m.\u001b[39mautograd\u001b[38;5;241m.\u001b[39mgrad(x[b], t, \u001b[43mtorch\u001b[49m\u001b[38;5;241;43m.\u001b[39;49m\u001b[43mones_like\u001b[49m\u001b[43m(\u001b[49m\u001b[43mx\u001b[49m\u001b[43m[\u001b[49m\u001b[43mb\u001b[49m\u001b[43m]\u001b[49m\u001b[43m)\u001b[49m, create_graph\u001b[38;5;241m=\u001b[39m\u001b[38;5;28;01mTrue\u001b[39;00m)[\u001b[38;5;241m0\u001b[39m]\n\u001b[1;32m     13\u001b[0m dx_dt \u001b[38;5;241m=\u001b[39m dx[:,:,\u001b[38;5;241m0\u001b[39m]\n\u001b[1;32m     15\u001b[0m \u001b[38;5;66;03m# physics loss\u001b[39;00m\n",
      "\u001b[0;31mKeyboardInterrupt\u001b[0m: "
     ]
    }
   ],
   "source": [
    "trained_model, lossses = training(model, optimizer, dataloader, num_epochs = num_epochs, physics_loss_func=physics_loss_func, initial_loss_func=innitial_loss_func, plot=True)"
   ]
  },
  {
   "cell_type": "code",
   "execution_count": 104,
   "metadata": {},
   "outputs": [
    {
     "data": {
      "text/plain": [
       "DeepONetCartesianProd(\n",
       "  (branch_net): DenseNetwork(\n",
       "    (network): Sequential(\n",
       "      (0): Linear(in_features=200, out_features=250, bias=True)\n",
       "      (1): Tanh()\n",
       "      (2): Linear(in_features=250, out_features=250, bias=True)\n",
       "      (3): Tanh()\n",
       "      (4): Linear(in_features=250, out_features=250, bias=True)\n",
       "      (5): Tanh()\n",
       "      (6): Linear(in_features=250, out_features=250, bias=True)\n",
       "      (7): Tanh()\n",
       "      (8): Linear(in_features=250, out_features=200, bias=True)\n",
       "    )\n",
       "  )\n",
       "  (trunk_net): DenseNetwork(\n",
       "    (network): Sequential(\n",
       "      (0): Linear(in_features=1, out_features=250, bias=True)\n",
       "      (1): Tanh()\n",
       "      (2): Linear(in_features=250, out_features=250, bias=True)\n",
       "      (3): Tanh()\n",
       "      (4): Linear(in_features=250, out_features=250, bias=True)\n",
       "      (5): Tanh()\n",
       "      (6): Linear(in_features=250, out_features=250, bias=True)\n",
       "      (7): Tanh()\n",
       "      (8): Linear(in_features=250, out_features=200, bias=True)\n",
       "    )\n",
       "  )\n",
       ")"
      ]
     },
     "execution_count": 104,
     "metadata": {},
     "output_type": "execute_result"
    }
   ],
   "source": [
    "trained_model =  DeepONetCartesianProd(branch_net, trunk_net, branch_activations, trunk_activations)\n",
    "trained_model.to(device)\n",
    "trained_model.load_state_dict(torch.load('trained_models/deep_o_net/model_time_[20250306-123131]_loss_[0.0134].pth'))\n",
    "trained_model.eval()  # set the model to evaluation mode"
   ]
  },
  {
   "cell_type": "markdown",
   "metadata": {},
   "source": [
    "# Solve Feldbaum problem"
   ]
  },
  {
   "cell_type": "markdown",
   "metadata": {},
   "source": [
    "So far, we just trained neural operator to approximate $x$ for given input control function $u$, but we haven't touched optimization part yet. I will remind you what is the problem that we are trying to solve:\n",
    "\n",
    "$$\\text{min}_u \\ \\ \\frac{1}{2}\\int_{0}^{1} (x^2 + u^2)dt$$\n",
    "$$\\text{s.t.} \\ \\frac{dx}{dt} = x - u$$\n",
    "$$ x(0) = 1$$\n",
    "\n",
    "So, we should find such control function $u$ that this integral is minimized \n"
   ]
  },
  {
   "cell_type": "code",
   "execution_count": 126,
   "metadata": {},
   "outputs": [],
   "source": [
    "def objective_function(n, args):\n",
    "\n",
    "    # Physics loss\n",
    "    dx = torch.zeros(n, args['t'].shape[0], dim_x, device=args['t'].device)\n",
    "    \n",
    "    # This loop is a bottleneck but i havent found a way to parallize this efficiently\n",
    "    for b in range(n):\n",
    "        # Compute gradients for each batch independently\n",
    "        dx[b] = torch.autograd.grad(args['x'][b], args['t'], torch.ones_like(args['x'][b]), create_graph=True)[0]\n",
    "\n",
    "    dx_dt = dx[:,:,0]\n",
    "\n",
    "    # physics loss\n",
    "    physics = dx_dt + args['x'] - args['u']\n",
    "    physics_loss = torch.mean(physics**2)\n",
    "    innitial_loss_func = torch.mean((args['x'][:, 0] - torch.ones(n, device= device))**2)\n",
    "\n",
    "    J = torch.mean(torch.trapz((args['x']**2 + args['u']**2).squeeze(), args['t'].squeeze()))  + 100 * physics_loss + 10*innitial_loss_func \n",
    "    return J\n"
   ]
  },
  {
   "cell_type": "code",
   "execution_count": 136,
   "metadata": {},
   "outputs": [],
   "source": [
    "def gradient_descent(n, alpha, m, num_epochs, model, objective_function):  \n",
    "    \n",
    "    u = torch.randn(n, m, device= device)\n",
    "    t = torch.linspace(0, end_time, m, device= device).unsqueeze(1) \n",
    "    \n",
    "    u.requires_grad_(True)\n",
    "    t.requires_grad_(True)\n",
    "\n",
    "    optimizer = torch.optim.AdamW([u], lr=alpha, weight_decay=0.01)\n",
    "\n",
    "    for epoch in range(num_epochs):\n",
    "\n",
    "\n",
    "        optimizer.zero_grad()\n",
    "        x = model(u, t) \n",
    "        args = {'x': x, 'u': u, 't': t}\n",
    "        loss = objective_function(n, args)\n",
    "        loss.backward()\n",
    "        optimizer.step()\n",
    "\n",
    "\n",
    "        if (epoch+1) % 100 == 0:\n",
    "            \n",
    "            print(f'Epoch [{epoch+1}/{num_epochs}], Loss: {loss.item():.4f}, time: {datetime.now().time()}')\n",
    "\n",
    "    return torch.mean(u, axis=0)\n"
   ]
  },
  {
   "cell_type": "code",
   "execution_count": null,
   "metadata": {},
   "outputs": [
    {
     "name": "stdout",
     "output_type": "stream",
     "text": [
      "Epoch [100/30000], Loss: 141.5811, time: 20:48:29.753283\n",
      "Epoch [200/30000], Loss: 138.0668, time: 20:48:30.658168\n",
      "Epoch [300/30000], Loss: 134.6955, time: 20:48:31.558905\n",
      "Epoch [400/30000], Loss: 131.4514, time: 20:48:32.450387\n",
      "Epoch [500/30000], Loss: 128.3233, time: 20:48:33.342530\n",
      "Epoch [600/30000], Loss: 125.3022, time: 20:48:34.232531\n",
      "Epoch [700/30000], Loss: 122.3809, time: 20:48:35.123924\n",
      "Epoch [800/30000], Loss: 119.5535, time: 20:48:36.016152\n",
      "Epoch [900/30000], Loss: 116.8154, time: 20:48:36.928246\n",
      "Epoch [1000/30000], Loss: 114.1625, time: 20:48:37.823906\n",
      "Epoch [1100/30000], Loss: 111.5913, time: 20:48:38.726467\n",
      "Epoch [1200/30000], Loss: 109.0986, time: 20:48:39.621170\n",
      "Epoch [1300/30000], Loss: 106.6811, time: 20:48:40.528017\n",
      "Epoch [1400/30000], Loss: 104.3360, time: 20:48:41.423915\n",
      "Epoch [1500/30000], Loss: 102.0603, time: 20:48:42.337469\n",
      "Epoch [1600/30000], Loss: 99.8512, time: 20:48:43.229007\n",
      "Epoch [1700/30000], Loss: 97.7061, time: 20:48:44.108980\n",
      "Epoch [1800/30000], Loss: 95.6223, time: 20:48:44.993755\n",
      "Epoch [1900/30000], Loss: 93.5975, time: 20:48:45.873369\n",
      "Epoch [2000/30000], Loss: 91.6291, time: 20:48:46.754601\n",
      "Epoch [2100/30000], Loss: 89.7151, time: 20:48:47.650729\n",
      "Epoch [2200/30000], Loss: 87.8531, time: 20:48:48.571989\n",
      "Epoch [2300/30000], Loss: 86.0413, time: 20:48:49.559411\n",
      "Epoch [2400/30000], Loss: 84.2775, time: 20:48:50.450699\n",
      "Epoch [2500/30000], Loss: 82.5601, time: 20:48:51.340303\n",
      "Epoch [2600/30000], Loss: 80.8873, time: 20:48:52.221120\n",
      "Epoch [2700/30000], Loss: 79.2573, time: 20:48:53.101381\n",
      "Epoch [2800/30000], Loss: 77.6686, time: 20:48:53.983834\n",
      "Epoch [2900/30000], Loss: 76.1196, time: 20:48:54.863666\n",
      "Epoch [3000/30000], Loss: 74.6087, time: 20:48:55.754525\n",
      "Epoch [3100/30000], Loss: 73.1346, time: 20:48:56.634192\n",
      "Epoch [3200/30000], Loss: 71.6957, time: 20:48:57.527478\n",
      "Epoch [3300/30000], Loss: 70.2906, time: 20:48:58.425169\n",
      "Epoch [3400/30000], Loss: 68.9178, time: 20:48:59.308010\n",
      "Epoch [3500/30000], Loss: 67.5762, time: 20:49:00.190600\n",
      "Epoch [3600/30000], Loss: 66.2643, time: 20:49:01.072192\n",
      "Epoch [3700/30000], Loss: 64.9808, time: 20:49:01.952939\n",
      "Epoch [3800/30000], Loss: 63.7247, time: 20:49:02.834373\n",
      "Epoch [3900/30000], Loss: 62.4947, time: 20:49:03.719175\n",
      "Epoch [4000/30000], Loss: 61.2897, time: 20:49:04.610125\n",
      "Epoch [4100/30000], Loss: 60.1088, time: 20:49:05.491603\n",
      "Epoch [4200/30000], Loss: 58.9509, time: 20:49:06.367809\n",
      "Epoch [4300/30000], Loss: 57.8152, time: 20:49:07.245661\n",
      "Epoch [4400/30000], Loss: 56.7007, time: 20:49:08.140408\n",
      "Epoch [4500/30000], Loss: 55.6067, time: 20:49:09.021881\n",
      "Epoch [4600/30000], Loss: 54.5324, time: 20:49:09.900794\n",
      "Epoch [4700/30000], Loss: 53.4771, time: 20:49:10.784490\n",
      "Epoch [4800/30000], Loss: 52.4402, time: 20:49:11.688043\n",
      "Epoch [4900/30000], Loss: 51.4210, time: 20:49:12.566685\n",
      "Epoch [5000/30000], Loss: 50.4191, time: 20:49:13.445055\n",
      "Epoch [5100/30000], Loss: 49.4339, time: 20:49:14.324474\n",
      "Epoch [5200/30000], Loss: 48.4650, time: 20:49:15.209890\n",
      "Epoch [5300/30000], Loss: 47.5119, time: 20:49:16.095275\n",
      "Epoch [5400/30000], Loss: 46.5742, time: 20:49:16.980376\n",
      "Epoch [5500/30000], Loss: 45.6516, time: 20:49:17.872761\n",
      "Epoch [5600/30000], Loss: 44.7438, time: 20:49:18.769184\n",
      "Epoch [5700/30000], Loss: 43.8505, time: 20:49:19.657953\n",
      "Epoch [5800/30000], Loss: 42.9713, time: 20:49:20.537369\n",
      "Epoch [5900/30000], Loss: 42.1062, time: 20:49:21.417083\n",
      "Epoch [6000/30000], Loss: 41.2547, time: 20:49:22.296056\n",
      "Epoch [6100/30000], Loss: 40.4168, time: 20:49:23.175073\n",
      "Epoch [6200/30000], Loss: 39.5922, time: 20:49:24.054126\n",
      "Epoch [6300/30000], Loss: 38.7807, time: 20:49:24.936898\n",
      "Epoch [6400/30000], Loss: 37.9822, time: 20:49:25.838873\n",
      "Epoch [6500/30000], Loss: 37.1964, time: 20:49:26.727906\n",
      "Epoch [6600/30000], Loss: 36.4232, time: 20:49:27.605729\n",
      "Epoch [6700/30000], Loss: 35.6625, time: 20:49:28.483971\n",
      "Epoch [6800/30000], Loss: 34.9141, time: 20:49:29.380450\n",
      "Epoch [6900/30000], Loss: 34.1778, time: 20:49:30.271416\n",
      "Epoch [7000/30000], Loss: 33.4535, time: 20:49:31.155978\n",
      "Epoch [7100/30000], Loss: 32.7410, time: 20:49:32.035510\n",
      "Epoch [7200/30000], Loss: 32.0403, time: 20:49:32.927364\n",
      "Epoch [7300/30000], Loss: 31.3510, time: 20:49:33.825011\n",
      "Epoch [7400/30000], Loss: 30.6732, time: 20:49:34.712316\n",
      "Epoch [7500/30000], Loss: 30.0067, time: 20:49:35.593785\n",
      "Epoch [7600/30000], Loss: 29.3512, time: 20:49:36.477187\n",
      "Epoch [7700/30000], Loss: 28.7068, time: 20:49:37.366543\n",
      "Epoch [7800/30000], Loss: 28.0732, time: 20:49:38.247308\n",
      "Epoch [7900/30000], Loss: 27.4504, time: 20:49:39.139433\n",
      "Epoch [8000/30000], Loss: 26.8382, time: 20:49:40.022057\n",
      "Epoch [8100/30000], Loss: 26.2364, time: 20:49:40.912289\n",
      "Epoch [8200/30000], Loss: 25.6450, time: 20:49:41.807873\n",
      "Epoch [8300/30000], Loss: 25.0639, time: 20:49:42.691882\n",
      "Epoch [8400/30000], Loss: 24.4929, time: 20:49:43.573854\n",
      "Epoch [8500/30000], Loss: 23.9318, time: 20:49:44.463539\n",
      "Epoch [8600/30000], Loss: 23.3807, time: 20:49:45.357510\n",
      "Epoch [8700/30000], Loss: 22.8393, time: 20:49:46.242599\n",
      "Epoch [8800/30000], Loss: 22.3075, time: 20:49:47.127346\n",
      "Epoch [8900/30000], Loss: 21.7853, time: 20:49:48.020796\n",
      "Epoch [9000/30000], Loss: 21.2725, time: 20:49:48.920739\n",
      "Epoch [9100/30000], Loss: 20.7691, time: 20:49:49.821191\n",
      "Epoch [9200/30000], Loss: 20.2748, time: 20:49:50.713980\n",
      "Epoch [9300/30000], Loss: 19.7896, time: 20:49:51.599016\n",
      "Epoch [9400/30000], Loss: 19.3134, time: 20:49:52.483327\n",
      "Epoch [9500/30000], Loss: 18.8461, time: 20:49:53.369062\n",
      "Epoch [9600/30000], Loss: 18.3876, time: 20:49:54.253076\n",
      "Epoch [9700/30000], Loss: 17.9377, time: 20:49:55.133857\n",
      "Epoch [9800/30000], Loss: 17.4964, time: 20:49:56.025861\n",
      "Epoch [9900/30000], Loss: 17.0636, time: 20:49:56.911079\n",
      "Epoch [10000/30000], Loss: 16.6391, time: 20:49:57.793740\n",
      "Epoch [10100/30000], Loss: 16.2229, time: 20:49:58.674990\n",
      "Epoch [10200/30000], Loss: 15.8148, time: 20:49:59.556114\n",
      "Epoch [10300/30000], Loss: 15.4148, time: 20:50:00.454764\n",
      "Epoch [10400/30000], Loss: 15.0227, time: 20:50:01.339389\n",
      "Epoch [10500/30000], Loss: 14.6385, time: 20:50:02.227027\n",
      "Epoch [10600/30000], Loss: 14.2620, time: 20:50:03.121870\n",
      "Epoch [10700/30000], Loss: 13.8932, time: 20:50:04.007837\n",
      "Epoch [10800/30000], Loss: 13.5319, time: 20:50:04.893112\n",
      "Epoch [10900/30000], Loss: 13.1780, time: 20:50:05.777168\n",
      "Epoch [11000/30000], Loss: 12.8315, time: 20:50:06.661882\n",
      "Epoch [11100/30000], Loss: 12.4922, time: 20:50:07.542512\n",
      "Epoch [11200/30000], Loss: 12.1601, time: 20:50:08.424400\n",
      "Epoch [11300/30000], Loss: 11.8350, time: 20:50:09.311903\n",
      "Epoch [11400/30000], Loss: 11.5169, time: 20:50:10.207507\n",
      "Epoch [11500/30000], Loss: 11.2056, time: 20:50:11.108202\n",
      "Epoch [11600/30000], Loss: 10.9011, time: 20:50:11.995576\n",
      "Epoch [11700/30000], Loss: 10.6032, time: 20:50:12.877749\n",
      "Epoch [11800/30000], Loss: 10.3120, time: 20:50:13.760987\n",
      "Epoch [11900/30000], Loss: 10.0272, time: 20:50:14.647449\n",
      "Epoch [12000/30000], Loss: 9.7488, time: 20:50:15.534590\n",
      "Epoch [12100/30000], Loss: 9.4767, time: 20:50:16.418609\n",
      "Epoch [12200/30000], Loss: 9.2108, time: 20:50:17.311648\n",
      "Epoch [12300/30000], Loss: 8.9510, time: 20:50:18.220152\n",
      "Epoch [12400/30000], Loss: 8.6972, time: 20:50:19.118933\n",
      "Epoch [12500/30000], Loss: 8.4494, time: 20:50:20.012506\n",
      "Epoch [12600/30000], Loss: 8.2074, time: 20:50:20.904825\n",
      "Epoch [12700/30000], Loss: 7.9711, time: 20:50:21.827370\n",
      "Epoch [12800/30000], Loss: 7.7406, time: 20:50:22.728070\n",
      "Epoch [12900/30000], Loss: 7.5156, time: 20:50:23.621287\n",
      "Epoch [13000/30000], Loss: 7.2960, time: 20:50:24.512576\n",
      "Epoch [13100/30000], Loss: 7.0819, time: 20:50:25.403800\n",
      "Epoch [13200/30000], Loss: 6.8730, time: 20:50:26.302916\n",
      "Epoch [13300/30000], Loss: 6.6694, time: 20:50:27.203915\n",
      "Epoch [13400/30000], Loss: 6.4709, time: 20:50:28.100988\n",
      "Epoch [13500/30000], Loss: 6.2775, time: 20:50:28.996087\n",
      "Epoch [13600/30000], Loss: 6.0890, time: 20:50:29.891547\n",
      "Epoch [13700/30000], Loss: 5.9053, time: 20:50:30.782012\n",
      "Epoch [13800/30000], Loss: 5.7265, time: 20:50:31.686298\n",
      "Epoch [13900/30000], Loss: 5.5523, time: 20:50:32.586467\n",
      "Epoch [14000/30000], Loss: 5.3828, time: 20:50:33.483342\n",
      "Epoch [14100/30000], Loss: 5.2178, time: 20:50:34.382526\n",
      "Epoch [14200/30000], Loss: 5.0573, time: 20:50:35.271603\n",
      "Epoch [14300/30000], Loss: 4.9011, time: 20:50:36.167032\n",
      "Epoch [14400/30000], Loss: 4.7493, time: 20:50:37.057246\n",
      "Epoch [14500/30000], Loss: 4.6016, time: 20:50:37.947737\n",
      "Epoch [14600/30000], Loss: 4.4581, time: 20:50:38.844574\n",
      "Epoch [14700/30000], Loss: 4.3186, time: 20:50:39.734593\n",
      "Epoch [14800/30000], Loss: 4.1832, time: 20:50:40.625242\n",
      "Epoch [14900/30000], Loss: 4.0516, time: 20:50:41.520274\n",
      "Epoch [15000/30000], Loss: 3.9238, time: 20:50:42.426697\n",
      "Epoch [15100/30000], Loss: 3.7998, time: 20:50:43.329239\n",
      "Epoch [15200/30000], Loss: 3.6794, time: 20:50:44.226368\n",
      "Epoch [15300/30000], Loss: 3.5627, time: 20:50:45.121431\n",
      "Epoch [15400/30000], Loss: 3.4494, time: 20:50:46.018753\n",
      "Epoch [15500/30000], Loss: 3.3396, time: 20:50:46.917755\n",
      "Epoch [15600/30000], Loss: 3.2332, time: 20:50:47.807823\n",
      "Epoch [15700/30000], Loss: 3.1300, time: 20:50:48.697902\n",
      "Epoch [15800/30000], Loss: 3.0301, time: 20:50:49.594713\n",
      "Epoch [15900/30000], Loss: 2.9333, time: 20:50:50.487821\n",
      "Epoch [16000/30000], Loss: 2.8396, time: 20:50:51.382672\n",
      "Epoch [16100/30000], Loss: 2.7489, time: 20:50:52.275755\n",
      "Epoch [16200/30000], Loss: 2.6611, time: 20:50:53.190130\n",
      "Epoch [16300/30000], Loss: 2.5762, time: 20:50:54.087012\n",
      "Epoch [16400/30000], Loss: 2.4941, time: 20:50:54.982965\n",
      "Epoch [16500/30000], Loss: 2.4147, time: 20:50:55.874241\n",
      "Epoch [16600/30000], Loss: 2.3379, time: 20:50:56.765066\n",
      "Epoch [16700/30000], Loss: 2.2638, time: 20:50:57.659957\n",
      "Epoch [16800/30000], Loss: 2.1921, time: 20:50:58.555175\n",
      "Epoch [16900/30000], Loss: 2.1230, time: 20:50:59.447897\n",
      "Epoch [17000/30000], Loss: 2.0562, time: 20:51:00.347080\n",
      "Epoch [17100/30000], Loss: 1.9918, time: 20:51:01.240907\n",
      "Epoch [17200/30000], Loss: 1.9296, time: 20:51:02.129678\n",
      "Epoch [17300/30000], Loss: 1.8697, time: 20:51:03.026058\n",
      "Epoch [17400/30000], Loss: 1.8119, time: 20:51:03.937684\n",
      "Epoch [17500/30000], Loss: 1.7562, time: 20:51:04.835504\n",
      "Epoch [17600/30000], Loss: 1.7025, time: 20:51:05.730030\n",
      "Epoch [17700/30000], Loss: 1.6508, time: 20:51:06.646234\n",
      "Epoch [17800/30000], Loss: 1.6010, time: 20:51:07.554082\n",
      "Epoch [17900/30000], Loss: 1.5531, time: 20:51:08.457670\n",
      "Epoch [18000/30000], Loss: 1.5070, time: 20:51:09.349866\n",
      "Epoch [18100/30000], Loss: 1.4627, time: 20:51:10.250710\n",
      "Epoch [18200/30000], Loss: 1.4201, time: 20:51:11.151603\n",
      "Epoch [18300/30000], Loss: 1.3791, time: 20:51:12.041239\n",
      "Epoch [18400/30000], Loss: 1.3398, time: 20:51:12.916658\n",
      "Epoch [18500/30000], Loss: 1.3019, time: 20:51:13.793524\n",
      "Epoch [18600/30000], Loss: 1.2656, time: 20:51:14.671305\n",
      "Epoch [18700/30000], Loss: 1.2308, time: 20:51:15.609137\n",
      "Epoch [18800/30000], Loss: 1.1973, time: 20:51:16.507969\n",
      "Epoch [18900/30000], Loss: 1.1652, time: 20:51:17.412187\n",
      "Epoch [19000/30000], Loss: 1.1344, time: 20:51:18.305191\n",
      "Epoch [19100/30000], Loss: 1.1049, time: 20:51:19.196688\n",
      "Epoch [19200/30000], Loss: 1.0766, time: 20:51:20.095131\n",
      "Epoch [19300/30000], Loss: 1.0494, time: 20:51:20.990386\n",
      "Epoch [19400/30000], Loss: 1.0234, time: 20:51:21.889233\n",
      "Epoch [19500/30000], Loss: 0.9985, time: 20:51:22.782097\n",
      "Epoch [19600/30000], Loss: 0.9746, time: 20:51:23.671604\n",
      "Epoch [19700/30000], Loss: 0.9517, time: 20:51:24.582932\n",
      "Epoch [19800/30000], Loss: 0.9298, time: 20:51:25.477680\n",
      "Epoch [19900/30000], Loss: 0.9088, time: 20:51:26.374696\n",
      "Epoch [20000/30000], Loss: 0.8886, time: 20:51:27.268937\n",
      "Epoch [20100/30000], Loss: 0.8694, time: 20:51:28.162582\n",
      "Epoch [20200/30000], Loss: 0.8509, time: 20:51:29.060538\n",
      "Epoch [20300/30000], Loss: 0.8332, time: 20:51:29.956650\n",
      "Epoch [20400/30000], Loss: 0.8162, time: 20:51:30.845729\n",
      "Epoch [20500/30000], Loss: 0.8000, time: 20:51:31.737768\n",
      "Epoch [20600/30000], Loss: 0.7844, time: 20:51:32.624172\n",
      "Epoch [20700/30000], Loss: 0.7695, time: 20:51:33.524021\n",
      "Epoch [20800/30000], Loss: 0.7553, time: 20:51:34.419433\n",
      "Epoch [20900/30000], Loss: 0.7416, time: 20:51:35.324384\n",
      "Epoch [21000/30000], Loss: 0.7285, time: 20:51:36.221544\n",
      "Epoch [21100/30000], Loss: 0.7159, time: 20:51:37.117809\n",
      "Epoch [21200/30000], Loss: 0.7038, time: 20:51:38.016306\n",
      "Epoch [21300/30000], Loss: 0.6923, time: 20:51:38.909660\n",
      "Epoch [21400/30000], Loss: 0.6812, time: 20:51:39.806154\n",
      "Epoch [21500/30000], Loss: 0.6706, time: 20:51:40.695061\n",
      "Epoch [21600/30000], Loss: 0.6604, time: 20:51:41.588106\n",
      "Epoch [21700/30000], Loss: 0.6507, time: 20:51:42.476756\n",
      "Epoch [21800/30000], Loss: 0.6413, time: 20:51:43.363869\n",
      "Epoch [21900/30000], Loss: 0.6323, time: 20:51:44.251031\n",
      "Epoch [22000/30000], Loss: 0.6237, time: 20:51:45.142902\n",
      "Epoch [22100/30000], Loss: 0.6154, time: 20:51:46.058571\n",
      "Epoch [22200/30000], Loss: 0.6075, time: 20:51:46.957643\n",
      "Epoch [22300/30000], Loss: 0.5998, time: 20:51:47.851340\n",
      "Epoch [22400/30000], Loss: 0.5925, time: 20:51:48.744653\n",
      "Epoch [22500/30000], Loss: 0.5855, time: 20:51:49.639677\n",
      "Epoch [22600/30000], Loss: 0.5787, time: 20:51:50.531041\n",
      "Epoch [22700/30000], Loss: 0.5722, time: 20:51:51.421456\n",
      "Epoch [22800/30000], Loss: 0.5659, time: 20:51:52.315040\n",
      "Epoch [22900/30000], Loss: 0.5599, time: 20:51:53.201949\n",
      "Epoch [23000/30000], Loss: 0.5540, time: 20:51:54.092535\n",
      "Epoch [23100/30000], Loss: 0.5484, time: 20:51:54.986589\n",
      "Epoch [23200/30000], Loss: 0.5431, time: 20:51:55.877588\n",
      "Epoch [23300/30000], Loss: 0.5379, time: 20:51:56.786480\n"
     ]
    }
   ],
   "source": [
    "num_epochs = 30000\n",
    "alpha = 0.0001\n",
    "n = 16\n",
    "\n",
    "u = gradient_descent(n, alpha, m, num_epochs, trained_model, objective_function)"
   ]
  },
  {
   "cell_type": "markdown",
   "metadata": {},
   "source": []
  },
  {
   "cell_type": "markdown",
   "metadata": {},
   "source": [
    "From the paper \"Convergence of the forward-backward sweep method in optimal control\" by Michael McAsey et al, we know that analytical solution for this problem is:\n",
    "\n",
    "$$x(t) = \\frac{\\sqrt{2}\\cosh(\\sqrt{2}(t-1)) - \\sinh(\\sqrt{2}(t-1))}{\\sqrt{2}\\cosh(\\sqrt{2})+\\sinh{\\sqrt{2}}}$$\n",
    "$$u(t) = \\frac{\\sinh(\\sqrt{2}(t-1))}{\\sqrt{2}\\cosh(\\sqrt{2})+\\sinh{\\sqrt{2}}}$$"
   ]
  },
  {
   "cell_type": "code",
   "execution_count": 138,
   "metadata": {},
   "outputs": [
    {
     "name": "stderr",
     "output_type": "stream",
     "text": [
      "/tmp/ipykernel_586488/2452070342.py:2: DeprecationWarning: __array_wrap__ must accept context and return_scalar arguments (positionally) in the future. (Deprecated NumPy 2.0)\n",
      "  numerator = np.sqrt(2) * np.cosh(np.sqrt(2) * (t - 1)) - np.sinh(np.sqrt(2) * (t - 1))\n",
      "/tmp/ipykernel_586488/2452070342.py:7: DeprecationWarning: __array_wrap__ must accept context and return_scalar arguments (positionally) in the future. (Deprecated NumPy 2.0)\n",
      "  numerator = np.sinh(np.sqrt(2) * (t - 1))\n"
     ]
    },
    {
     "data": {
      "text/plain": [
       "<matplotlib.legend.Legend at 0x7f6c36bfebc0>"
      ]
     },
     "execution_count": 138,
     "metadata": {},
     "output_type": "execute_result"
    },
    {
     "data": {
      "image/png": "[encoded data removed]",
      "text/plain": [
       "<Figure size 640x480 with 1 Axes>"
      ]
     },
     "metadata": {},
     "output_type": "display_data"
    }
   ],
   "source": [
    "def analytical_x(t):\n",
    "    numerator = np.sqrt(2) * np.cosh(np.sqrt(2) * (t - 1)) - np.sinh(np.sqrt(2) * (t - 1))\n",
    "    denominator = np.sqrt(2) * np.cosh(np.sqrt(2)) + np.sinh(np.sqrt(2))\n",
    "    return numerator / denominator\n",
    "\n",
    "def analytical_u(t):\n",
    "    numerator = np.sinh(np.sqrt(2) * (t - 1))\n",
    "    denominator = np.sqrt(2) * np.cosh(np.sqrt(2)) + np.sinh(np.sqrt(2))\n",
    "    return numerator / denominator\n",
    "\n",
    "\n",
    "t = torch.linspace(0, end_time, m).unsqueeze(1) \n",
    "plt.plot(analytical_x(t), label=\"Analytical x\")\n",
    "t = torch.linspace(0, end_time, m, device=device)\n",
    "\n",
    "x = trained_model(u.unsqueeze(0),t.unsqueeze(1)).cpu().detach().numpy().T\n",
    "plt.plot(x, label=\"Found x\")\n",
    "t = torch.linspace(0, end_time, m).unsqueeze(1) \n",
    "plt.plot(analytical_u(t), label=\"Analytical u\")\n",
    "plt.plot(u.cpu().detach().numpy().T, label=\"Found u\")\n",
    "plt.legend()\n",
    "plt.legend()"
   ]
  }
 ],
 "metadata": {
  "kernelspec": {
   "display_name": ".venv",
   "language": "python",
   "name": "python3"
  },
  "language_info": {
   "codemirror_mode": {
    "name": "ipython",
    "version": 3
   },
   "file_extension": ".py",
   "mimetype": "text/x-python",
   "name": "python",
   "nbconvert_exporter": "python",
   "pygments_lexer": "ipython3",
   "version": "3.10.12"
  }
 },
 "nbformat": 4,
 "nbformat_minor": 2
}

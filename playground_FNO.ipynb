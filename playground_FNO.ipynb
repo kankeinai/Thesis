{
 "cells": [
  {
   "cell_type": "markdown",
   "metadata": {},
   "source": [
    "# Notebook \\#2 - Fourier Neural Operator"
   ]
  },
  {
   "cell_type": "markdown",
   "metadata": {},
   "source": [
    "In this jupyter notebook, we are going to cover how Fourier Neural Operator can be used to solve a control problem that has differential equation as one of the constraint. The structure of the notebooks is as follows:\n",
    "- Preinstall and import all needed libraries\n",
    "- Generate a training dataset \n",
    "- Train operator\n",
    "- Solve optimization problem\n",
    "- Compare with analytical solution"
   ]
  },
  {
   "cell_type": "code",
   "execution_count": null,
   "metadata": {},
   "outputs": [],
   "source": [
    "#Make sure that you have installed all dependencies\n",
    "#pip install -r requirements.txt\n",
    "\n",
    "from torch.utils.data import DataLoader\n",
    "import numpy as np\n",
    "\n",
    "# utils folder contains all the functions to load the data, train the model and plot the results\n",
    "# models folder contains the model architectures\n",
    "from utils.data import MultiFunctionDatasetODE, custom_collate_ODE_fn_fno \n",
    "from utils.scripts import *\n",
    "from models.fno import *\n",
    "\n",
    "device = torch.device('cuda' if torch.cuda.is_available() else 'cpu')"
   ]
  },
  {
   "cell_type": "markdown",
   "metadata": {},
   "source": [
    "# Generate dataset"
   ]
  },
  {
   "cell_type": "markdown",
   "metadata": {},
   "source": [
    "Suppose we have a parametric differential equation. This can be any arbitrary ode/pde, but for the sake of simplicity, let it be:\n",
    "$$\\frac{dx}{dt} - x(t) + u(t) = 0$$\n",
    "where $u(t)$ is some arbitrary function or \"parameter\". And $x(t)$ is such function that ode is solved correctly.\n",
    "\n",
    "We would like to train a model that can learn a mapping $u(t)\\rightarrow x(t)$\n",
    "\n",
    "At first we need to generate a dataset. This can be done using `MultiFunctionDatasetODE` function. It would generate 1000000 functions of different function families (`'grf', 'linear', 'sine', 'polynomial', 'constant'`). \n",
    "\n",
    "The time range would be $[0,1]$. For the Fourier Neural Operator, time should be discretized. In our case we set `m=200`, implying \"200 sensors\" or measurments. \n",
    "\n",
    "We split this into batches of size `1024`"
   ]
  },
  {
   "cell_type": "code",
   "execution_count": 3,
   "metadata": {},
   "outputs": [],
   "source": [
    "n_functions = 1000000\n",
    "end_time = 1.0\n",
    "m = 200\n",
    "batch_size = 1024\n",
    "t_grid = torch.linspace(0, end_time, m).unsqueeze(0).repeat(batch_size, 1).unsqueeze(-1)\n",
    "\n",
    "dataset = MultiFunctionDatasetODE(\n",
    "    m=m,\n",
    "    n_functions=n_functions,\n",
    "    function_types=['grf', 'linear', 'sine', 'polynomial', 'constant'],\n",
    "    end_time=end_time,\n",
    "    num_domain=m,\n",
    "    num_initial=20,\n",
    "    grf_lb=0.02,\n",
    "    grf_ub=0.5\n",
    ")\n",
    "\n",
    "dataloader = DataLoader(dataset, batch_size=batch_size, collate_fn=custom_collate_ODE_fn_fno, shuffle=True)"
   ]
  },
  {
   "cell_type": "markdown",
   "metadata": {},
   "source": [
    "# Fourier Neural Operator"
   ]
  },
  {
   "cell_type": "markdown",
   "metadata": {},
   "source": [
    "You can find source code of the FNO in the `models/fno.py` file."
   ]
  },
  {
   "cell_type": "markdown",
   "metadata": {},
   "source": [
    "## Theory"
   ]
  },
  {
   "cell_type": "markdown",
   "metadata": {},
   "source": [
    "The Fourier Neural Operator (FNO) learns mappings between function spaces by parameterizing convolution in the frequency domain. Rather than learning a dense spatial kernel, each fourier layer performs:\n",
    "\n",
    "- Forward FFT of the input field\n",
    "- Spectral filtering via learnable complex weights on a limited set of low-frequency modes\n",
    "- Inverse FFT back to the spatial domain\n",
    "- This yields an $\\mathcal{O}(N\\log N)$ layer that captures global interactions efficiently."
   ]
  },
  {
   "cell_type": "markdown",
   "metadata": {},
   "source": [
    "### `SpectralConv1d`\n",
    "\n",
    "Role: Implements one-dimensional spectral convolution over input channels.\n",
    "\n",
    "Key parameters:\n",
    "- `in_channels` / out_channels: feature dimensions before/after convolution\n",
    "- `modes1`: number of lowest Fourier modes to keep\n",
    "- `weights1`: learnable complex weights of shape `(in_channels, out_channels, modes1)`\n",
    "\n",
    "### `SimpleBlock1d`\n",
    "\n",
    "Role: Builds a single FNO “layer block” with four spectral convolutions and pointwise shortcuts.\n",
    "\n",
    "Key components:\n",
    "- Input lift: a linear layer that maps 2-dimensional per‐point inputs (e.g. `[u, t]`) into a higher‐dimensional feature space (width)\n",
    "- Spectral branches: four instances of SpectralConv1d, each paired with a 1×1 convolution for local (pointwise) mixing\n",
    "- Activations: `GELU` after each combined spectral + pointwise output, except the final\n",
    "- Projection: two fully connected layers that map from width back down to a scalar output per point\n",
    "\n",
    "\n",
    "### `FNO1d`\n",
    "\n",
    "Role: A thin wrapper exposing a single SimpleBlock1d as the overall model.\n",
    "\n",
    "Inputs:\n",
    "- `u` (batch of spatial fields), shape `(B, N)`\n",
    "- `t` (auxiliary feature, e.g. time coordinate), shape `(B, N, 1)`\n",
    "\n",
    "Parameters:\n",
    "- `modes`: controls how many Fourier modes are retained in each spectral convolution\n",
    "- `width`: hidden feature dimension inside the block\n",
    "\n",
    "Forward pass:\n",
    "- Concatenate u and t along the last axis → per‐point 2D vector\n",
    "- Feed into the single SimpleBlock1d\n",
    "- Output a scalar field `(B, N, 1)`\n"
   ]
  },
  {
   "cell_type": "markdown",
   "metadata": {},
   "source": [
    "## Practicalities"
   ]
  },
  {
   "cell_type": "markdown",
   "metadata": {},
   "source": [
    "***Choice of modes:***\n",
    "Balances resolution (higher modes capture finer variations) against stability and overfitting.\n",
    "\n",
    "***Choice of width:***\n",
    "Affects model capacity; larger widths can model more complex operators but increase compute.\n",
    "\n",
    "***Computational cost:***\n",
    "Each spectral conv uses FFT/​iFFT (cost $\\sim N\\log N$) plus a small complex‐weight multiplication on modes channels."
   ]
  },
  {
   "cell_type": "markdown",
   "metadata": {},
   "source": [
    "## Train model"
   ]
  },
  {
   "cell_type": "markdown",
   "metadata": {},
   "source": [
    "The workflow is simple. To create a model, you need to call `FNO1d()`. It has only input parameters `modes` and `width`."
   ]
  },
  {
   "cell_type": "code",
   "execution_count": 4,
   "metadata": {},
   "outputs": [],
   "source": [
    "model = FNO1d(modes=16, width=64).to(device)"
   ]
  },
  {
   "cell_type": "markdown",
   "metadata": {},
   "source": [
    "Then you need to define `optimizer` and `scheduler` with any preferable settings"
   ]
  },
  {
   "cell_type": "code",
   "execution_count": 5,
   "metadata": {},
   "outputs": [],
   "source": [
    "step_size = 100\n",
    "gamma = 0.9\n",
    "learning_rate = 0.001\n",
    "\n",
    "optimizer = torch.optim.Adam(model.parameters(), lr=learning_rate, weight_decay=1e-4)\n",
    "scheduler = torch.optim.lr_scheduler.StepLR(optimizer, step_size=step_size, gamma=gamma)"
   ]
  },
  {
   "cell_type": "markdown",
   "metadata": {},
   "source": [
    "To train FNO, you need to use your custom train function that depends on your problem. In our case, we have `train_fno()` from `utils.scripts.py`\n",
    "\n",
    "Notice that `train_fno()` uses function `compute_loss()`, which is defined in the same file. Basically, this functions tells FNO that we are trying to learn:\n",
    "$$\\frac{dx}{dt} + x(t) - u(t) = 0$$\n",
    "$$x(0) = 1$$\n",
    "$$t\\in[0,1]$$\n",
    "\n",
    "Thus, in this problem we have 2 \"sources of loss\": initial and physics loss. You can define variable `w` to set different weights to either of losses. \n",
    "\n",
    "After every `epoch`, model is saved. Make sure to define a folder where you want to store models. By default, it is `trained_models/fno`"
   ]
  },
  {
   "cell_type": "code",
   "execution_count": 8,
   "metadata": {},
   "outputs": [
    {
     "name": "stdout",
     "output_type": "stream",
     "text": [
      "Epoch [1/1], Loss: 0.006708, Time: 173.834647 s\n"
     ]
    }
   ],
   "source": [
    "epochs = 1\n",
    "trained_model = train_fno(model, dataloader, optimizer, scheduler, epochs, t_grid, logging=False)"
   ]
  },
  {
   "cell_type": "markdown",
   "metadata": {},
   "source": [
    "## Load pre-trained model"
   ]
  },
  {
   "cell_type": "markdown",
   "metadata": {},
   "source": [
    "Or you can just load pre-trained model as usually"
   ]
  },
  {
   "cell_type": "code",
   "execution_count": 2,
   "metadata": {},
   "outputs": [
    {
     "data": {
      "text/plain": [
       "FNO1d(\n",
       "  (conv1): SimpleBlock1d(\n",
       "    (fc0): Linear(in_features=2, out_features=64, bias=True)\n",
       "    (conv0): SpectralConv1d()\n",
       "    (conv1): SpectralConv1d()\n",
       "    (conv2): SpectralConv1d()\n",
       "    (conv3): SpectralConv1d()\n",
       "    (w0): Conv1d(64, 64, kernel_size=(1,), stride=(1,))\n",
       "    (w1): Conv1d(64, 64, kernel_size=(1,), stride=(1,))\n",
       "    (w2): Conv1d(64, 64, kernel_size=(1,), stride=(1,))\n",
       "    (w3): Conv1d(64, 64, kernel_size=(1,), stride=(1,))\n",
       "    (fc1): Linear(in_features=64, out_features=128, bias=True)\n",
       "    (fc2): Linear(in_features=128, out_features=1, bias=True)\n",
       "  )\n",
       ")"
      ]
     },
     "execution_count": 2,
     "metadata": {},
     "output_type": "execute_result"
    }
   ],
   "source": [
    "trained_model = FNO1d(modes=16, width=64)\n",
    "trained_model.to(device)\n",
    "trained_model.load_state_dict(torch.load('trained_models/fno/width-[64]-modes[16]/model_epoch10_20250421-212647_loss0.0013.pth'))\n",
    "trained_model.eval()  #"
   ]
  },
  {
   "cell_type": "markdown",
   "metadata": {},
   "source": [
    "# Solve Control Problem"
   ]
  },
  {
   "cell_type": "markdown",
   "metadata": {},
   "source": [
    "Once we succesefully trained Fourier Neural Operator. We can solve next control problem:\n",
    "$$\\text{min}_u \\ \\int_{0}^{1} (x^2 + u^2)dt$$\n",
    "$$\\text{s.t.} \\ \\frac{dx}{dt} = x - u$$\n",
    "$$ x(0) = 1$$\n",
    "\n",
    "***Note:*** everything related to implementation of objective function was explained in a notebook related to Deep-O-Net in `playground.ipynb`\n",
    "\n",
    "Idea is simple, we have a model that maps $u$ to $x$. We can start from some random function $u$, find $x$ that solves ode and initial condition using NN. Calculate objective function:\n",
    "$$\\text{min}_u \\ \\int_{0}^{1} (x^2 + u^2)dt$$\n",
    "Update $u$ and repeat process again. \n",
    "\n",
    "The whole process relies on the fact that FNO indeed can provide solution $x$.\n",
    "\n",
    "`optimize_neural_operator()` solves this problem given pretrained FNO model. Notice that it has as input parameter `objective_function()` "
   ]
  },
  {
   "cell_type": "code",
   "execution_count": 3,
   "metadata": {},
   "outputs": [
    {
     "name": "stdout",
     "output_type": "stream",
     "text": [
      "Epoch [100/1500], Loss: 0.4376, time: 01:11:45.237344\n",
      "Epoch [200/1500], Loss: 0.4142, time: 01:11:45.622864\n",
      "Epoch [300/1500], Loss: 0.4009, time: 01:11:46.006740\n",
      "Epoch [400/1500], Loss: 0.3933, time: 01:11:46.433052\n",
      "Epoch [500/1500], Loss: 0.3891, time: 01:11:46.815849\n",
      "Epoch [600/1500], Loss: 0.3867, time: 01:11:47.200269\n",
      "Epoch [700/1500], Loss: 0.3854, time: 01:11:47.578745\n",
      "Epoch [800/1500], Loss: 0.3847, time: 01:11:47.957770\n",
      "Epoch [900/1500], Loss: 0.3844, time: 01:11:48.338174\n",
      "Epoch [1000/1500], Loss: 0.3842, time: 01:11:48.718355\n",
      "Epoch [1100/1500], Loss: 0.3841, time: 01:11:49.100082\n",
      "Epoch [1200/1500], Loss: 0.3840, time: 01:11:49.481113\n",
      "Epoch [1300/1500], Loss: 0.3840, time: 01:11:49.860621\n",
      "Epoch [1400/1500], Loss: 0.3840, time: 01:11:50.238510\n",
      "Epoch [1500/1500], Loss: 0.3840, time: 01:11:50.617301\n"
     ]
    }
   ],
   "source": [
    "m = 200 \n",
    "end_time = 1\n",
    "epochs = 1500\n",
    "learning_rate = 0.001\n",
    "\n",
    "u_opt, x_opt, t_opt = optimize_neural_operator(trained_model, objective_function, m, end_time, epochs, learning_rate, model_name=\"fno\")"
   ]
  },
  {
   "cell_type": "markdown",
   "metadata": {},
   "source": [
    "## Comparison with analytical solution"
   ]
  },
  {
   "cell_type": "markdown",
   "metadata": {},
   "source": [
    "From the paper \"Convergence of the forward-backward sweep method in optimal control\" by Michael McAsey et al, we know that analytical solution for this problem is:\n",
    "\n",
    "$$x(t) = \\frac{\\sqrt{2}\\cosh(\\sqrt{2}(t-1)) - \\sinh(\\sqrt{2}(t-1))}{\\sqrt{2}\\cosh(\\sqrt{2})+\\sinh{\\sqrt{2}}}$$\n",
    "$$u(t) = \\frac{\\sinh(\\sqrt{2}(t-1))}{\\sqrt{2}\\cosh(\\sqrt{2})+\\sinh{\\sqrt{2}}}$$\n",
    "\n",
    "We can use these functions to confirm that we indeed found an optimal solution."
   ]
  },
  {
   "cell_type": "code",
   "execution_count": 4,
   "metadata": {},
   "outputs": [],
   "source": [
    "def analytical_x(t):\n",
    "    numerator = np.sqrt(2) * np.cosh(np.sqrt(2) * (t - 1)) - np.sinh(np.sqrt(2) * (t - 1))\n",
    "    denominator = np.sqrt(2) * np.cosh(np.sqrt(2)) + np.sinh(np.sqrt(2))\n",
    "    return numerator / denominator\n",
    "\n",
    "def analytical_u(t):\n",
    "    numerator = np.sinh(np.sqrt(2) * (t - 1))\n",
    "    denominator = np.sqrt(2) * np.cosh(np.sqrt(2)) + np.sinh(np.sqrt(2))\n",
    "    return numerator / denominator\n",
    "\n",
    "# Generate time grid for plotting\n",
    "t_plot = np.linspace(0, end_time, m)  # m points from 0 to end_time\n",
    "\n",
    "# Evaluate analytical solutions on the grid\n",
    "analytical_x_vals = analytical_x(t_plot)\n",
    "analytical_u_vals = analytical_u(t_plot)\n",
    "\n",
    "# Extract model-found solutions and move to NumPy for comparison\n",
    "x_found = x_opt.cpu().detach().numpy().flatten()\n",
    "u_found = u_opt.cpu().detach().numpy().flatten()\n",
    "\n",
    "# Prepare a tensor of the analytical u values for potential model input\n",
    "u_tensor = torch.from_numpy(analytical_u_vals).float().unsqueeze(0).to(device)  "
   ]
  },
  {
   "cell_type": "markdown",
   "metadata": {},
   "source": [
    "As you can see from the plot below, using FNO we managed to find solution close to analytical one. To train FNO, we did `10 epochs`, which approximatelly took 30 minutes. We had next input parameters `width=64`, `modes=16`\n",
    "\n",
    "But, we could even use model trained on `3 epochs`\n",
    "\n",
    "For the true $u(t)$, FNO outputs perfect $x(t)$ as analytical one. For some reason, the found solution for at $t=0$ has an \"abrupt jump\". "
   ]
  },
  {
   "cell_type": "code",
   "execution_count": 6,
   "metadata": {},
   "outputs": [
    {
     "data": {
      "image/png": "[encoded data removed]",
      "text/plain": [
       "<Figure size 1000x600 with 1 Axes>"
      ]
     },
     "metadata": {},
     "output_type": "display_data"
    }
   ],
   "source": [
    "plot_analytical_and_found_solutions(t_plot, analytical_x_vals, x_found, analytical_u_vals, u_found)"
   ]
  }
 ],
 "metadata": {
  "kernelspec": {
   "display_name": ".venv",
   "language": "python",
   "name": "python3"
  },
  "language_info": {
   "codemirror_mode": {
    "name": "ipython",
    "version": 3
   },
   "file_extension": ".py",
   "mimetype": "text/x-python",
   "name": "python",
   "nbconvert_exporter": "python",
   "pygments_lexer": "ipython3",
   "version": "3.10.12"
  }
 },
 "nbformat": 4,
 "nbformat_minor": 2
}
